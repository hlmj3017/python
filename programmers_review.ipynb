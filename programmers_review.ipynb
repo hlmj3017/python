{
 "cells": [
  {
   "cell_type": "code",
   "execution_count": 1,
   "id": "de6c996a-d022-40e8-9398-b2ce033f90df",
   "metadata": {},
   "outputs": [
    {
     "name": "stdin",
     "output_type": "stream",
     "text": [
      "오늘 날씨 어때요? 비\n"
     ]
    },
    {
     "name": "stdout",
     "output_type": "stream",
     "text": [
      "우산을 챙기세요.\n"
     ]
    }
   ],
   "source": [
    "weather = input('오늘 날씨 어때요?')\n",
    "\n",
    "if weather == '비' or weather == '눈':\n",
    "    print('우산을 챙기세요.')\n",
    "elif weather == '미세먼지':\n",
    "    print('마스크를 챙기세요.')\n",
    "else:\n",
    "    print('준비물 필요 없어요.')"
   ]
  },
  {
   "cell_type": "code",
   "execution_count": 2,
   "id": "6edf92ee-cc97-45d9-a78c-67428e24f40a",
   "metadata": {},
   "outputs": [
    {
     "name": "stdout",
     "output_type": "stream",
     "text": [
      "30\n",
      "6\n"
     ]
    }
   ],
   "source": [
    "# 짝수의 합\n",
    "def solution(n):\n",
    "    answer = range(2, n+1, 2)\n",
    "    return sum(answer)\n",
    "\n",
    "print(solution(10))\n",
    "print(solution(4))"
   ]
  },
  {
   "cell_type": "code",
   "execution_count": 6,
   "id": "b2a6a4e8-bb31-4b0a-af7e-1986da5d0df5",
   "metadata": {},
   "outputs": [
    {
     "name": "stdout",
     "output_type": "stream",
     "text": [
      "30\n",
      "6\n"
     ]
    }
   ],
   "source": [
    "def solution(n):\n",
    "    answer = []\n",
    "\n",
    "    for i in range(n+1):\n",
    "        if i % 2 == 0:\n",
    "            answer.append(i)\n",
    "    return sum(answer)\n",
    "\n",
    "print(solution(10))\n",
    "print(solution(4))"
   ]
  },
  {
   "cell_type": "code",
   "execution_count": 7,
   "id": "e9eca7e7-5c92-4dd6-9ee7-43315ce42a53",
   "metadata": {},
   "outputs": [
    {
     "name": "stdout",
     "output_type": "stream",
     "text": [
      "30\n",
      "6\n"
     ]
    }
   ],
   "source": [
    "def solution(n):\n",
    "    answer = 0\n",
    "\n",
    "    for i in range(n+1):\n",
    "        if i % 2 == 0:\n",
    "            answer += i\n",
    "    return answer\n",
    "\n",
    "print(solution(10))\n",
    "print(solution(4))"
   ]
  },
  {
   "cell_type": "code",
   "execution_count": 1,
   "id": "9b884c1e-d3d9-47a2-819d-d0bfa2dc4914",
   "metadata": {},
   "outputs": [
    {
     "name": "stdout",
     "output_type": "stream",
     "text": [
      "edcba\n",
      "dcb\n",
      "dcba\n",
      "edcba\n",
      "edcba\n",
      "['e', 'd', 'c', 'b', 'a']\n",
      "('e', 'd', 'c', 'b', 'a')\n"
     ]
    }
   ],
   "source": [
    "s = 'abcde'\n",
    "print(s[::-1])  # 'edcba'\n",
    "\n",
    "# 문자열을 [::-1] 이라는 인덱스로 호출하면, 아주 단순하게 해당 문자열을 뒤집은 결과를 반환한다.\n",
    "#만약 [3:0:-1] 이라는 인덱스로 호출하면, 3번 인덱스부터 1번 인덱스까지(0번 까지가 아님) 역순으로 출력해준다.\n",
    "\n",
    "s = 'abcde'\n",
    "print(s[3:0:-1])  # dcb\n",
    "# [3::-1] 과 같이 출력하면 3번 인덱스부터 0번 인덱스까지 역순으로 출력해준다.\n",
    "\n",
    "s = 'abcde'\n",
    "print(s[3::-1])  # dcba\n",
    "# [4::-1] 은 4번 인덱스부터 0번 인덱스까지 역순으로 출력해주는데, 이 때 4번 인덱스가 마지막 인덱스라면 생략할 수 있다.\n",
    "\n",
    "s = 'abcde'\n",
    "print(s[4::-1])  # edcba\n",
    "print(s[::-1])  # edcba\n",
    "# 그래서 결과적으로 [::-1] 인덱스를 주면 전체 문자열을 역순으로 출력해주는 것이다.\n",
    "# 문자열 뿐 아니라 리스트나 튜플에도 적용 가능하다.\n",
    "\n",
    "l = ['a', 'b', 'c', 'd', 'e']\n",
    "print(l[::-1])  # ['e', 'd', 'c', 'b', 'a']\n",
    "\n",
    "t = ('a', 'b', 'c', 'd', 'e')\n",
    "print(t[::-1])  # ('e', 'd', 'c', 'b', 'a')"
   ]
  },
  {
   "cell_type": "code",
   "execution_count": null,
   "id": "955814ec-cbae-4d82-98c4-15c0cb70a8d5",
   "metadata": {},
   "outputs": [],
   "source": []
  },
  {
   "cell_type": "code",
   "execution_count": 1,
   "id": "25e9ab88-d844-49d3-84f9-c7ebf8362373",
   "metadata": {},
   "outputs": [
    {
     "name": "stdout",
     "output_type": "stream",
     "text": [
      "1\n",
      "2\n",
      "3\n"
     ]
    }
   ],
   "source": [
    "# 각도기\n",
    "def solution(angle):\n",
    "    if angle < 90:\n",
    "        return 1\n",
    "    elif angle == 90:\n",
    "        return 2\n",
    "    elif angle > 90 and angle < 180:\n",
    "        return 3\n",
    "    else:\n",
    "        return 4\n",
    "\n",
    "\n",
    "# def solution(angle):\n",
    "#     answer = (angle // 90) * 2 + (angle % 90 > 0) * 1\n",
    "#     return answer\n",
    "\n",
    "\n",
    "print(solution(70))       \n",
    "print(solution(90)) \n",
    "print(solution(150)) "
   ]
  },
  {
   "cell_type": "code",
   "execution_count": 4,
   "id": "2acf70f3-a1f9-4500-9209-5d3009bf0c65",
   "metadata": {},
   "outputs": [
    {
     "name": "stdout",
     "output_type": "stream",
     "text": [
      "30\n",
      "6\n"
     ]
    }
   ],
   "source": [
    "# 짝수의 합\n",
    "# 정수 n이 주어질 때, n이하의 짝수를 모두 더한 값을 return 하도록 solution 함수를 작성해주세요.\n",
    "\n",
    "def solution(n):\n",
    "    answer = 0\n",
    "    for i in range(n+1):\n",
    "        if i % 2 == 0:\n",
    "            answer += i\n",
    "    return answer\n",
    "\n",
    "print(solution(10))\n",
    "print(solution(4))"
   ]
  },
  {
   "cell_type": "code",
   "execution_count": 3,
   "id": "0d93c056-4d03-4bb5-9c12-e03cfd57f95c",
   "metadata": {},
   "outputs": [
    {
     "name": "stdout",
     "output_type": "stream",
     "text": [
      "30\n",
      "6\n"
     ]
    }
   ],
   "source": [
    "def solution(n):\n",
    "    answer = range(2, n+1, 2)\n",
    "    return sum(answer)\n",
    "\n",
    "print(solution(10))\n",
    "print(solution(4))"
   ]
  },
  {
   "cell_type": "code",
   "execution_count": 5,
   "id": "1abfe321-ec69-4e0e-9cfb-a00e2f09c693",
   "metadata": {},
   "outputs": [
    {
     "name": "stdout",
     "output_type": "stream",
     "text": [
      "[2, 3, 3, 6]\n",
      "[1, 4, 12]\n"
     ]
    }
   ],
   "source": [
    "# 배열 원소의 길이\n",
    "# 문자열 배열 strlist가 매개변수로 주어집니다. strlist 각 원소의 길이를 담은 배열을 retrun하도록 solution 함수를 완성해주세요.\n",
    "\n",
    "def solution(strlist):\n",
    "    answer = []\n",
    "    for my_string in strlist:\n",
    "        answer.append(len(my_string))\n",
    "    return answer\n",
    "\n",
    "print(solution([\"We\", \"are\", \"the\", \"world!\"]))\n",
    "print(solution([\"I\", \"Love\", \"Programmers.\"]))"
   ]
  },
  {
   "cell_type": "code",
   "execution_count": 9,
   "id": "0ce0d438-4ec7-4c31-a3d0-0d8b06e69e2d",
   "metadata": {},
   "outputs": [
    {
     "name": "stdout",
     "output_type": "stream",
     "text": [
      "[5, 4, 3, 2, 1]\n"
     ]
    }
   ],
   "source": [
    "# 배열 뒤집기\n",
    "# 정수가 들어 있는 배열 num_list가 매개변수로 주어집니다. num_list의 원소의 순서를 거꾸로 뒤집은 배열을 return하도록 solution 함수를 완성해주세요.\n",
    "\n",
    "def solution(num_list):\n",
    "    answer = []\n",
    "\n",
    "    for i in range(len(num_list)):\n",
    "        data = num_list[   len(num_list) - i - 1  ]\n",
    "        answer.append(data)\n",
    "\n",
    "    return answer\n",
    "\n",
    "print(solution([1, 2, 3, 4, 5]))"
   ]
  },
  {
   "cell_type": "code",
   "execution_count": 10,
   "id": "f7182336-df57-4440-af6d-ee09d5e97e4a",
   "metadata": {},
   "outputs": [
    {
     "name": "stdout",
     "output_type": "stream",
     "text": [
      "[5, 4, 3, 2, 1]\n"
     ]
    }
   ],
   "source": [
    "def solution(num_list):\n",
    "    answer = []\n",
    "    \n",
    "    for num in num_list:\n",
    "        answer.insert(0, num)\n",
    "\n",
    "    return answer\n",
    "    \n",
    "print(solution([1, 2, 3, 4, 5]))"
   ]
  },
  {
   "cell_type": "code",
   "execution_count": 17,
   "id": "e6c5960f-77d7-45a8-bb0f-3c176e1e38a9",
   "metadata": {},
   "outputs": [
    {
     "name": "stdout",
     "output_type": "stream",
     "text": [
      "10\n"
     ]
    }
   ],
   "source": [
    "# 자릿수 더하기\n",
    "# 정수 n이 매개변수로 주어질 때 n의 각 자리 숫자의 합을 return하도록 solution 함수를 완성해주세요\n",
    "\n",
    "def solution(n):\n",
    "    answer = 0\n",
    "\n",
    "    while n > 0:\n",
    "        a, b = divmod(n,10)\n",
    "\n",
    "        n = a\n",
    "        answer += b\n",
    "    return answer\n",
    "\n",
    "print(solution(1234))  "
   ]
  },
  {
   "cell_type": "code",
   "execution_count": 18,
   "id": "358a6ad8-d04e-42e2-8807-e17b5883bc0d",
   "metadata": {},
   "outputs": [
    {
     "name": "stdout",
     "output_type": "stream",
     "text": [
      "10\n"
     ]
    }
   ],
   "source": [
    "def solution(n):\n",
    "    answer=0\n",
    "\n",
    "    for i in str(n):\n",
    "        answer += int(i)\n",
    "\n",
    "    return answer\n",
    "\n",
    "print(solution(1234))  "
   ]
  },
  {
   "cell_type": "code",
   "execution_count": 20,
   "id": "7dbced99-ab79-4036-af1b-70577e216725",
   "metadata": {},
   "outputs": [
    {
     "name": "stdout",
     "output_type": "stream",
     "text": [
      "abcde\n"
     ]
    }
   ],
   "source": [
    "# 특정 문자 제거하기\n",
    "\n",
    "\n",
    "def solution(my_string, letter):\n",
    "    answer = ''\n",
    "    \n",
    "    for string in my_string:\n",
    "        if string != letter:\n",
    "            answer += string\n",
    "    \n",
    "    return answer\n",
    "\n",
    "print(solution(\"abcdef\", \"f\"))"
   ]
  },
  {
   "cell_type": "code",
   "execution_count": 21,
   "id": "6b7a91c3-2011-42c2-9b0a-156db7bca86d",
   "metadata": {},
   "outputs": [
    {
     "name": "stdout",
     "output_type": "stream",
     "text": [
      "abcde\n"
     ]
    }
   ],
   "source": [
    "def solution(my_string, letter):\n",
    "    answer = ''\n",
    "    \n",
    "    answer = my_string.replace(letter, '')\n",
    "    \n",
    "    return answer\n",
    "\n",
    "print(solution(\"abcdef\", \"f\"))"
   ]
  },
  {
   "cell_type": "code",
   "execution_count": 22,
   "id": "81bcb408-ca24-486c-9c6f-f0ac7329ebec",
   "metadata": {},
   "outputs": [
    {
     "name": "stdout",
     "output_type": "stream",
     "text": [
      "6\n",
      "9\n"
     ]
    }
   ],
   "source": [
    "# 순서쌍의 개수\n",
    "\n",
    "def solution(n):\n",
    "    answer = 0\n",
    "    \n",
    "    for num in range(1,n+1):\n",
    "        if n % num == 0:\n",
    "            answer += 1\n",
    "    return answer\n",
    "\n",
    "print(solution(20))\n",
    "print(solution(100))"
   ]
  },
  {
   "cell_type": "code",
   "execution_count": 23,
   "id": "0de8742f-a2ca-4fc5-b076-b93961e90d02",
   "metadata": {},
   "outputs": [
    {
     "name": "stdout",
     "output_type": "stream",
     "text": [
      "6\n",
      "9\n"
     ]
    }
   ],
   "source": [
    "def solution(n):\n",
    "    answer = 0\n",
    "    \n",
    "    for num in range(1, int(n ** 0.5) + 1):\n",
    "        if n % num == 0:\n",
    "            answer += 2\n",
    "            \n",
    "            if num * num == n:\n",
    "                answer -= 1\n",
    "    return answer\n",
    "\n",
    "print(solution(20))\n",
    "print(solution(100))"
   ]
  },
  {
   "cell_type": "code",
   "execution_count": 27,
   "id": "813b9b8b-b907-46c8-b026-04728419058d",
   "metadata": {},
   "outputs": [
    {
     "name": "stdout",
     "output_type": "stream",
     "text": [
      "20\n"
     ]
    }
   ],
   "source": [
    "# 최댓값 만들기\n",
    "\n",
    "def solution(numbers):\n",
    "    answer = 0\n",
    "    \n",
    "    for i in range(len(numbers)):\n",
    "        for j in range(i+1, len(numbers)):\n",
    "            # print(i, j)\n",
    "            result = numbers[i] * numbers[j]\n",
    "            \n",
    "            if answer < result:\n",
    "                answer = result\n",
    "    \n",
    "    return answer\n",
    "    \n",
    "print(solution([1, 2, 3, 4, 5]))"
   ]
  },
  {
   "cell_type": "code",
   "execution_count": 26,
   "id": "51cbf13e-7a98-42c8-bcf9-085d48ff3b8b",
   "metadata": {},
   "outputs": [
    {
     "name": "stdout",
     "output_type": "stream",
     "text": [
      "20\n"
     ]
    }
   ],
   "source": [
    "def solution(numbers):\n",
    "    answer = 0\n",
    "    \n",
    "    numbers.sort(reverse=True)\n",
    "    answer = numbers[0] * numbers[1]\n",
    "    \n",
    "    return answer\n",
    "\n",
    "print(solution([1, 2, 3, 4, 5]))"
   ]
  },
  {
   "cell_type": "code",
   "execution_count": 1,
   "id": "6a5a2ed0-bb95-4f85-8633-0066eff228e0",
   "metadata": {},
   "outputs": [
    {
     "name": "stdout",
     "output_type": "stream",
     "text": [
      "7\n"
     ]
    }
   ],
   "source": [
    "# 중앙값 구하기\n",
    "def solution(array):\n",
    "    array = sorted(array)\n",
    "    return array[len(array)//2]\n",
    "\n",
    "print(solution([1, 2, 7, 10, 11]))"
   ]
  },
  {
   "cell_type": "code",
   "execution_count": 2,
   "id": "a01b180d-3fd8-4d1d-a30c-3d4fb5976470",
   "metadata": {},
   "outputs": [
    {
     "ename": "ModuleNotFoundError",
     "evalue": "No module named 'numpy'",
     "output_type": "error",
     "traceback": [
      "\u001b[1;31m---------------------------------------------------------------------------\u001b[0m",
      "\u001b[1;31mModuleNotFoundError\u001b[0m                       Traceback (most recent call last)",
      "Cell \u001b[1;32mIn[2], line 1\u001b[0m\n\u001b[1;32m----> 1\u001b[0m \u001b[38;5;28;01mimport\u001b[39;00m \u001b[38;5;21;01mnumpy\u001b[39;00m \u001b[38;5;28;01mas\u001b[39;00m \u001b[38;5;21;01mnp\u001b[39;00m\n\u001b[0;32m      2\u001b[0m \u001b[38;5;28;01mdef\u001b[39;00m \u001b[38;5;21msolution\u001b[39m(array):\n\u001b[0;32m      3\u001b[0m     answer \u001b[38;5;241m=\u001b[39m np\u001b[38;5;241m.\u001b[39mmedian(array)\n",
      "\u001b[1;31mModuleNotFoundError\u001b[0m: No module named 'numpy'"
     ]
    }
   ],
   "source": [
    "import numpy as np\n",
    "def solution(array):\n",
    "    answer = np.median(array)\n",
    "    return answer\n",
    "\n",
    "print(solution([1, 2, 7, 10, 11]))"
   ]
  },
  {
   "cell_type": "code",
   "execution_count": 5,
   "id": "a92a4673-b641-4c0a-8480-c52ceab1316b",
   "metadata": {},
   "outputs": [
    {
     "name": "stdout",
     "output_type": "stream",
     "text": [
      "1\n",
      "1\n",
      "3\n"
     ]
    }
   ],
   "source": [
    "# 피자 나눠 먹기(1)\n",
    "# 내가 푼 풀이\n",
    "def solution(n):\n",
    "    if n % 7 == 0:\n",
    "        answer = n // 7\n",
    "    else:\n",
    "        answer = n // 7 + 1\n",
    "    return answer\n",
    "\n",
    "print(solution(7))\n",
    "print(solution(1))\n",
    "print(solution(15))"
   ]
  },
  {
   "cell_type": "code",
   "execution_count": 4,
   "id": "23e7bff1-620f-4fd0-bfa9-9f7a936b20c1",
   "metadata": {},
   "outputs": [
    {
     "name": "stdout",
     "output_type": "stream",
     "text": [
      "1\n",
      "1\n",
      "3\n"
     ]
    }
   ],
   "source": [
    "# 다른 풀이\n",
    "def solution(n):\n",
    "    return (n - 1) // 7 + 1\n",
    "\n",
    "print(solution(7))\n",
    "print(solution(1))\n",
    "print(solution(15))"
   ]
  },
  {
   "cell_type": "code",
   "execution_count": 7,
   "id": "6d262738-2d51-458a-b527-41c2ebfa4c63",
   "metadata": {},
   "outputs": [
    {
     "name": "stdout",
     "output_type": "stream",
     "text": [
      "2\n"
     ]
    }
   ],
   "source": [
    "# 배열의 유사도\n",
    "\n",
    "def solution(s1, s2):\n",
    "    return len(set(s1).intersection(s2))\n",
    "\n",
    "print(solution([\"a\", \"b\", \"c\"],[\"com\", \"b\", \"d\", \"p\", \"c\"]))"
   ]
  },
  {
   "cell_type": "code",
   "execution_count": 10,
   "id": "f7cf020d-12dd-403e-8ee7-06a4a0e3dcec",
   "metadata": {},
   "outputs": [
    {
     "name": "stdout",
     "output_type": "stream",
     "text": [
      "2\n"
     ]
    }
   ],
   "source": [
    "def solution(s1, s2):\n",
    "    return len(set(s1)&set(s2))\n",
    "\n",
    "print(solution([\"a\", \"b\", \"c\"],[\"com\", \"b\", \"d\", \"p\", \"c\"]))"
   ]
  },
  {
   "cell_type": "code",
   "execution_count": 11,
   "id": "1b9453c1-bdfe-4608-bbea-0128ae95db09",
   "metadata": {},
   "outputs": [
    {
     "name": "stdout",
     "output_type": "stream",
     "text": [
      "2\n"
     ]
    }
   ],
   "source": [
    "def solution(s1, s2):\n",
    "    count = 0\n",
    "\n",
    "    for val in s1:\n",
    "        if val in s2:\n",
    "            count += 1\n",
    "    return count\n",
    "\n",
    "print(solution([\"a\", \"b\", \"c\"],[\"com\", \"b\", \"d\", \"p\", \"c\"]))"
   ]
  },
  {
   "cell_type": "code",
   "execution_count": 7,
   "id": "1cfcd777-ab4d-4293-9904-a9e93265dc20",
   "metadata": {},
   "outputs": [
    {
     "name": "stdout",
     "output_type": "stream",
     "text": [
      "hhheeellllllooo\n"
     ]
    }
   ],
   "source": [
    "# 문자 반복 출력하기\n",
    "\n",
    "def solution(my_string, n):\n",
    "    answer = []\n",
    "    for i in my_string:\n",
    "        answer.append(i * n)\n",
    "    return ''.join(answer)\n",
    "\n",
    "print(solution(\"hello\", 3))"
   ]
  },
  {
   "cell_type": "code",
   "execution_count": 9,
   "id": "bdfded93-0965-4af1-ab7c-911e0da0e45d",
   "metadata": {},
   "outputs": [],
   "source": [
    "def solution(my_string, n):\n",
    "    return ''.join(i*n for i in my_string)"
   ]
  },
  {
   "cell_type": "code",
   "execution_count": 2,
   "id": "efb67a39-b776-43c1-8861-7f306af6211e",
   "metadata": {},
   "outputs": [
    {
     "name": "stdout",
     "output_type": "stream",
     "text": [
      "2\n"
     ]
    }
   ],
   "source": [
    "# 중복된 숫자 개수\n",
    "\n",
    "def solution(array, n):\n",
    "    answer = array.count(n)\n",
    "    return answer\n",
    "\n",
    "print(solution([1, 1, 2, 3, 4, 5], 1))"
   ]
  },
  {
   "cell_type": "code",
   "execution_count": 2,
   "id": "0fcc1580-ff59-4ab3-9045-2726a42b9f55",
   "metadata": {},
   "outputs": [
    {
     "name": "stdout",
     "output_type": "stream",
     "text": [
      "noraj\n"
     ]
    }
   ],
   "source": [
    "# 문자열 뒤집기\n",
    "# 내가 푼 풀이\n",
    "def solution(my_string):\n",
    "    answer = my_string[::-1]\n",
    "    return answer\n",
    "\n",
    "print(solution(\"jaron\"))"
   ]
  },
  {
   "cell_type": "code",
   "execution_count": 5,
   "id": "f9944e1a-eb50-4066-b65a-cf27f463cd1e",
   "metadata": {},
   "outputs": [
    {
     "name": "stdout",
     "output_type": "stream",
     "text": [
      "noraj\n"
     ]
    }
   ],
   "source": [
    "def solution(my_string):\n",
    "    return ''.join(list(reversed(my_string)))\n",
    "\n",
    "print(solution(\"jaron\"))"
   ]
  },
  {
   "cell_type": "code",
   "execution_count": 1,
   "id": "02dc7c77-f522-4d63-a8e0-6204bede5766",
   "metadata": {},
   "outputs": [
    {
     "name": "stdout",
     "output_type": "stream",
     "text": [
      "3\n"
     ]
    }
   ],
   "source": [
    "# 머쓱이보다 키 큰 사람\n",
    "\n",
    "# sort() : 리스트를 정렬하는 함수로, reverse = True로 하게 되면 내림차순으로 정렬이 가능하다. 또한 sort()는 리스트 자체를 변경해버린다. \n",
    "# sort()는 리스트의 함수로 리스트만을 받는다.\n",
    "# sorted() : sort()와 똑같은 기능을 하지만, 단, 리스트 자체를 변경하지 않고 정렬된 리스트를 새로 반환한다. \n",
    "# sorted()는 리스트 외에도 다양한 이터러블 객체도 받을 수 있다.\n",
    "# index() : [찾을 리스트].index(위치를 찾고자 하는 값) / 특정 리스트에서 특정 값이 몇 번째에 위치해 있는지 index 값을 반환해준다.\n",
    "\n",
    "def solution(array, height):\n",
    "    array.append(height)\n",
    "    array.sort(reverse=True)\n",
    "    return array.index(height)\n",
    "\n",
    "print(solution([149, 180, 192, 170], 167))"
   ]
  },
  {
   "cell_type": "code",
   "execution_count": 2,
   "id": "cfe3b91d-e8e8-408b-8057-b9c6694ccc74",
   "metadata": {},
   "outputs": [
    {
     "name": "stdout",
     "output_type": "stream",
     "text": [
      "3\n"
     ]
    }
   ],
   "source": [
    "def solution(array, height):\n",
    "    answer = 0\n",
    "    for i in array:\n",
    "        if i > height:\n",
    "            answer += 1 \n",
    "    return answer\n",
    "\n",
    "print(solution([149, 180, 192, 170], 167))"
   ]
  },
  {
   "cell_type": "code",
   "execution_count": 1,
   "id": "f11e6b4e-31d3-48b2-828c-e5a0cd6552e5",
   "metadata": {},
   "outputs": [],
   "source": [
    "# 짝수 홀수 개수\n",
    "\n",
    "def solution(num_list):\n",
    "    answer = [0,0]\n",
    "    for n in num_list:\n",
    "        answer[n%2]+=1\n",
    "    return answer"
   ]
  },
  {
   "cell_type": "code",
   "execution_count": 1,
   "id": "5268caf3-cc7e-41f2-96fd-9405d840f298",
   "metadata": {},
   "outputs": [],
   "source": [
    "# 내가 하고 싶었던 풀이\n",
    "\n",
    "def solution(num_list):\n",
    "    answer = [0,0]\n",
    "\n",
    "    for num in num_list:\n",
    "        if num % 2 == 0:\n",
    "            answer[0] += 1\n",
    "        else:\n",
    "            answer[1] += 1\n",
    "\n",
    "    return answer"
   ]
  },
  {
   "cell_type": "code",
   "execution_count": 4,
   "id": "febffca6-ffdb-4436-a6db-21b619107e66",
   "metadata": {},
   "outputs": [
    {
     "name": "stdout",
     "output_type": "stream",
     "text": [
      "2\n",
      "3\n"
     ]
    }
   ],
   "source": [
    "# 피자 나눠 먹기\n",
    "# 내가 푼 풀이\n",
    "\n",
    "def solution(slice, n):\n",
    "    if n % slice == 0:\n",
    "        answer = n // slice\n",
    "    else:\n",
    "        answer = n // slice + 1\n",
    "\n",
    "    return answer\n",
    "\n",
    "print(solution(7, 10))\n",
    "print(solution(4, 12))"
   ]
  },
  {
   "cell_type": "code",
   "execution_count": 5,
   "id": "2de090a9-ce53-41d2-9052-57a33402a620",
   "metadata": {},
   "outputs": [
    {
     "name": "stdout",
     "output_type": "stream",
     "text": [
      "2\n",
      "3\n"
     ]
    }
   ],
   "source": [
    "def solution(slice, n):\n",
    "    return ((n - 1) // slice) + 1\n",
    "\n",
    "print(solution(7, 10))\n",
    "print(solution(4, 12))"
   ]
  },
  {
   "cell_type": "code",
   "execution_count": 6,
   "id": "66342351-8a2c-493b-a658-2d35e0fdf06b",
   "metadata": {},
   "outputs": [
    {
     "name": "stdout",
     "output_type": "stream",
     "text": [
      "1\n"
     ]
    }
   ],
   "source": [
    "# 문자열 안에 문자열\n",
    "# 내가 푼 풀이\n",
    "\n",
    "def solution(str1, str2):\n",
    "    if str2 in str1:    # str1 안에 str2\n",
    "        answer = 1\n",
    "    else:\n",
    "        answer = 2\n",
    "    return answer\n",
    "\n",
    "print(solution(\"ab6CDE443fgh22iJKlmn1o\", \"6CD\"))"
   ]
  },
  {
   "cell_type": "code",
   "execution_count": 7,
   "id": "09d21b19-c0b7-48aa-b91f-e6e602e07688",
   "metadata": {},
   "outputs": [
    {
     "name": "stdout",
     "output_type": "stream",
     "text": [
      "1\n"
     ]
    }
   ],
   "source": [
    "def solution(str1, str2):\n",
    "    return 1 if str2 in str1 else 2\n",
    "\n",
    "print(solution(\"ab6CDE443fgh22iJKlmn1o\", \"6CD\"))"
   ]
  },
  {
   "cell_type": "code",
   "execution_count": 8,
   "id": "61eb5e36-8877-49fe-85ae-90c41e32757d",
   "metadata": {},
   "outputs": [
    {
     "name": "stdout",
     "output_type": "stream",
     "text": [
      "[2, 4, 6, 8, 10]\n"
     ]
    }
   ],
   "source": [
    "# 배열 두배 만들기\n",
    "\n",
    "def solution(numbers):\n",
    "    answer = []\n",
    "    for i in numbers:\n",
    "        answer.append(i * 2)\n",
    "    return answer\n",
    "\n",
    "print(solution([1, 2, 3, 4, 5]))"
   ]
  },
  {
   "cell_type": "code",
   "execution_count": 9,
   "id": "9fa5410e-f7e9-4421-a5b9-effc25d654ff",
   "metadata": {},
   "outputs": [],
   "source": [
    "def solution(numbers):\n",
    "    return [num*2 for num in numbers]"
   ]
  },
  {
   "cell_type": "code",
   "execution_count": 2,
   "id": "d0fc6cf8-43a7-49c9-8fc0-88d94be201b2",
   "metadata": {},
   "outputs": [
    {
     "name": "stdout",
     "output_type": "stream",
     "text": [
      "2\n"
     ]
    }
   ],
   "source": [
    "# 삼각형의 완성조건(1)\n",
    "# 내가 푼 풀이\n",
    "\n",
    "def solution(sides):\n",
    "    sides.sort()\n",
    "    \n",
    "    if sides[2] < sides[0] + sides[1]:\n",
    "        return 1\n",
    "    else:\n",
    "        return 2\n",
    "\n",
    "print(solution([1, 2, 3]))"
   ]
  },
  {
   "cell_type": "code",
   "execution_count": 3,
   "id": "18199c18-2cd2-4187-848d-31b8b5334865",
   "metadata": {},
   "outputs": [],
   "source": [
    "# 삼각형이 되기 위한 조건: 세 변의 총합 - 최대 변 길이 > 최대 변 길이\n",
    "\n",
    "def solution(sides):\n",
    "    return 1 if max(sides) < (sum(sides) - max(sides)) else 2"
   ]
  },
  {
   "cell_type": "code",
   "execution_count": 4,
   "id": "1a8dd9a7-5db4-4fdf-b9c2-cb3165d2aa37",
   "metadata": {},
   "outputs": [],
   "source": [
    "def solution(sides):\n",
    "    answer = 0\n",
    "    sides.sort()\n",
    "    a, b, c = sides[0], sides[1], sides[2]\n",
    "    if a + b > c:\n",
    "        return 1\n",
    "    return 2"
   ]
  },
  {
   "cell_type": "code",
   "execution_count": 7,
   "id": "08c5b730-7425-4d43-9b5c-fc308ff1c2e2",
   "metadata": {},
   "outputs": [],
   "source": [
    "# 모음 제거\n",
    "\n",
    "def solution(my_string):\n",
    "    result = []\n",
    "    a = 'aeiou'\n",
    "    for char in my_string:\n",
    "        if char not in a:\n",
    "            result.append(char)\n",
    "            \n",
    "    answer = ''.join(result)\n",
    "            \n",
    "    return answer"
   ]
  },
  {
   "cell_type": "code",
   "execution_count": 6,
   "id": "0f20731b-16ef-4720-b101-8f3f2e992a9a",
   "metadata": {},
   "outputs": [],
   "source": [
    "def solution(my_string):\n",
    "    return \"\".join([i for i in my_string if not(i in \"aeiou\")])"
   ]
  },
  {
   "cell_type": "code",
   "execution_count": 2,
   "id": "0960b738-98bb-422c-b0d4-1e314aefd57d",
   "metadata": {},
   "outputs": [
    {
     "name": "stdout",
     "output_type": "stream",
     "text": [
      "[1, 0]\n"
     ]
    }
   ],
   "source": [
    "# 아이스 아메리카노\n",
    "# 내가 푼 풀이\n",
    "\n",
    "def solution(money):\n",
    "    answer = [money // 5500, money - ((money // 5500) * 5500)]\n",
    "    return answer\n",
    "\n",
    "print(solution(5500))"
   ]
  },
  {
   "cell_type": "code",
   "execution_count": 3,
   "id": "7a9d058f-88e4-44b6-918a-859b40dc3807",
   "metadata": {},
   "outputs": [
    {
     "name": "stdout",
     "output_type": "stream",
     "text": [
      "[1, 0]\n"
     ]
    }
   ],
   "source": [
    "def solution(money):\n",
    "\n",
    "    answer = [money // 5500, money % 5500]\n",
    "    return answer\n",
    "print(solution(5500))"
   ]
  },
  {
   "cell_type": "code",
   "execution_count": 5,
   "id": "b03c02d6-f5e7-40b2-b45f-9442ca0c43e2",
   "metadata": {},
   "outputs": [
    {
     "name": "stdout",
     "output_type": "stream",
     "text": [
      "10\n"
     ]
    }
   ],
   "source": [
    "# 숨어있는 숫자의 덧셈 (1)\n",
    "\n",
    "def solution(my_string):\n",
    "    numbers = []  # 자연수들을 저장할 리스트 생성\n",
    "    for char in my_string:\n",
    "        if char.isdigit():  # 문자열이 숫자인 경우\n",
    "            numbers.append(int(char))  # 숫자를 자연수로 변환하여 리스트에 추가\n",
    "    return sum(numbers)  # 자연수들의 합 반환def solution(my_string):\n",
    "    numbers = []  # 자연수들을 저장할 리스트 생성\n",
    "    for char in my_string:\n",
    "        if char.isdigit():  # 문자열이 숫자인 경우\n",
    "            numbers.append(int(char))  # 숫자를 자연수로 변환하여 리스트에 추가\n",
    "    return sum(numbers)  # 자연수들의 합 반환\n",
    "\n",
    "print(solution(\"aAb1B2cC34oOp\"))"
   ]
  },
  {
   "cell_type": "code",
   "execution_count": 6,
   "id": "45fffc4f-b04a-4d72-aea3-793e4c9e1e8c",
   "metadata": {},
   "outputs": [
    {
     "name": "stdout",
     "output_type": "stream",
     "text": [
      "10\n"
     ]
    }
   ],
   "source": [
    "def solution(my_string):\n",
    "    return sum(int(i) for i in my_string if i.isdigit())\n",
    "\n",
    "print(solution(\"aAb1B2cC34oOp\"))"
   ]
  },
  {
   "cell_type": "code",
   "execution_count": 9,
   "id": "f7dda0bc-d740-4b2e-a1e9-4199639560ce",
   "metadata": {},
   "outputs": [
    {
     "name": "stdout",
     "output_type": "stream",
     "text": [
      "10\n"
     ]
    }
   ],
   "source": [
    "def solution(my_string):\n",
    "    answer = 0\n",
    "    for i in my_string:\n",
    "        try:\n",
    "            answer += int(i)\n",
    "        except:\n",
    "            pass\n",
    "\n",
    "    return answer\n",
    "\n",
    "print(solution(\"aAb1B2cC34oOp\"))"
   ]
  },
  {
   "cell_type": "code",
   "execution_count": 12,
   "id": "4d344da2-0b78-44eb-9904-7635f51c3b69",
   "metadata": {},
   "outputs": [
    {
     "name": "stdout",
     "output_type": "stream",
     "text": [
      "142500\n",
      "464000\n"
     ]
    }
   ],
   "source": [
    "# 옷가게 할인 받기\n",
    "# 내가 푼 풀이\n",
    "\n",
    "def solution(price):\n",
    "    if price >= 500000:\n",
    "        return int(price*0.8)\n",
    "    elif price >= 300000 and price < 500000:\n",
    "        return int(price * 0.9)\n",
    "    elif price >= 100000 and price < 300000:\n",
    "        return int(price * 0.95)\n",
    "    else:\n",
    "        return int(price)\n",
    "        \n",
    "print(solution(150000))\n",
    "print(solution(580000))"
   ]
  },
  {
   "cell_type": "code",
   "execution_count": 13,
   "id": "c28e4cc7-a879-43c4-94e5-d6f463743313",
   "metadata": {},
   "outputs": [],
   "source": [
    "def solution(price):\n",
    "    discount_rates = {500000: 0.8, 300000: 0.9, 100000: 0.95, 0: 1}\n",
    "    for discount_price, discount_rate in discount_rates.items():\n",
    "        if price >= discount_price:\n",
    "            return int(price * discount_rate)"
   ]
  },
  {
   "cell_type": "code",
   "execution_count": 16,
   "id": "a160ea26-07a9-4582-83b1-f582ebdf0295",
   "metadata": {},
   "outputs": [
    {
     "name": "stdout",
     "output_type": "stream",
     "text": [
      "[1, 3, 5, 7, 9]\n"
     ]
    }
   ],
   "source": [
    "# 짝수는 싫어요\n",
    "\n",
    "def solution(n):\n",
    "    return [i for i in range(1, n+1, 2)]\n",
    "\n",
    "print(solution(10))"
   ]
  },
  {
   "cell_type": "code",
   "execution_count": 17,
   "id": "f80ed394-ffdf-447b-a97b-91678c56d031",
   "metadata": {},
   "outputs": [
    {
     "name": "stdout",
     "output_type": "stream",
     "text": [
      "[1, 3, 5, 7, 9, 11, 13, 15]\n"
     ]
    }
   ],
   "source": [
    "def solution(n):\n",
    "    return [x for x in range(n + 1) if x % 2]\n",
    "\n",
    "print(solution(15))"
   ]
  },
  {
   "cell_type": "code",
   "execution_count": 3,
   "id": "66a55ebc-4da0-4947-b13a-cb3b4dc5823a",
   "metadata": {},
   "outputs": [
    {
     "name": "stdout",
     "output_type": "stream",
     "text": [
      "1\n",
      "2\n"
     ]
    }
   ],
   "source": [
    "# 제곱수 판별하기\n",
    "# 내가 푼 풀이\n",
    "\n",
    "def solution(n):\n",
    "    if (n ** (1/2)) % 1 == 0:\n",
    "        return 1\n",
    "    else:\n",
    "        return 2\n",
    "\n",
    "print(solution(144))\n",
    "print(solution(976))"
   ]
  },
  {
   "cell_type": "code",
   "execution_count": 4,
   "id": "84c154bc-8cbe-4317-ae01-a9b22849e203",
   "metadata": {},
   "outputs": [
    {
     "name": "stdout",
     "output_type": "stream",
     "text": [
      "2048\n"
     ]
    }
   ],
   "source": [
    "# 세균 증식\n",
    "# 내가 푼 풀이\n",
    "\n",
    "def solution(n, t):\n",
    "    answer = n * (2 ** t)\n",
    "    return answer\n",
    "\n",
    "print(solution(2, 10))"
   ]
  },
  {
   "cell_type": "code",
   "execution_count": 5,
   "id": "072614fb-5047-4a76-b116-6fb46182a037",
   "metadata": {},
   "outputs": [],
   "source": [
    "def solution(n, t):\n",
    "    return n << t"
   ]
  },
  {
   "cell_type": "code",
   "execution_count": 3,
   "id": "64f575bd-a6eb-433e-b952-7967d4bed76d",
   "metadata": {},
   "outputs": [
    {
     "name": "stdout",
     "output_type": "stream",
     "text": [
      "4\n",
      "8\n",
      "12\n",
      "16\n",
      "20\n",
      "24\n",
      "attack\n"
     ]
    }
   ],
   "source": [
    "# 암호해독\n",
    "\n",
    "def solution(cipher, code):\n",
    "    answer = ''\n",
    "    for i in range(code, len(cipher)+1):\n",
    "        if i % code == 0:\n",
    "            print(i)\n",
    "            answer += cipher[i-1]\n",
    "    return answer\n",
    "print(solution(\"dfjardstddetckdaccccdegk\",4))"
   ]
  },
  {
   "cell_type": "code",
   "execution_count": 2,
   "id": "4eb9e09c-08fa-4460-8022-58b5352f8969",
   "metadata": {},
   "outputs": [
    {
     "name": "stdout",
     "output_type": "stream",
     "text": [
      "052\n"
     ]
    }
   ],
   "source": [
    "# 가위바위보\n",
    "\n",
    "def solution(rsp):\n",
    "    result = {'2':'0', '0':'5', '5':'2'}\n",
    "    answer = ''\n",
    "    for i in rsp:\n",
    "        answer += result.get(i)\n",
    "    return answer\n",
    "\n",
    "print(solution(\"205\"))"
   ]
  },
  {
   "cell_type": "code",
   "execution_count": 2,
   "id": "7e92b759-370c-46e4-8eca-568e03bc07cf",
   "metadata": {},
   "outputs": [],
   "source": [
    "def solution(rsp):\n",
    "    answer = ''\n",
    "    for i in rsp :\n",
    "        if i == '0' :\n",
    "            answer += '5'\n",
    "        elif i == '2' :\n",
    "            answer += '0'\n",
    "        else :\n",
    "            answer += '2'\n",
    "    return answer"
   ]
  },
  {
   "cell_type": "code",
   "execution_count": 1,
   "id": "1ccadc57-c9f8-48cb-8db9-eef5bc2ad983",
   "metadata": {},
   "outputs": [
    {
     "name": "stdout",
     "output_type": "stream",
     "text": [
      "CCCccc\n"
     ]
    }
   ],
   "source": [
    "# 대문자와 소문자\n",
    "\n",
    "def solution(my_string):\n",
    "    answer = ''\n",
    "    for i in my_string:\n",
    "        if i.isupper():\n",
    "            answer += i.lower()\n",
    "        else:\n",
    "            answer += i.upper()\n",
    "    return answer\n",
    "\n",
    "print(solution(\"cccCCC\"))"
   ]
  },
  {
   "cell_type": "code",
   "execution_count": 4,
   "id": "060a1a93-b577-4ca3-9db1-eba1c53713ca",
   "metadata": {},
   "outputs": [
    {
     "name": "stdout",
     "output_type": "stream",
     "text": [
      "5\n"
     ]
    }
   ],
   "source": [
    "# 개미군단\n",
    "# 내가 푼 풀이\n",
    "\n",
    "def solution(hp):\n",
    "\n",
    "    if hp % 5 == 0:\n",
    "        return hp // 5\n",
    "    elif (hp % 5) % 3 == 0:\n",
    "        return (hp // 5) + ((hp % 5) // 3)\n",
    "    elif ((hp % 5) % 3 ) % 1 == 0:\n",
    "        return (hp // 5) + ((hp % 5) // 3) + (((hp % 5) % 3 ) // 1)\n",
    "\n",
    "print(solution(23))"
   ]
  },
  {
   "cell_type": "code",
   "execution_count": 5,
   "id": "602d454a-1731-4cfd-a690-1e9ad53c6e61",
   "metadata": {},
   "outputs": [],
   "source": [
    "def solution(hp):    \n",
    "    return hp // 5 + (hp % 5 // 3) + ((hp % 5) % 3)"
   ]
  },
  {
   "cell_type": "code",
   "execution_count": 2,
   "id": "e103530b-32c8-40dd-bfd9-579110e5d7a7",
   "metadata": {},
   "outputs": [
    {
     "name": "stdout",
     "output_type": "stream",
     "text": [
      "[1, 2, 2, 3, 9]\n"
     ]
    }
   ],
   "source": [
    "# 문자열 정렬하기\n",
    "\n",
    "def solution(my_string):\n",
    "    answer = []\n",
    "    for i in my_string:\n",
    "        if i.isdigit():\n",
    "            answer.append(int(i))\n",
    "    answer.sort()\n",
    "    return answer\n",
    "\n",
    "print(solution(\"hi12392\"))"
   ]
  },
  {
   "cell_type": "code",
   "execution_count": 3,
   "id": "77f665c7-7de7-43c2-8af4-62b3e61efdd2",
   "metadata": {},
   "outputs": [
    {
     "name": "stdout",
     "output_type": "stream",
     "text": [
      "[1, 2, 2, 3, 9]\n"
     ]
    }
   ],
   "source": [
    "def solution(my_string):\n",
    "    return sorted([int(i) for i in str(my_string) if i.isdigit()])\n",
    "print(solution(\"hi12392\"))"
   ]
  },
  {
   "cell_type": "code",
   "execution_count": 1,
   "id": "76478053-372f-4281-bd86-5795807f8163",
   "metadata": {},
   "outputs": [
    {
     "name": "stdout",
     "output_type": "stream",
     "text": [
      "[8, 1]\n"
     ]
    }
   ],
   "source": [
    "# 가장 큰 수 찾기\n",
    "\n",
    "def solution(array):\n",
    "    answer = [max(array), array.index(max(array))]\n",
    "    return answer\n",
    "\n",
    "print(solution([1, 8, 3]))"
   ]
  },
  {
   "cell_type": "code",
   "execution_count": 2,
   "id": "fc415808-e4dd-4139-84da-7df28eb4ac18",
   "metadata": {},
   "outputs": [
    {
     "name": "stdout",
     "output_type": "stream",
     "text": [
      "[1, 2, 3, 4, 6, 8, 12, 24]\n"
     ]
    }
   ],
   "source": [
    "# 약수 구하기\n",
    "# 내가 푼 풀이\n",
    "\n",
    "def solution(n):\n",
    "    answer = []\n",
    "    for i in range(1, n):\n",
    "        if n % i == 0:\n",
    "            answer.append(i)\n",
    "    answer.append(n)\n",
    "    return sorted(answer)\n",
    "\n",
    "print(solution(24))"
   ]
  },
  {
   "cell_type": "code",
   "execution_count": 3,
   "id": "570aacee-ce49-4064-8173-ceef79a32f56",
   "metadata": {},
   "outputs": [
    {
     "name": "stdout",
     "output_type": "stream",
     "text": [
      "[1, 2, 3, 4, 6, 8, 12, 24]\n"
     ]
    }
   ],
   "source": [
    "def solution(n):\n",
    "    answer = [i for i in range(1,n+1) if n%i == 0]\n",
    "    return answer\n",
    "print(solution(24))"
   ]
  },
  {
   "cell_type": "code",
   "execution_count": 10,
   "id": "bec954b8-abff-4529-b221-d8ef4329ac86",
   "metadata": {},
   "outputs": [
    {
     "name": "stdout",
     "output_type": "stream",
     "text": [
      "[1, 2, 3, 4, 6, 8, 12, 24]\n"
     ]
    }
   ],
   "source": [
    "def solution(n):\n",
    "    answer = []\n",
    "    for i in range(1,n+1):\n",
    "        if n%i == 0:\n",
    "            answer.append(i)\n",
    "            \n",
    "    return answer\n",
    "print(solution(24))"
   ]
  },
  {
   "cell_type": "code",
   "execution_count": 11,
   "id": "a80166c1-08e6-4c15-afb3-a159f23d8223",
   "metadata": {},
   "outputs": [
    {
     "name": "stdout",
     "output_type": "stream",
     "text": [
      "ce\n"
     ]
    }
   ],
   "source": [
    "# 외계행성의 나이\n",
    "\n",
    "def solution(age):\n",
    "    age = str(age)\n",
    "    age = age.replace(\"0\", \"a\")\n",
    "    age = age.replace(\"1\", \"b\")\n",
    "    age = age.replace(\"2\", \"c\")\n",
    "    age = age.replace(\"3\", \"d\")\n",
    "    age = age.replace(\"4\", \"e\")\n",
    "    age = age.replace(\"5\", \"f\")\n",
    "    age = age.replace(\"6\", \"g\")\n",
    "    age = age.replace(\"7\", \"h\")\n",
    "    age = age.replace(\"8\", \"i\")\n",
    "    age = age.replace(\"9\", \"j\")\n",
    "    return age\n",
    "\n",
    "print(solution(24))"
   ]
  },
  {
   "cell_type": "code",
   "execution_count": 1,
   "id": "3a204f8b-f2f5-4913-aa29-db40d13a8b69",
   "metadata": {},
   "outputs": [
    {
     "name": "stdout",
     "output_type": "stream",
     "text": [
      "[6, 9, 12]\n"
     ]
    }
   ],
   "source": [
    "# n의 배수 구하기\n",
    "# 내가 푼 풀이\n",
    "\n",
    "def solution(n, numlist):\n",
    "    answer = []\n",
    "    for i in numlist:\n",
    "        if i % n == 0:\n",
    "            answer.append(i)\n",
    "            \n",
    "    return answer\n",
    "\n",
    "print(solution(3, [4, 5, 6, 7, 8, 9, 10, 11, 12]))"
   ]
  },
  {
   "cell_type": "code",
   "execution_count": 7,
   "id": "b1befaea-fd1d-40f0-bd69-8b4bab67b8ad",
   "metadata": {},
   "outputs": [
    {
     "name": "stdout",
     "output_type": "stream",
     "text": [
      "[6, 9, 12]\n"
     ]
    }
   ],
   "source": [
    "def solution(n, numlist):\n",
    "    answer = [i for i in numlist if i%n==0]\n",
    "    return answer\n",
    "\n",
    "print(solution(3, [4, 5, 6, 7, 8, 9, 10, 11, 12]))"
   ]
  },
  {
   "cell_type": "code",
   "execution_count": 4,
   "id": "4ce3c12d-21c7-4db8-93a8-aba7da994ca9",
   "metadata": {},
   "outputs": [
    {
     "name": "stdout",
     "output_type": "stream",
     "text": [
      "15\n"
     ]
    }
   ],
   "source": [
    "# 최댓값 만들기(2)\n",
    "\n",
    "def solution(numbers):\n",
    "    numbers.sort(reverse = True)\n",
    "    return max(numbers[0] * numbers[1],numbers[-1] * numbers[-2])\n",
    "    \n",
    "print(solution([1, 2, -3, 4, -5]))"
   ]
  },
  {
   "cell_type": "code",
   "execution_count": 6,
   "id": "2444af1b-0e39-47cf-a108-077e498b9316",
   "metadata": {},
   "outputs": [
    {
     "name": "stdout",
     "output_type": "stream",
     "text": [
      "15\n"
     ]
    }
   ],
   "source": [
    "def solution(numbers):\n",
    "    numbers.sort()\n",
    "    return max(numbers[0] * numbers[1],numbers[-1] * numbers[-2])\n",
    "\n",
    "print(solution([1, 2, -3, 4, -5]))"
   ]
  },
  {
   "cell_type": "code",
   "execution_count": 1,
   "id": "1f7e6dee-9f3c-42f0-a3dc-42a5f54d0870",
   "metadata": {},
   "outputs": [
    {
     "name": "stdout",
     "output_type": "stream",
     "text": [
      "peol\n"
     ]
    }
   ],
   "source": [
    "# 중복된 문자 제거\n",
    "\n",
    "def solution(my_string):\n",
    "    answer = ''\n",
    "    for i in my_string:\n",
    "        if i not in answer:\n",
    "            answer += i\n",
    "    return answer\n",
    "\n",
    "print(solution(\"people\"))"
   ]
  },
  {
   "cell_type": "code",
   "execution_count": 2,
   "id": "427d2269-409d-4a94-9465-2d966d0b43b7",
   "metadata": {},
   "outputs": [],
   "source": [
    "def solution(my_string):\n",
    "    return ''.join(dict.fromkeys(my_string))"
   ]
  },
  {
   "cell_type": "code",
   "execution_count": 3,
   "id": "f43a1cb3-d1cc-4ccc-82ad-b9a811ddb673",
   "metadata": {},
   "outputs": [
    {
     "name": "stdout",
     "output_type": "stream",
     "text": [
      "abcd\n"
     ]
    }
   ],
   "source": [
    "# 문자열 정렬하기(2)\n",
    "\n",
    "def solution(my_string):\n",
    "    answer = ''\n",
    "    for i in my_string:\n",
    "        answer += i.lower()\n",
    "\n",
    "    return ''.join(sorted(answer))\n",
    "\n",
    "print(solution(\"Bcad\"))"
   ]
  },
  {
   "cell_type": "code",
   "execution_count": 2,
   "id": "e86f8cf5-520c-406b-b810-b010dab2777e",
   "metadata": {},
   "outputs": [
    {
     "name": "stdout",
     "output_type": "stream",
     "text": [
      "1\n",
      "4\n"
     ]
    }
   ],
   "source": [
    "# 369게임\n",
    "\n",
    "def solution(order):\n",
    "    answer = 0\n",
    "    for i in str(order):\n",
    "        if i in [\"3\",\"6\",\"9\"]:\n",
    "            answer += 1\n",
    "    return answer\n",
    "\n",
    "print(solution(3))\n",
    "print(solution(2942333))"
   ]
  },
  {
   "cell_type": "code",
   "execution_count": 3,
   "id": "2d57dfda-cf0c-47e7-a623-ac001cdc2f5a",
   "metadata": {},
   "outputs": [
    {
     "name": "stdout",
     "output_type": "stream",
     "text": [
      "hlelo\n"
     ]
    }
   ],
   "source": [
    "# 인덱스 바꾸기\n",
    "\n",
    "def solution(my_string, num1, num2):\n",
    "    answer = ''\n",
    "    my_string = list(my_string)\n",
    "    my_string[num1],my_string[num2] = my_string[num2],my_string[num1]\n",
    "    return answer.join(my_string)\n",
    "\n",
    "print(solution(\"hello\",1,2))"
   ]
  },
  {
   "cell_type": "code",
   "execution_count": 4,
   "id": "423e4494-9675-49be-81a3-86983e65e9dd",
   "metadata": {},
   "outputs": [
    {
     "name": "stdout",
     "output_type": "stream",
     "text": [
      "1\n"
     ]
    }
   ],
   "source": [
    "# 피자 나눠 먹기 (2)\n",
    "def solution(n):\n",
    "    pizza = 1\n",
    "    while (pizza * 6) % n != 0:\n",
    "        pizza += 1\n",
    "    return pizza\n",
    "\n",
    "print(solution(6))"
   ]
  },
  {
   "cell_type": "code",
   "execution_count": 1,
   "id": "17c9f866-61cd-4a8a-b20b-33745c70f9e7",
   "metadata": {},
   "outputs": [],
   "source": [
    "# 숫자 찾기\n",
    "\n"
   ]
  },
  {
   "cell_type": "code",
   "execution_count": null,
   "id": "9ea2e38f-734f-4b7c-b4a4-92bee40c9827",
   "metadata": {},
   "outputs": [],
   "source": [
    "# 배열 회전시키기\n",
    "\n"
   ]
  }
 ],
 "metadata": {
  "kernelspec": {
   "display_name": "Python 3 (ipykernel)",
   "language": "python",
   "name": "python3"
  },
  "language_info": {
   "codemirror_mode": {
    "name": "ipython",
    "version": 3
   },
   "file_extension": ".py",
   "mimetype": "text/x-python",
   "name": "python",
   "nbconvert_exporter": "python",
   "pygments_lexer": "ipython3",
   "version": "3.11.4"
  }
 },
 "nbformat": 4,
 "nbformat_minor": 5
}
