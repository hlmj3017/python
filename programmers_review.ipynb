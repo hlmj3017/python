{
 "cells": [
  {
   "cell_type": "code",
   "execution_count": 1,
   "id": "de6c996a-d022-40e8-9398-b2ce033f90df",
   "metadata": {},
   "outputs": [
    {
     "name": "stdin",
     "output_type": "stream",
     "text": [
      "오늘 날씨 어때요? 비\n"
     ]
    },
    {
     "name": "stdout",
     "output_type": "stream",
     "text": [
      "우산을 챙기세요.\n"
     ]
    }
   ],
   "source": [
    "weather = input('오늘 날씨 어때요?')\n",
    "\n",
    "if weather == '비' or weather == '눈':\n",
    "    print('우산을 챙기세요.')\n",
    "elif weather == '미세먼지':\n",
    "    print('마스크를 챙기세요.')\n",
    "else:\n",
    "    print('준비물 필요 없어요.')"
   ]
  },
  {
   "cell_type": "code",
   "execution_count": null,
   "id": "6edf92ee-cc97-45d9-a78c-67428e24f40a",
   "metadata": {},
   "outputs": [],
   "source": []
  },
  {
   "cell_type": "code",
   "execution_count": null,
   "id": "b2a6a4e8-bb31-4b0a-af7e-1986da5d0df5",
   "metadata": {},
   "outputs": [],
   "source": []
  },
  {
   "cell_type": "code",
   "execution_count": 1,
   "id": "9b884c1e-d3d9-47a2-819d-d0bfa2dc4914",
   "metadata": {},
   "outputs": [
    {
     "name": "stdout",
     "output_type": "stream",
     "text": [
      "edcba\n",
      "dcb\n",
      "dcba\n",
      "edcba\n",
      "edcba\n",
      "['e', 'd', 'c', 'b', 'a']\n",
      "('e', 'd', 'c', 'b', 'a')\n"
     ]
    }
   ],
   "source": [
    "s = 'abcde'\n",
    "print(s[::-1])  # 'edcba'\n",
    "\n",
    "# 문자열을 [::-1] 이라는 인덱스로 호출하면, 아주 단순하게 해당 문자열을 뒤집은 결과를 반환한다.\n",
    "#만약 [3:0:-1] 이라는 인덱스로 호출하면, 3번 인덱스부터 1번 인덱스까지(0번 까지가 아님) 역순으로 출력해준다.\n",
    "\n",
    "s = 'abcde'\n",
    "print(s[3:0:-1])  # dcb\n",
    "# [3::-1] 과 같이 출력하면 3번 인덱스부터 0번 인덱스까지 역순으로 출력해준다.\n",
    "\n",
    "s = 'abcde'\n",
    "print(s[3::-1])  # dcba\n",
    "# [4::-1] 은 4번 인덱스부터 0번 인덱스까지 역순으로 출력해주는데, 이 때 4번 인덱스가 마지막 인덱스라면 생략할 수 있다.\n",
    "\n",
    "s = 'abcde'\n",
    "print(s[4::-1])  # edcba\n",
    "print(s[::-1])  # edcba\n",
    "# 그래서 결과적으로 [::-1] 인덱스를 주면 전체 문자열을 역순으로 출력해주는 것이다.\n",
    "# 문자열 뿐 아니라 리스트나 튜플에도 적용 가능하다.\n",
    "\n",
    "l = ['a', 'b', 'c', 'd', 'e']\n",
    "print(l[::-1])  # ['e', 'd', 'c', 'b', 'a']\n",
    "\n",
    "t = ('a', 'b', 'c', 'd', 'e')\n",
    "print(t[::-1])  # ('e', 'd', 'c', 'b', 'a')"
   ]
  },
  {
   "cell_type": "code",
   "execution_count": null,
   "id": "955814ec-cbae-4d82-98c4-15c0cb70a8d5",
   "metadata": {},
   "outputs": [],
   "source": []
  },
  {
   "cell_type": "code",
   "execution_count": 1,
   "id": "25e9ab88-d844-49d3-84f9-c7ebf8362373",
   "metadata": {},
   "outputs": [
    {
     "name": "stdout",
     "output_type": "stream",
     "text": [
      "1\n",
      "2\n",
      "3\n"
     ]
    }
   ],
   "source": [
    "# 각도기\n",
    "def solution(angle):\n",
    "    if angle < 90:\n",
    "        return 1\n",
    "    elif angle == 90:\n",
    "        return 2\n",
    "    elif angle > 90 and angle < 180:\n",
    "        return 3\n",
    "    else:\n",
    "        return 4\n",
    "\n",
    "\n",
    "# def solution(angle):\n",
    "#     answer = (angle // 90) * 2 + (angle % 90 > 0) * 1\n",
    "#     return answer\n",
    "\n",
    "\n",
    "print(solution(70))       \n",
    "print(solution(90)) \n",
    "print(solution(150)) "
   ]
  },
  {
   "cell_type": "code",
   "execution_count": 4,
   "id": "2acf70f3-a1f9-4500-9209-5d3009bf0c65",
   "metadata": {},
   "outputs": [
    {
     "name": "stdout",
     "output_type": "stream",
     "text": [
      "30\n",
      "6\n"
     ]
    }
   ],
   "source": [
    "# 짝수의 합\n",
    "# 정수 n이 주어질 때, n이하의 짝수를 모두 더한 값을 return 하도록 solution 함수를 작성해주세요.\n",
    "\n",
    "def solution(n):\n",
    "    answer = 0\n",
    "    for i in range(n+1):\n",
    "        if i % 2 == 0:\n",
    "            answer += i\n",
    "    return answer\n",
    "\n",
    "print(solution(10))\n",
    "print(solution(4))"
   ]
  },
  {
   "cell_type": "code",
   "execution_count": 3,
   "id": "0d93c056-4d03-4bb5-9c12-e03cfd57f95c",
   "metadata": {},
   "outputs": [
    {
     "name": "stdout",
     "output_type": "stream",
     "text": [
      "30\n",
      "6\n"
     ]
    }
   ],
   "source": [
    "def solution(n):\n",
    "    answer = range(2, n+1, 2)\n",
    "    return sum(answer)\n",
    "\n",
    "print(solution(10))\n",
    "print(solution(4))"
   ]
  },
  {
   "cell_type": "code",
   "execution_count": 5,
   "id": "1abfe321-ec69-4e0e-9cfb-a00e2f09c693",
   "metadata": {},
   "outputs": [
    {
     "name": "stdout",
     "output_type": "stream",
     "text": [
      "[2, 3, 3, 6]\n",
      "[1, 4, 12]\n"
     ]
    }
   ],
   "source": [
    "# 배열 원소의 길이\n",
    "# 문자열 배열 strlist가 매개변수로 주어집니다. strlist 각 원소의 길이를 담은 배열을 retrun하도록 solution 함수를 완성해주세요.\n",
    "\n",
    "def solution(strlist):\n",
    "    answer = []\n",
    "    for my_string in strlist:\n",
    "        answer.append(len(my_string))\n",
    "    return answer\n",
    "\n",
    "print(solution([\"We\", \"are\", \"the\", \"world!\"]))\n",
    "print(solution([\"I\", \"Love\", \"Programmers.\"]))"
   ]
  },
  {
   "cell_type": "code",
   "execution_count": 9,
   "id": "0ce0d438-4ec7-4c31-a3d0-0d8b06e69e2d",
   "metadata": {},
   "outputs": [
    {
     "name": "stdout",
     "output_type": "stream",
     "text": [
      "[5, 4, 3, 2, 1]\n"
     ]
    }
   ],
   "source": [
    "# 배열 뒤집기\n",
    "# 정수가 들어 있는 배열 num_list가 매개변수로 주어집니다. num_list의 원소의 순서를 거꾸로 뒤집은 배열을 return하도록 solution 함수를 완성해주세요.\n",
    "\n",
    "def solution(num_list):\n",
    "    answer = []\n",
    "\n",
    "    for i in range(len(num_list)):\n",
    "        data = num_list[   len(num_list) - i - 1  ]\n",
    "        answer.append(data)\n",
    "\n",
    "    return answer\n",
    "\n",
    "print(solution([1, 2, 3, 4, 5]))"
   ]
  },
  {
   "cell_type": "code",
   "execution_count": 10,
   "id": "f7182336-df57-4440-af6d-ee09d5e97e4a",
   "metadata": {},
   "outputs": [
    {
     "name": "stdout",
     "output_type": "stream",
     "text": [
      "[5, 4, 3, 2, 1]\n"
     ]
    }
   ],
   "source": [
    "def solution(num_list):\n",
    "    answer = []\n",
    "    \n",
    "    for num in num_list:\n",
    "        answer.insert(0, num)\n",
    "\n",
    "    return answer\n",
    "    \n",
    "print(solution([1, 2, 3, 4, 5]))"
   ]
  },
  {
   "cell_type": "code",
   "execution_count": 17,
   "id": "e6c5960f-77d7-45a8-bb0f-3c176e1e38a9",
   "metadata": {},
   "outputs": [
    {
     "name": "stdout",
     "output_type": "stream",
     "text": [
      "10\n"
     ]
    }
   ],
   "source": [
    "# 자릿수 더하기\n",
    "# 정수 n이 매개변수로 주어질 때 n의 각 자리 숫자의 합을 return하도록 solution 함수를 완성해주세요\n",
    "\n",
    "def solution(n):\n",
    "    answer = 0\n",
    "\n",
    "    while n > 0:\n",
    "        a, b = divmod(n,10)\n",
    "\n",
    "        n = a\n",
    "        answer += b\n",
    "    return answer\n",
    "\n",
    "print(solution(1234))  "
   ]
  },
  {
   "cell_type": "code",
   "execution_count": 18,
   "id": "358a6ad8-d04e-42e2-8807-e17b5883bc0d",
   "metadata": {},
   "outputs": [
    {
     "name": "stdout",
     "output_type": "stream",
     "text": [
      "10\n"
     ]
    }
   ],
   "source": [
    "def solution(n):\n",
    "    answer=0\n",
    "\n",
    "    for i in str(n):\n",
    "        answer += int(i)\n",
    "\n",
    "    return answer\n",
    "\n",
    "print(solution(1234))  "
   ]
  },
  {
   "cell_type": "code",
   "execution_count": 20,
   "id": "7dbced99-ab79-4036-af1b-70577e216725",
   "metadata": {},
   "outputs": [
    {
     "name": "stdout",
     "output_type": "stream",
     "text": [
      "abcde\n"
     ]
    }
   ],
   "source": [
    "# 특정 문자 제거하기\n",
    "\n",
    "\n",
    "def solution(my_string, letter):\n",
    "    answer = ''\n",
    "    \n",
    "    for string in my_string:\n",
    "        if string != letter:\n",
    "            answer += string\n",
    "    \n",
    "    return answer\n",
    "\n",
    "print(solution(\"abcdef\", \"f\"))"
   ]
  },
  {
   "cell_type": "code",
   "execution_count": 21,
   "id": "6b7a91c3-2011-42c2-9b0a-156db7bca86d",
   "metadata": {},
   "outputs": [
    {
     "name": "stdout",
     "output_type": "stream",
     "text": [
      "abcde\n"
     ]
    }
   ],
   "source": [
    "def solution(my_string, letter):\n",
    "    answer = ''\n",
    "    \n",
    "    answer = my_string.replace(letter, '')\n",
    "    \n",
    "    return answer\n",
    "\n",
    "print(solution(\"abcdef\", \"f\"))"
   ]
  },
  {
   "cell_type": "code",
   "execution_count": 22,
   "id": "81bcb408-ca24-486c-9c6f-f0ac7329ebec",
   "metadata": {},
   "outputs": [
    {
     "name": "stdout",
     "output_type": "stream",
     "text": [
      "6\n",
      "9\n"
     ]
    }
   ],
   "source": [
    "# 순서쌍의 개수\n",
    "\n",
    "def solution(n):\n",
    "    answer = 0\n",
    "    \n",
    "    for num in range(1,n+1):\n",
    "        if n % num == 0:\n",
    "            answer += 1\n",
    "    return answer\n",
    "\n",
    "print(solution(20))\n",
    "print(solution(100))"
   ]
  },
  {
   "cell_type": "code",
   "execution_count": 23,
   "id": "0de8742f-a2ca-4fc5-b076-b93961e90d02",
   "metadata": {},
   "outputs": [
    {
     "name": "stdout",
     "output_type": "stream",
     "text": [
      "6\n",
      "9\n"
     ]
    }
   ],
   "source": [
    "def solution(n):\n",
    "    answer = 0\n",
    "    \n",
    "    for num in range(1, int(n ** 0.5) + 1):\n",
    "        if n % num == 0:\n",
    "            answer += 2\n",
    "            \n",
    "            if num * num == n:\n",
    "                answer -= 1\n",
    "    return answer\n",
    "\n",
    "print(solution(20))\n",
    "print(solution(100))"
   ]
  },
  {
   "cell_type": "code",
   "execution_count": 27,
   "id": "813b9b8b-b907-46c8-b026-04728419058d",
   "metadata": {},
   "outputs": [
    {
     "name": "stdout",
     "output_type": "stream",
     "text": [
      "20\n"
     ]
    }
   ],
   "source": [
    "# 최댓값 만들기\n",
    "\n",
    "def solution(numbers):\n",
    "    answer = 0\n",
    "    \n",
    "    for i in range(len(numbers)):\n",
    "        for j in range(i+1, len(numbers)):\n",
    "            # print(i, j)\n",
    "            result = numbers[i] * numbers[j]\n",
    "            \n",
    "            if answer < result:\n",
    "                answer = result\n",
    "    \n",
    "    return answer\n",
    "    \n",
    "print(solution([1, 2, 3, 4, 5]))"
   ]
  },
  {
   "cell_type": "code",
   "execution_count": 26,
   "id": "51cbf13e-7a98-42c8-bcf9-085d48ff3b8b",
   "metadata": {},
   "outputs": [
    {
     "name": "stdout",
     "output_type": "stream",
     "text": [
      "20\n"
     ]
    }
   ],
   "source": [
    "def solution(numbers):\n",
    "    answer = 0\n",
    "    \n",
    "    numbers.sort(reverse=True)\n",
    "    answer = numbers[0] * numbers[1]\n",
    "    \n",
    "    return answer\n",
    "\n",
    "print(solution([1, 2, 3, 4, 5]))"
   ]
  },
  {
   "cell_type": "code",
   "execution_count": 1,
   "id": "6a5a2ed0-bb95-4f85-8633-0066eff228e0",
   "metadata": {},
   "outputs": [
    {
     "name": "stdout",
     "output_type": "stream",
     "text": [
      "7\n"
     ]
    }
   ],
   "source": [
    "# 중앙값 구하기\n",
    "def solution(array):\n",
    "    array = sorted(array)\n",
    "    return array[len(array)//2]\n",
    "\n",
    "print(solution([1, 2, 7, 10, 11]))"
   ]
  },
  {
   "cell_type": "code",
   "execution_count": 2,
   "id": "a01b180d-3fd8-4d1d-a30c-3d4fb5976470",
   "metadata": {},
   "outputs": [
    {
     "ename": "ModuleNotFoundError",
     "evalue": "No module named 'numpy'",
     "output_type": "error",
     "traceback": [
      "\u001b[1;31m---------------------------------------------------------------------------\u001b[0m",
      "\u001b[1;31mModuleNotFoundError\u001b[0m                       Traceback (most recent call last)",
      "Cell \u001b[1;32mIn[2], line 1\u001b[0m\n\u001b[1;32m----> 1\u001b[0m \u001b[38;5;28;01mimport\u001b[39;00m \u001b[38;5;21;01mnumpy\u001b[39;00m \u001b[38;5;28;01mas\u001b[39;00m \u001b[38;5;21;01mnp\u001b[39;00m\n\u001b[0;32m      2\u001b[0m \u001b[38;5;28;01mdef\u001b[39;00m \u001b[38;5;21msolution\u001b[39m(array):\n\u001b[0;32m      3\u001b[0m     answer \u001b[38;5;241m=\u001b[39m np\u001b[38;5;241m.\u001b[39mmedian(array)\n",
      "\u001b[1;31mModuleNotFoundError\u001b[0m: No module named 'numpy'"
     ]
    }
   ],
   "source": [
    "import numpy as np\n",
    "def solution(array):\n",
    "    answer = np.median(array)\n",
    "    return answer\n",
    "\n",
    "print(solution([1, 2, 7, 10, 11]))"
   ]
  },
  {
   "cell_type": "code",
   "execution_count": 5,
   "id": "a92a4673-b641-4c0a-8480-c52ceab1316b",
   "metadata": {},
   "outputs": [
    {
     "name": "stdout",
     "output_type": "stream",
     "text": [
      "1\n",
      "1\n",
      "3\n"
     ]
    }
   ],
   "source": [
    "# 피자 나눠 먹기(1)\n",
    "# 내가 푼 풀이\n",
    "def solution(n):\n",
    "    if n % 7 == 0:\n",
    "        answer = n // 7\n",
    "    else:\n",
    "        answer = n // 7 + 1\n",
    "    return answer\n",
    "\n",
    "print(solution(7))\n",
    "print(solution(1))\n",
    "print(solution(15))"
   ]
  },
  {
   "cell_type": "code",
   "execution_count": 4,
   "id": "23e7bff1-620f-4fd0-bfa9-9f7a936b20c1",
   "metadata": {},
   "outputs": [
    {
     "name": "stdout",
     "output_type": "stream",
     "text": [
      "1\n",
      "1\n",
      "3\n"
     ]
    }
   ],
   "source": [
    "# 다른 풀이\n",
    "def solution(n):\n",
    "    return (n - 1) // 7 + 1\n",
    "\n",
    "print(solution(7))\n",
    "print(solution(1))\n",
    "print(solution(15))"
   ]
  },
  {
   "cell_type": "code",
   "execution_count": 7,
   "id": "6d262738-2d51-458a-b527-41c2ebfa4c63",
   "metadata": {},
   "outputs": [
    {
     "name": "stdout",
     "output_type": "stream",
     "text": [
      "2\n"
     ]
    }
   ],
   "source": [
    "# 배열의 유사도\n",
    "\n",
    "def solution(s1, s2):\n",
    "    return len(set(s1).intersection(s2))\n",
    "\n",
    "print(solution([\"a\", \"b\", \"c\"],[\"com\", \"b\", \"d\", \"p\", \"c\"]))"
   ]
  },
  {
   "cell_type": "code",
   "execution_count": 10,
   "id": "f7cf020d-12dd-403e-8ee7-06a4a0e3dcec",
   "metadata": {},
   "outputs": [
    {
     "name": "stdout",
     "output_type": "stream",
     "text": [
      "2\n"
     ]
    }
   ],
   "source": [
    "def solution(s1, s2):\n",
    "    return len(set(s1)&set(s2))\n",
    "\n",
    "print(solution([\"a\", \"b\", \"c\"],[\"com\", \"b\", \"d\", \"p\", \"c\"]))"
   ]
  },
  {
   "cell_type": "code",
   "execution_count": 11,
   "id": "1b9453c1-bdfe-4608-bbea-0128ae95db09",
   "metadata": {},
   "outputs": [
    {
     "name": "stdout",
     "output_type": "stream",
     "text": [
      "2\n"
     ]
    }
   ],
   "source": [
    "def solution(s1, s2):\n",
    "    count = 0\n",
    "\n",
    "    for val in s1:\n",
    "        if val in s2:\n",
    "            count += 1\n",
    "    return count\n",
    "\n",
    "print(solution([\"a\", \"b\", \"c\"],[\"com\", \"b\", \"d\", \"p\", \"c\"]))"
   ]
  },
  {
   "cell_type": "code",
   "execution_count": 7,
   "id": "1cfcd777-ab4d-4293-9904-a9e93265dc20",
   "metadata": {},
   "outputs": [
    {
     "name": "stdout",
     "output_type": "stream",
     "text": [
      "hhheeellllllooo\n"
     ]
    }
   ],
   "source": [
    "# 문자 반복 출력하기\n",
    "\n",
    "def solution(my_string, n):\n",
    "    answer = []\n",
    "    for i in my_string:\n",
    "        answer.append(i * n)\n",
    "    return ''.join(answer)\n",
    "\n",
    "print(solution(\"hello\", 3))"
   ]
  },
  {
   "cell_type": "code",
   "execution_count": 9,
   "id": "bdfded93-0965-4af1-ab7c-911e0da0e45d",
   "metadata": {},
   "outputs": [],
   "source": [
    "def solution(my_string, n):\n",
    "    return ''.join(i*n for i in my_string)"
   ]
  },
  {
   "cell_type": "code",
   "execution_count": 2,
   "id": "efb67a39-b776-43c1-8861-7f306af6211e",
   "metadata": {},
   "outputs": [
    {
     "name": "stdout",
     "output_type": "stream",
     "text": [
      "2\n"
     ]
    }
   ],
   "source": [
    "# 중복된 숫자 개수\n",
    "\n",
    "def solution(array, n):\n",
    "    answer = array.count(n)\n",
    "    return answer\n",
    "\n",
    "print(solution([1, 1, 2, 3, 4, 5], 1))"
   ]
  },
  {
   "cell_type": "code",
   "execution_count": 2,
   "id": "0fcc1580-ff59-4ab3-9045-2726a42b9f55",
   "metadata": {},
   "outputs": [
    {
     "name": "stdout",
     "output_type": "stream",
     "text": [
      "noraj\n"
     ]
    }
   ],
   "source": [
    "# 문자열 뒤집기\n",
    "# 내가 푼 풀이\n",
    "def solution(my_string):\n",
    "    answer = my_string[::-1]\n",
    "    return answer\n",
    "\n",
    "print(solution(\"jaron\"))"
   ]
  },
  {
   "cell_type": "code",
   "execution_count": 5,
   "id": "f9944e1a-eb50-4066-b65a-cf27f463cd1e",
   "metadata": {},
   "outputs": [
    {
     "name": "stdout",
     "output_type": "stream",
     "text": [
      "noraj\n"
     ]
    }
   ],
   "source": [
    "def solution(my_string):\n",
    "    return ''.join(list(reversed(my_string)))\n",
    "\n",
    "print(solution(\"jaron\"))"
   ]
  },
  {
   "cell_type": "code",
   "execution_count": 1,
   "id": "02dc7c77-f522-4d63-a8e0-6204bede5766",
   "metadata": {},
   "outputs": [
    {
     "name": "stdout",
     "output_type": "stream",
     "text": [
      "3\n"
     ]
    }
   ],
   "source": [
    "# 머쓱이보다 키 큰 사람\n",
    "\n",
    "# sort() : 리스트를 정렬하는 함수로, reverse = True로 하게 되면 내림차순으로 정렬이 가능하다. 또한 sort()는 리스트 자체를 변경해버린다. \n",
    "# sort()는 리스트의 함수로 리스트만을 받는다.\n",
    "# sorted() : sort()와 똑같은 기능을 하지만, 단, 리스트 자체를 변경하지 않고 정렬된 리스트를 새로 반환한다. \n",
    "# sorted()는 리스트 외에도 다양한 이터러블 객체도 받을 수 있다.\n",
    "# index() : [찾을 리스트].index(위치를 찾고자 하는 값) / 특정 리스트에서 특정 값이 몇 번째에 위치해 있는지 index 값을 반환해준다.\n",
    "\n",
    "def solution(array, height):\n",
    "    array.append(height)\n",
    "    array.sort(reverse=True)\n",
    "    return array.index(height)\n",
    "\n",
    "print(solution([149, 180, 192, 170], 167))"
   ]
  },
  {
   "cell_type": "code",
   "execution_count": 2,
   "id": "cfe3b91d-e8e8-408b-8057-b9c6694ccc74",
   "metadata": {},
   "outputs": [
    {
     "name": "stdout",
     "output_type": "stream",
     "text": [
      "3\n"
     ]
    }
   ],
   "source": [
    "def solution(array, height):\n",
    "    answer = 0\n",
    "    for i in array:\n",
    "        if i > height:\n",
    "            answer += 1 \n",
    "    return answer\n",
    "\n",
    "print(solution([149, 180, 192, 170], 167))"
   ]
  },
  {
   "cell_type": "code",
   "execution_count": 1,
   "id": "f11e6b4e-31d3-48b2-828c-e5a0cd6552e5",
   "metadata": {},
   "outputs": [],
   "source": [
    "# 짝수 홀수 개수\n",
    "\n",
    "def solution(num_list):\n",
    "    answer = [0,0]\n",
    "    for n in num_list:\n",
    "        answer[n%2]+=1\n",
    "    return answer"
   ]
  },
  {
   "cell_type": "code",
   "execution_count": null,
   "id": "5268caf3-cc7e-41f2-96fd-9405d840f298",
   "metadata": {},
   "outputs": [],
   "source": []
  },
  {
   "cell_type": "code",
   "execution_count": 4,
   "id": "febffca6-ffdb-4436-a6db-21b619107e66",
   "metadata": {},
   "outputs": [
    {
     "name": "stdout",
     "output_type": "stream",
     "text": [
      "2\n",
      "3\n"
     ]
    }
   ],
   "source": [
    "# 피자 나눠 먹기\n",
    "# 내가 푼 풀이\n",
    "\n",
    "def solution(slice, n):\n",
    "    if n % slice == 0:\n",
    "        answer = n // slice\n",
    "    else:\n",
    "        answer = n // slice + 1\n",
    "\n",
    "    return answer\n",
    "\n",
    "print(solution(7, 10))\n",
    "print(solution(4, 12))"
   ]
  },
  {
   "cell_type": "code",
   "execution_count": 5,
   "id": "2de090a9-ce53-41d2-9052-57a33402a620",
   "metadata": {},
   "outputs": [
    {
     "name": "stdout",
     "output_type": "stream",
     "text": [
      "2\n",
      "3\n"
     ]
    }
   ],
   "source": [
    "def solution(slice, n):\n",
    "    return ((n - 1) // slice) + 1\n",
    "\n",
    "print(solution(7, 10))\n",
    "print(solution(4, 12))"
   ]
  },
  {
   "cell_type": "code",
   "execution_count": 6,
   "id": "66342351-8a2c-493b-a658-2d35e0fdf06b",
   "metadata": {},
   "outputs": [
    {
     "name": "stdout",
     "output_type": "stream",
     "text": [
      "1\n"
     ]
    }
   ],
   "source": [
    "# 문자열 안에 문자열\n",
    "# 내가 푼 풀이\n",
    "\n",
    "def solution(str1, str2):\n",
    "    if str2 in str1:    # str1 안에 str2\n",
    "        answer = 1\n",
    "    else:\n",
    "        answer = 2\n",
    "    return answer\n",
    "\n",
    "print(solution(\"ab6CDE443fgh22iJKlmn1o\", \"6CD\"))"
   ]
  },
  {
   "cell_type": "code",
   "execution_count": 7,
   "id": "09d21b19-c0b7-48aa-b91f-e6e602e07688",
   "metadata": {},
   "outputs": [
    {
     "name": "stdout",
     "output_type": "stream",
     "text": [
      "1\n"
     ]
    }
   ],
   "source": [
    "def solution(str1, str2):\n",
    "    return 1 if str2 in str1 else 2\n",
    "\n",
    "print(solution(\"ab6CDE443fgh22iJKlmn1o\", \"6CD\"))"
   ]
  },
  {
   "cell_type": "code",
   "execution_count": 8,
   "id": "61eb5e36-8877-49fe-85ae-90c41e32757d",
   "metadata": {},
   "outputs": [
    {
     "name": "stdout",
     "output_type": "stream",
     "text": [
      "[2, 4, 6, 8, 10]\n"
     ]
    }
   ],
   "source": [
    "# 배열 두배 만들기\n",
    "\n",
    "def solution(numbers):\n",
    "    answer = []\n",
    "    for i in numbers:\n",
    "        answer.append(i * 2)\n",
    "    return answer\n",
    "\n",
    "print(solution([1, 2, 3, 4, 5]))"
   ]
  },
  {
   "cell_type": "code",
   "execution_count": 9,
   "id": "9fa5410e-f7e9-4421-a5b9-effc25d654ff",
   "metadata": {},
   "outputs": [],
   "source": [
    "def solution(numbers):\n",
    "    return [num*2 for num in numbers]"
   ]
  },
  {
   "cell_type": "code",
   "execution_count": null,
   "id": "d0fc6cf8-43a7-49c9-8fc0-88d94be201b2",
   "metadata": {},
   "outputs": [],
   "source": []
  }
 ],
 "metadata": {
  "kernelspec": {
   "display_name": "Python 3 (ipykernel)",
   "language": "python",
   "name": "python3"
  },
  "language_info": {
   "codemirror_mode": {
    "name": "ipython",
    "version": 3
   },
   "file_extension": ".py",
   "mimetype": "text/x-python",
   "name": "python",
   "nbconvert_exporter": "python",
   "pygments_lexer": "ipython3",
   "version": "3.11.4"
  }
 },
 "nbformat": 4,
 "nbformat_minor": 5
}
