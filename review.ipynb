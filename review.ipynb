{
 "cells": [
  {
   "cell_type": "markdown",
   "id": "e5ab4863-0e1e-45ff-a5ce-2c1f414f530e",
   "metadata": {},
   "source": [
    "# 01. intro\n",
    "\n",
    "## 단축기\n",
    "\n",
    "- ctrl + enter : 지금 셀 실행\n",
    "- shift + enter : 지금 셀 실행 & 아래로 이동\n",
    "- alt + enter : 지금 셀 실행 & 아래에 세로운 셀 추가\n",
    "\n",
    "## 주의사항\n",
    "\n",
    "1. Apple / apple        : 대소문자 구분\n",
    "2. git add . / git add. : 띄어쓰기 구분\n",
    "3. message / massage    : 철자 주의"
   ]
  },
  {
   "cell_type": "code",
   "execution_count": 1,
   "id": "f9cab4a2-f956-4edb-bbd9-2efda5603fd8",
   "metadata": {},
   "outputs": [],
   "source": [
    "# 주석을 나타낸다"
   ]
  },
  {
   "cell_type": "markdown",
   "id": "21bf47b5-75d0-4cc6-bbbf-72028cde8d54",
   "metadata": {},
   "source": [
    "# 1. 변수\n",
    "\n",
    "변수이름 = 값\n",
    "\n",
    "- 변수이름은 어떤 이름이든 상관 없음\n",
    "- 다만 영어, 숫자, _를 이용하여 선언\n",
    "- 키워드는 사용 불가"
   ]
  },
  {
   "cell_type": "code",
   "execution_count": 4,
   "id": "1a42d208-d3a7-4284-98f5-9b1c9166236e",
   "metadata": {},
   "outputs": [],
   "source": [
    "# 1이 a에 할당됨\n",
    "a = 1   "
   ]
  },
  {
   "cell_type": "code",
   "execution_count": 3,
   "id": "9d94c79b-f7c4-4b17-a768-15f7036af769",
   "metadata": {},
   "outputs": [
    {
     "data": {
      "text/plain": [
       "1"
      ]
     },
     "execution_count": 3,
     "metadata": {},
     "output_type": "execute_result"
    }
   ],
   "source": [
    "a"
   ]
  },
  {
   "cell_type": "code",
   "execution_count": 6,
   "id": "6c321b98-b6d3-4302-816a-5376f29f68c9",
   "metadata": {},
   "outputs": [
    {
     "data": {
      "text/plain": [
       "['False',\n",
       " 'None',\n",
       " 'True',\n",
       " 'and',\n",
       " 'as',\n",
       " 'assert',\n",
       " 'async',\n",
       " 'await',\n",
       " 'break',\n",
       " 'class',\n",
       " 'continue',\n",
       " 'def',\n",
       " 'del',\n",
       " 'elif',\n",
       " 'else',\n",
       " 'except',\n",
       " 'finally',\n",
       " 'for',\n",
       " 'from',\n",
       " 'global',\n",
       " 'if',\n",
       " 'import',\n",
       " 'in',\n",
       " 'is',\n",
       " 'lambda',\n",
       " 'nonlocal',\n",
       " 'not',\n",
       " 'or',\n",
       " 'pass',\n",
       " 'raise',\n",
       " 'return',\n",
       " 'try',\n",
       " 'while',\n",
       " 'with',\n",
       " 'yield']"
      ]
     },
     "execution_count": 6,
     "metadata": {},
     "output_type": "execute_result"
    }
   ],
   "source": [
    "import keyword\n",
    "keyword.kwlist"
   ]
  },
  {
   "cell_type": "markdown",
   "id": "d20918ec-c5c7-4eaa-8d1c-c82e5f7a7bbb",
   "metadata": {},
   "source": [
    "## 1.1 number"
   ]
  },
  {
   "cell_type": "code",
   "execution_count": 7,
   "id": "d7d6982f-2b14-455c-83fc-756f5fc517b8",
   "metadata": {},
   "outputs": [],
   "source": [
    "a = 1000"
   ]
  },
  {
   "cell_type": "code",
   "execution_count": 8,
   "id": "9d9ab64e-46b8-4c73-801b-cbc80be12278",
   "metadata": {},
   "outputs": [
    {
     "data": {
      "text/plain": [
       "1000"
      ]
     },
     "execution_count": 8,
     "metadata": {},
     "output_type": "execute_result"
    }
   ],
   "source": [
    "a"
   ]
  },
  {
   "cell_type": "code",
   "execution_count": 9,
   "id": "4568adef-ae76-483f-8db6-f13b4a0bee17",
   "metadata": {},
   "outputs": [
    {
     "data": {
      "text/plain": [
       "int"
      ]
     },
     "execution_count": 9,
     "metadata": {},
     "output_type": "execute_result"
    }
   ],
   "source": [
    "type(a)"
   ]
  },
  {
   "cell_type": "code",
   "execution_count": 10,
   "id": "84e0b19e-6298-424b-99fa-9630023d6ff9",
   "metadata": {},
   "outputs": [],
   "source": [
    "b = 1.2"
   ]
  },
  {
   "cell_type": "code",
   "execution_count": 11,
   "id": "15a86e54-7a99-4478-a5e9-a20244de0ee5",
   "metadata": {},
   "outputs": [
    {
     "data": {
      "text/plain": [
       "1.2"
      ]
     },
     "execution_count": 11,
     "metadata": {},
     "output_type": "execute_result"
    }
   ],
   "source": [
    "b"
   ]
  },
  {
   "cell_type": "code",
   "execution_count": 12,
   "id": "1e36096f-99bf-450e-b6f0-98601bb91ab8",
   "metadata": {},
   "outputs": [
    {
     "data": {
      "text/plain": [
       "float"
      ]
     },
     "execution_count": 12,
     "metadata": {},
     "output_type": "execute_result"
    }
   ],
   "source": [
    "type(b)"
   ]
  },
  {
   "cell_type": "code",
   "execution_count": 13,
   "id": "a98dabbb-df89-4793-8941-9812e3b904e5",
   "metadata": {},
   "outputs": [],
   "source": [
    "c = 1 - 4j"
   ]
  },
  {
   "cell_type": "code",
   "execution_count": 14,
   "id": "18b90577-7a36-4f4d-9ef2-f1468db07f45",
   "metadata": {},
   "outputs": [
    {
     "data": {
      "text/plain": [
       "(1-4j)"
      ]
     },
     "execution_count": 14,
     "metadata": {},
     "output_type": "execute_result"
    }
   ],
   "source": [
    "c"
   ]
  },
  {
   "cell_type": "code",
   "execution_count": 15,
   "id": "262512e2-089d-4bd2-938a-e559b8867e69",
   "metadata": {},
   "outputs": [
    {
     "data": {
      "text/plain": [
       "complex"
      ]
     },
     "execution_count": 15,
     "metadata": {},
     "output_type": "execute_result"
    }
   ],
   "source": [
    "type(c)"
   ]
  },
  {
   "cell_type": "code",
   "execution_count": 17,
   "id": "9affa0c6-0be8-41b4-8f8d-772f1f4a515f",
   "metadata": {},
   "outputs": [
    {
     "data": {
      "text/plain": [
       "-4.0"
      ]
     },
     "execution_count": 17,
     "metadata": {},
     "output_type": "execute_result"
    }
   ],
   "source": [
    "c.imag   # 허수부분"
   ]
  },
  {
   "cell_type": "code",
   "execution_count": 18,
   "id": "0e956e45-fd0d-477c-ad19-fa065118f846",
   "metadata": {},
   "outputs": [
    {
     "data": {
      "text/plain": [
       "1.0"
      ]
     },
     "execution_count": 18,
     "metadata": {},
     "output_type": "execute_result"
    }
   ],
   "source": [
    "c.real   # 실수부분"
   ]
  },
  {
   "cell_type": "markdown",
   "id": "b1ec0653-95ea-4249-96c1-bf55c5178f4d",
   "metadata": {},
   "source": [
    "## 1.2 Boolean\n",
    "\n",
    "True, False로 이루어진 타입"
   ]
  },
  {
   "cell_type": "code",
   "execution_count": 19,
   "id": "a5b9d6dd-217b-4559-aa67-09c756ee43e7",
   "metadata": {},
   "outputs": [],
   "source": [
    "a = True"
   ]
  },
  {
   "cell_type": "code",
   "execution_count": 21,
   "id": "0ab29af2-8f79-4c0b-8ba7-f6495dc66b0a",
   "metadata": {},
   "outputs": [
    {
     "data": {
      "text/plain": [
       "bool"
      ]
     },
     "execution_count": 21,
     "metadata": {},
     "output_type": "execute_result"
    }
   ],
   "source": [
    "type(a)"
   ]
  },
  {
   "cell_type": "code",
   "execution_count": 22,
   "id": "caa0720c-2ca9-470c-a9fe-0d64f36f6195",
   "metadata": {},
   "outputs": [],
   "source": [
    "b = False"
   ]
  },
  {
   "cell_type": "code",
   "execution_count": 23,
   "id": "7fa543df-1cbf-45c2-8bbe-e39c7d404bbd",
   "metadata": {},
   "outputs": [
    {
     "data": {
      "text/plain": [
       "bool"
      ]
     },
     "execution_count": 23,
     "metadata": {},
     "output_type": "execute_result"
    }
   ],
   "source": [
    "type(b)"
   ]
  },
  {
   "cell_type": "markdown",
   "id": "90fffdac-2cb2-485b-9417-436e38d49e86",
   "metadata": {},
   "source": [
    "## 1.3 None"
   ]
  },
  {
   "cell_type": "code",
   "execution_count": 24,
   "id": "7dd5bf1a-7692-4518-b1cb-05395cc8e14b",
   "metadata": {},
   "outputs": [],
   "source": [
    "a = None"
   ]
  },
  {
   "cell_type": "code",
   "execution_count": 25,
   "id": "dbc80301-ecdd-484b-9edf-506ecf13105a",
   "metadata": {},
   "outputs": [
    {
     "data": {
      "text/plain": [
       "NoneType"
      ]
     },
     "execution_count": 25,
     "metadata": {},
     "output_type": "execute_result"
    }
   ],
   "source": [
    "type(a)"
   ]
  },
  {
   "cell_type": "markdown",
   "id": "d65bc6cc-3291-4f43-8332-5b9bce8cc1f4",
   "metadata": {},
   "source": [
    "## 1.4 String\n",
    "\n",
    "- 문자열은 `'` `\"`를 이용하여 표현\n",
    "- 둘 중 하나를 선택했으면 그것으로 통일해서 진행"
   ]
  },
  {
   "cell_type": "code",
   "execution_count": 26,
   "id": "1cf990e0-c640-4953-9d05-e3e9d7491943",
   "metadata": {},
   "outputs": [],
   "source": [
    "a = 'hi'"
   ]
  },
  {
   "cell_type": "code",
   "execution_count": 27,
   "id": "ef64f7f6-f027-44db-9124-e2a8d248b80d",
   "metadata": {},
   "outputs": [
    {
     "data": {
      "text/plain": [
       "str"
      ]
     },
     "execution_count": 27,
     "metadata": {},
     "output_type": "execute_result"
    }
   ],
   "source": [
    "type(a)"
   ]
  },
  {
   "cell_type": "code",
   "execution_count": 28,
   "id": "0e1d4921-9a97-4d2d-ac4c-b140884e7aab",
   "metadata": {},
   "outputs": [
    {
     "name": "stdin",
     "output_type": "stream",
     "text": [
      " 21\n"
     ]
    },
    {
     "name": "stdout",
     "output_type": "stream",
     "text": [
      "21\n"
     ]
    }
   ],
   "source": [
    "age = input()\n",
    "print(age)"
   ]
  },
  {
   "cell_type": "code",
   "execution_count": 29,
   "id": "6e85751a-ce34-44cc-8a4d-c538432c731a",
   "metadata": {},
   "outputs": [
    {
     "name": "stdout",
     "output_type": "stream",
     "text": [
      "<class 'str'>\n"
     ]
    }
   ],
   "source": [
    "print(type(age))"
   ]
  },
  {
   "cell_type": "code",
   "execution_count": 30,
   "id": "5f1fe2e4-d59b-4f7c-8373-76e71126bf27",
   "metadata": {},
   "outputs": [
    {
     "name": "stdout",
     "output_type": "stream",
     "text": [
      "안녕하세요? \"조민진\"입니다.\n",
      "안녕하세요? '조민진'입니다.\n",
      "안녕하세요? '조민진'입니다.\n"
     ]
    }
   ],
   "source": [
    "print('안녕하세요? \"조민진\"입니다.')\n",
    "print(\"안녕하세요? '조민진'입니다.\")\n",
    "print('안녕하세요? \\'조민진\\'입니다.')"
   ]
  },
  {
   "cell_type": "code",
   "execution_count": 33,
   "id": "db25e7b0-6a6e-427e-8b52-96c82f2abd8e",
   "metadata": {},
   "outputs": [],
   "source": [
    "a = '''\n",
    "여기는 문자열입니다.\n",
    "엔터를 쳐서 여러줄을 작성할 수 있습니다.\n",
    "'''"
   ]
  },
  {
   "cell_type": "code",
   "execution_count": 35,
   "id": "070967ae-adef-4a09-991a-e172c9952e38",
   "metadata": {},
   "outputs": [
    {
     "name": "stdout",
     "output_type": "stream",
     "text": [
      "\n",
      "여기는 문자열입니다.\n",
      "엔터를 쳐서 여러줄을 작성할 수 있습니다.\n",
      "\n"
     ]
    }
   ],
   "source": [
    "print(a)"
   ]
  },
  {
   "cell_type": "code",
   "execution_count": 36,
   "id": "879f7c3b-2f92-43dc-b8b2-ffc266d4a61e",
   "metadata": {},
   "outputs": [
    {
     "name": "stdout",
     "output_type": "stream",
     "text": [
      "엔터를 입력해라 \n",
      "다음줄 \t들여쓰기도 가능\n",
      "하나\t둘\t셋\n"
     ]
    }
   ],
   "source": [
    "print('엔터를 입력해라 \\n다음줄 \\t들여쓰기도 가능')\n",
    "print('하나', '둘', '셋', sep='\\t')"
   ]
  },
  {
   "cell_type": "markdown",
   "id": "1bffc0a9-009a-4578-bc06-3b3b3028bb49",
   "metadata": {},
   "source": [
    "### string interpolation\n",
    "\n",
    "1. %-formatting\n",
    "2. str.format()\n",
    "3. f-string"
   ]
  },
  {
   "cell_type": "code",
   "execution_count": 37,
   "id": "51820fc0-b226-409b-8703-54fa64b20404",
   "metadata": {},
   "outputs": [],
   "source": [
    "age = 20"
   ]
  },
  {
   "cell_type": "code",
   "execution_count": 38,
   "id": "a6ffa9ab-e898-4984-9a91-75b6a6c09dc0",
   "metadata": {},
   "outputs": [
    {
     "name": "stdout",
     "output_type": "stream",
     "text": [
      "홍길동은 20살입니다.\n"
     ]
    }
   ],
   "source": [
    "print('홍길동은 %s살입니다.' %age)"
   ]
  },
  {
   "cell_type": "code",
   "execution_count": 39,
   "id": "a54386ca-0fc0-4f3e-90d4-a9a29bff0a7d",
   "metadata": {},
   "outputs": [
    {
     "name": "stdout",
     "output_type": "stream",
     "text": [
      "홍길동은 20살입니다.\n"
     ]
    }
   ],
   "source": [
    "print('홍길동은 {}살입니다.'.format(age))"
   ]
  },
  {
   "cell_type": "code",
   "execution_count": 40,
   "id": "6cb892e5-ec39-4c87-801a-d9068c27d081",
   "metadata": {},
   "outputs": [
    {
     "name": "stdout",
     "output_type": "stream",
     "text": [
      "홍길동은 20살입니다.\n"
     ]
    }
   ],
   "source": [
    "print(f'홍길동은 {age}살입니다.')"
   ]
  },
  {
   "cell_type": "markdown",
   "id": "6731aad1-05d2-401a-85b3-4598dd6bb211",
   "metadata": {},
   "source": [
    "# 2. 연산자\n",
    "\n",
    "## 2.1 산술연산자"
   ]
  },
  {
   "cell_type": "code",
   "execution_count": 41,
   "id": "5652b107-fe97-4fe0-8d30-1c89d19473b9",
   "metadata": {},
   "outputs": [],
   "source": [
    "a = 2\n",
    "b = 3"
   ]
  },
  {
   "cell_type": "code",
   "execution_count": 43,
   "id": "29d6c0cc-3f38-4981-9f73-7202ebcc84b7",
   "metadata": {},
   "outputs": [
    {
     "name": "stdout",
     "output_type": "stream",
     "text": [
      "5\n",
      "-1\n",
      "6\n",
      "0.6666666666666666\n",
      "8\n"
     ]
    }
   ],
   "source": [
    "print(a + b)\n",
    "print(a - b)\n",
    "print(a * b)\n",
    "print(a / b)\n",
    "print(a ** b)"
   ]
  },
  {
   "cell_type": "code",
   "execution_count": 45,
   "id": "e2966550-4e22-4965-8ebb-cf094b1ea193",
   "metadata": {},
   "outputs": [
    {
     "name": "stdout",
     "output_type": "stream",
     "text": [
      "0\n",
      "2\n",
      "(0, 2)\n"
     ]
    }
   ],
   "source": [
    "# a를 b로 나눈 몫\n",
    "print(a // b)\n",
    "# a를 b로 나누고 나머지 출력\n",
    "print(a % b)\n",
    "# a를 b로 나눈 몫, 나머지\n",
    "print(divmod(a,b))   # tuple"
   ]
  },
  {
   "cell_type": "markdown",
   "id": "2fa884ed-ff19-4fc9-8266-328f0023f6e6",
   "metadata": {},
   "source": [
    "## 2.2 비교연산자"
   ]
  },
  {
   "cell_type": "code",
   "execution_count": 46,
   "id": "1a1b4b60-2175-4330-9312-19520ae045af",
   "metadata": {},
   "outputs": [],
   "source": [
    "a = 1\n",
    "b = 10"
   ]
  },
  {
   "cell_type": "code",
   "execution_count": 48,
   "id": "5b4db455-3792-461c-a899-425a79fee6ba",
   "metadata": {},
   "outputs": [
    {
     "name": "stdout",
     "output_type": "stream",
     "text": [
      "False\n",
      "False\n",
      "True\n",
      "True\n"
     ]
    }
   ],
   "source": [
    "print(a > b)\n",
    "print(a >= b)\n",
    "print(a < b)\n",
    "print(a <= b)"
   ]
  },
  {
   "cell_type": "code",
   "execution_count": 49,
   "id": "d412432d-9109-4b1d-83ab-4ad84282d642",
   "metadata": {},
   "outputs": [
    {
     "name": "stdout",
     "output_type": "stream",
     "text": [
      "False\n",
      "True\n"
     ]
    }
   ],
   "source": [
    "print(a == b) # 같다\n",
    "print(a != b) # 다르다"
   ]
  },
  {
   "cell_type": "code",
   "execution_count": 51,
   "id": "d8f0fd8b-41b8-496a-891f-d4b15ab4f777",
   "metadata": {},
   "outputs": [
    {
     "name": "stdout",
     "output_type": "stream",
     "text": [
      "True\n",
      "False\n"
     ]
    }
   ],
   "source": [
    "print('hi' == 'hi')\n",
    "print('HI' == 'hi')"
   ]
  },
  {
   "cell_type": "markdown",
   "id": "427a9c62-1fe7-428e-acd7-be09cfff67ee",
   "metadata": {},
   "source": [
    "## 2.3 논리연산자\n",
    "\n",
    "- and : 양쪽 모두 True일 때, True를 반환\n",
    "- or : 양쪽 모두 False일 때, False를 반환\n",
    "- not : 값을 반대로 전환"
   ]
  },
  {
   "cell_type": "code",
   "execution_count": 52,
   "id": "e3b4a790-9bb1-4349-a04e-e85826e997e2",
   "metadata": {},
   "outputs": [
    {
     "name": "stdout",
     "output_type": "stream",
     "text": [
      "True\n",
      "False\n",
      "False\n",
      "False\n"
     ]
    }
   ],
   "source": [
    "print(True and True)\n",
    "print(True and False)\n",
    "print(False and True)\n",
    "print(False and False)"
   ]
  },
  {
   "cell_type": "code",
   "execution_count": 53,
   "id": "9229d7a2-1006-4b27-9bb0-a5edd3ec6208",
   "metadata": {},
   "outputs": [
    {
     "name": "stdout",
     "output_type": "stream",
     "text": [
      "True\n",
      "True\n",
      "True\n",
      "False\n"
     ]
    }
   ],
   "source": [
    "print(True or True)\n",
    "print(True or False)\n",
    "print(False or True)\n",
    "print(False or False)"
   ]
  },
  {
   "cell_type": "code",
   "execution_count": 54,
   "id": "c5c10464-6e89-469c-a23b-387314a41f09",
   "metadata": {},
   "outputs": [
    {
     "name": "stdout",
     "output_type": "stream",
     "text": [
      "False\n"
     ]
    }
   ],
   "source": [
    "print(not True)"
   ]
  },
  {
   "cell_type": "code",
   "execution_count": 56,
   "id": "56f96042-3372-4764-ab6a-9fdfc9a5aa29",
   "metadata": {},
   "outputs": [
    {
     "name": "stdout",
     "output_type": "stream",
     "text": [
      "5\n",
      "0\n",
      "0\n",
      "0\n"
     ]
    }
   ],
   "source": [
    "# 단축평가\n",
    "# 3-> True, 0->False\n",
    "print(3 and 5)\n",
    "print(3 and 0)\n",
    "print(0 and 5)\n",
    "print(0 and 0)"
   ]
  },
  {
   "cell_type": "code",
   "execution_count": 58,
   "id": "19721900-7c32-4be0-9fe1-a1d205fd5d31",
   "metadata": {},
   "outputs": [
    {
     "name": "stdout",
     "output_type": "stream",
     "text": [
      "3\n",
      "3\n",
      "5\n",
      "0\n"
     ]
    }
   ],
   "source": [
    "# 3-> True, 0->False\n",
    "print(3 or 5)\n",
    "print(3 or 0)\n",
    "print(0 or 5)\n",
    "print(0 or 0)"
   ]
  },
  {
   "cell_type": "markdown",
   "id": "6d5b6d21-500a-4623-b6ef-b0228ae92432",
   "metadata": {},
   "source": [
    "## 2.4 복합연산자"
   ]
  },
  {
   "cell_type": "code",
   "execution_count": 59,
   "id": "2e6f124a-3216-45bf-b25e-d8053d534637",
   "metadata": {},
   "outputs": [],
   "source": [
    "a = 3\n",
    "b = 4"
   ]
  },
  {
   "cell_type": "code",
   "execution_count": 61,
   "id": "04cd94f8-3ab3-40b8-a9b4-6bce1243eec8",
   "metadata": {},
   "outputs": [],
   "source": [
    "a = a + b\n",
    "a = a - b\n",
    "a = a * b\n",
    "a = a / b\n",
    "a = a ** b\n",
    "a = a // b\n",
    "a = a % b"
   ]
  },
  {
   "cell_type": "code",
   "execution_count": 62,
   "id": "efe3ccfb-790c-40a9-aa28-bd37f43e120e",
   "metadata": {},
   "outputs": [],
   "source": [
    "a += b\n",
    "a -= b\n",
    "a *= b\n",
    "a /= b\n",
    "a **= b\n",
    "a //= b\n",
    "a %= b"
   ]
  },
  {
   "cell_type": "markdown",
   "id": "c83dc06a-b872-4f22-97f5-008e2c1d272e",
   "metadata": {},
   "source": [
    "## 2.5 기타연산자"
   ]
  },
  {
   "cell_type": "code",
   "execution_count": 63,
   "id": "a0ee71a9-e597-4dff-a82f-cd96ed0a474f",
   "metadata": {},
   "outputs": [],
   "source": [
    "a = 'hey'\n",
    "b = 'minjin'"
   ]
  },
  {
   "cell_type": "code",
   "execution_count": 64,
   "id": "5b6139b5-c7ab-483f-b6e6-d9d2bf63f1bc",
   "metadata": {},
   "outputs": [
    {
     "data": {
      "text/plain": [
       "'heyminjin'"
      ]
     },
     "execution_count": 64,
     "metadata": {},
     "output_type": "execute_result"
    }
   ],
   "source": [
    "# concatenation\n",
    "a + b"
   ]
  },
  {
   "cell_type": "code",
   "execution_count": 66,
   "id": "29626a1e-c09a-40c3-a5fb-4bcc82088477",
   "metadata": {},
   "outputs": [
    {
     "name": "stdout",
     "output_type": "stream",
     "text": [
      "True\n",
      "False\n"
     ]
    }
   ],
   "source": [
    "# containment\n",
    "print('a' in 'apple')\n",
    "print('z' in 'apple')      "
   ]
  },
  {
   "cell_type": "code",
   "execution_count": 67,
   "id": "de7cde18-3de3-48af-9da0-4957da3b54fa",
   "metadata": {},
   "outputs": [
    {
     "name": "stdout",
     "output_type": "stream",
     "text": [
      "True\n",
      "140713902662440\n",
      "140713902662440\n"
     ]
    }
   ],
   "source": [
    "# identity\n",
    "a = 1\n",
    "b = 1\n",
    "print(a is b) # 메모리 주소가 같음\n",
    "print(id(a))\n",
    "print(id(b))"
   ]
  },
  {
   "cell_type": "code",
   "execution_count": 68,
   "id": "2a727ae2-6f62-46ee-acc1-bad593da8056",
   "metadata": {},
   "outputs": [
    {
     "name": "stdout",
     "output_type": "stream",
     "text": [
      "False\n",
      "2454034284976\n",
      "2454034285040\n"
     ]
    }
   ],
   "source": [
    "# identity\n",
    "a = 123123\n",
    "b = 123123\n",
    "print(a is b) # 메모리 주소가 달라서 다른 데이터로 인식\n",
    "print(id(a))\n",
    "print(id(b))"
   ]
  },
  {
   "cell_type": "markdown",
   "id": "d1ad893c-5da2-48ac-b7fa-42027b3c356c",
   "metadata": {},
   "source": [
    "### 우선순위\n",
    "\n",
    "0. ()를 통해 그룹\n",
    "1. **\n",
    "2. 산술연산자(*, /)\n",
    "3. 산술연산자(+, -)\n",
    "4. 비교연산자 in, is\n",
    "5. not\n",
    "6. and\n",
    "7. or"
   ]
  },
  {
   "cell_type": "markdown",
   "id": "591fa255-9fbf-4bed-917f-0a575c09acf0",
   "metadata": {},
   "source": [
    "# 형변환\n",
    "\n",
    "## 3.1 암시적 형변환"
   ]
  },
  {
   "cell_type": "code",
   "execution_count": 69,
   "id": "3129bcf6-9947-4648-8563-a4bdc88b869e",
   "metadata": {},
   "outputs": [],
   "source": [
    "a = True\n",
    "b = False\n",
    "c = 1"
   ]
  },
  {
   "cell_type": "code",
   "execution_count": 70,
   "id": "97f231e1-9a35-4c5a-92d1-dbadc51a36ad",
   "metadata": {},
   "outputs": [
    {
     "name": "stdout",
     "output_type": "stream",
     "text": [
      "2\n",
      "1\n"
     ]
    }
   ],
   "source": [
    "# True는 1이고 False는 0\n",
    "print(a + c)\n",
    "print(b + c)"
   ]
  },
  {
   "cell_type": "code",
   "execution_count": 80,
   "id": "50b5d352-1921-4d53-9cb7-f1cbf04cdf23",
   "metadata": {},
   "outputs": [],
   "source": [
    "int_num = 3\n",
    "float_num = 3.3\n",
    "complex_num = 1 + 3j"
   ]
  },
  {
   "cell_type": "code",
   "execution_count": 81,
   "id": "774dd39c-dd97-4398-a4d2-daf581885d57",
   "metadata": {},
   "outputs": [
    {
     "name": "stdout",
     "output_type": "stream",
     "text": [
      "6.3\n",
      "(4+3j)\n"
     ]
    }
   ],
   "source": [
    "print(int_num + float_num)\n",
    "print(int_num + complex_num)"
   ]
  },
  {
   "cell_type": "markdown",
   "id": "b3ae9be8-1c54-4e77-8e91-93179ce9cc3e",
   "metadata": {},
   "source": [
    "## 3.2 명시적 형변환\n",
    "\n",
    "- int() : string, float를 int로 변환\n",
    "- float() : string, int를 float로 변환\n",
    "- string() : int, float 등을 string으로 변환\n",
    "- bool() : int, list 등을 boolean으로 변환"
   ]
  },
  {
   "cell_type": "code",
   "execution_count": 71,
   "id": "84b4d712-a7b9-4f9b-a408-201c50376939",
   "metadata": {},
   "outputs": [],
   "source": [
    "a = 1\n",
    "b = '번'"
   ]
  },
  {
   "cell_type": "code",
   "execution_count": 72,
   "id": "05577ef2-ea41-4ebf-b666-e2df8141fd22",
   "metadata": {},
   "outputs": [
    {
     "name": "stdout",
     "output_type": "stream",
     "text": [
      "1번\n"
     ]
    }
   ],
   "source": [
    "print(str(a)+b)"
   ]
  },
  {
   "cell_type": "code",
   "execution_count": 73,
   "id": "998310cf-a44a-4274-910d-16b21ae0329d",
   "metadata": {},
   "outputs": [],
   "source": [
    "a = '1'"
   ]
  },
  {
   "cell_type": "code",
   "execution_count": 74,
   "id": "5f06a67a-e4bf-4604-9edc-28cf4a0e68c3",
   "metadata": {},
   "outputs": [
    {
     "data": {
      "text/plain": [
       "int"
      ]
     },
     "execution_count": 74,
     "metadata": {},
     "output_type": "execute_result"
    }
   ],
   "source": [
    "type(int(a))"
   ]
  },
  {
   "cell_type": "code",
   "execution_count": 75,
   "id": "02f4bc68-f097-4e18-8c3a-72fefc3d2b04",
   "metadata": {},
   "outputs": [],
   "source": [
    "b = '2.2'"
   ]
  },
  {
   "cell_type": "code",
   "execution_count": 76,
   "id": "c446498c-d6b8-4c90-892e-30789698787d",
   "metadata": {},
   "outputs": [
    {
     "data": {
      "text/plain": [
       "float"
      ]
     },
     "execution_count": 76,
     "metadata": {},
     "output_type": "execute_result"
    }
   ],
   "source": [
    "type(float(b))"
   ]
  },
  {
   "cell_type": "code",
   "execution_count": 77,
   "id": "4c9cbaf3-93d4-4e3e-99b0-8d35c5eac027",
   "metadata": {},
   "outputs": [],
   "source": [
    "a = 1\n",
    "b = 0"
   ]
  },
  {
   "cell_type": "code",
   "execution_count": 78,
   "id": "433122c6-3845-43d6-b5bf-e2d8ed9d7fb0",
   "metadata": {},
   "outputs": [
    {
     "data": {
      "text/plain": [
       "True"
      ]
     },
     "execution_count": 78,
     "metadata": {},
     "output_type": "execute_result"
    }
   ],
   "source": [
    "bool(a)"
   ]
  },
  {
   "cell_type": "code",
   "execution_count": 79,
   "id": "6d286a8e-9926-493b-9393-850e75537e23",
   "metadata": {},
   "outputs": [
    {
     "data": {
      "text/plain": [
       "False"
      ]
     },
     "execution_count": 79,
     "metadata": {},
     "output_type": "execute_result"
    }
   ],
   "source": [
    "bool(b)"
   ]
  },
  {
   "cell_type": "markdown",
   "id": "6433c79e-8b60-44b3-a6a9-8a199857ef9b",
   "metadata": {},
   "source": [
    "# 4. 시퀀스 (sequence) 자료형\n",
    "\n",
    "시퀀스는 데이터의 순서대로 나열된 자료 구조. (순서대로 나열되었다는 것은 정렬된 것과 다르다)\n",
    "\n",
    "1. 리스트\n",
    "2. 튜플\n",
    "3. 레인지\n",
    "4. 문자열\n",
    "\n",
    "## 4.1 List (배열)\n",
    "\n",
    "- 선언 : 변수이름 = [value1, value2, value3 ...]\n",
    "- 접근 : 변수이름[index]"
   ]
  },
  {
   "cell_type": "code",
   "execution_count": 82,
   "id": "28328a59-120e-4b7c-8ff2-e511676af70e",
   "metadata": {},
   "outputs": [
    {
     "name": "stdout",
     "output_type": "stream",
     "text": [
      "['서울', '대구', '대전']\n",
      "대구\n",
      "['서울', '부산', '대전']\n"
     ]
    }
   ],
   "source": [
    "location = ['서울', '대구', '대전']\n",
    "print(location)\n",
    "print(location[1])\n",
    "location[1] = '부산'\n",
    "print(location)"
   ]
  },
  {
   "cell_type": "markdown",
   "id": "5c4078bc-2a68-4b53-a6b1-ec2c722e3467",
   "metadata": {},
   "source": [
    "## 4.2 Tuple\n",
    "\n",
    "- 선언 : 변수이름 = (value1, value2, value3)\n",
    "- 접근 : 변수이름[index]\n",
    "- 리스트와 유사하지만 수정 불가능(immutable)하다."
   ]
  },
  {
   "cell_type": "code",
   "execution_count": 83,
   "id": "38eef7ec-0ce1-4e1a-a132-7906e5ae8206",
   "metadata": {},
   "outputs": [
    {
     "name": "stdout",
     "output_type": "stream",
     "text": [
      "(1, 2, 3)\n",
      "<class 'tuple'>\n",
      "3\n"
     ]
    }
   ],
   "source": [
    "t = (1, 2, 3)\n",
    "print(t)\n",
    "print(type(t))\n",
    "print(t[2])"
   ]
  },
  {
   "cell_type": "code",
   "execution_count": 84,
   "id": "c8269861-80c5-41fc-80fc-f4b4b807e89d",
   "metadata": {},
   "outputs": [
    {
     "ename": "TypeError",
     "evalue": "'tuple' object does not support item assignment",
     "output_type": "error",
     "traceback": [
      "\u001b[1;31m---------------------------------------------------------------------------\u001b[0m",
      "\u001b[1;31mTypeError\u001b[0m                                 Traceback (most recent call last)",
      "Cell \u001b[1;32mIn[84], line 1\u001b[0m\n\u001b[1;32m----> 1\u001b[0m \u001b[43mt\u001b[49m\u001b[43m[\u001b[49m\u001b[38;5;241;43m2\u001b[39;49m\u001b[43m]\u001b[49m \u001b[38;5;241m=\u001b[39m \u001b[38;5;241m5\u001b[39m\n",
      "\u001b[1;31mTypeError\u001b[0m: 'tuple' object does not support item assignment"
     ]
    }
   ],
   "source": [
    "t[2] = 5"
   ]
  },
  {
   "cell_type": "code",
   "execution_count": 85,
   "id": "f59dd422-4e0f-40a1-a2f2-c58923d90f10",
   "metadata": {},
   "outputs": [
    {
     "name": "stdout",
     "output_type": "stream",
     "text": [
      "1 2\n",
      "2 1\n"
     ]
    }
   ],
   "source": [
    "x, y = 1, 2\n",
    "print(x, y)\n",
    "\n",
    "x, y = y, x\n",
    "print(x, y)"
   ]
  },
  {
   "cell_type": "markdown",
   "id": "a5e4830c-85ec-4a86-85bf-98b35d2866fc",
   "metadata": {},
   "source": [
    "## 4.3 range\n",
    "\n",
    "- range(n) : 0부터 n-1까지 범위\n",
    "- range(n, m) : n부터 m-1까지 범위\n",
    "- range(n, m, s) : n부터 m-1까지 +s만큼 증가하는 범위"
   ]
  },
  {
   "cell_type": "code",
   "execution_count": 86,
   "id": "ae9c0b7c-dc48-4a2f-93ba-207122759a29",
   "metadata": {},
   "outputs": [
    {
     "name": "stdout",
     "output_type": "stream",
     "text": [
      "range(0, 10)\n",
      "[0, 1, 2, 3, 4, 5, 6, 7, 8, 9]\n"
     ]
    }
   ],
   "source": [
    "a = range(10)\n",
    "print(a)\n",
    "print(list(a))"
   ]
  },
  {
   "cell_type": "code",
   "execution_count": 87,
   "id": "02115876-6ddc-4f57-ad95-e2bcbdebeb74",
   "metadata": {},
   "outputs": [
    {
     "name": "stdout",
     "output_type": "stream",
     "text": [
      "[1, 3, 5, 7, 9]\n"
     ]
    }
   ],
   "source": [
    "a = range(1, 10, 2)\n",
    "print(list(a))"
   ]
  },
  {
   "cell_type": "code",
   "execution_count": 88,
   "id": "8dc23b71-2c0f-444f-a202-f618b0b8f7e3",
   "metadata": {},
   "outputs": [
    {
     "name": "stdout",
     "output_type": "stream",
     "text": [
      "[-1, -2, -3, -4, -5, -6, -7, -8, -9]\n"
     ]
    }
   ],
   "source": [
    "a = range(-1, -10, -1)\n",
    "print(list(a))"
   ]
  },
  {
   "cell_type": "markdown",
   "id": "3e4d9d49-2ec2-43bb-897a-8c769b3ce390",
   "metadata": {},
   "source": [
    "## 4.4 String\n",
    "\n",
    "기본 데이터 구조"
   ]
  },
  {
   "cell_type": "markdown",
   "id": "0570b82b-fd10-4eba-b18c-34d6523ba869",
   "metadata": {},
   "source": [
    "## 4.5 시퀀스에서 활용가능한 연산/함수"
   ]
  },
  {
   "cell_type": "code",
   "execution_count": 89,
   "id": "8746c0ad-8e50-4cf7-bed0-0f1d947c661b",
   "metadata": {},
   "outputs": [],
   "source": [
    "my_list = [1, 2, 3, 4, 5]\n",
    "my_tuple = (1, 2, 3, 4, 5)\n",
    "my_range = range(1, 100)\n",
    "my_string = '12345'"
   ]
  },
  {
   "cell_type": "code",
   "execution_count": 90,
   "id": "4f9656f9-b381-4466-9aa8-0139467c6b06",
   "metadata": {},
   "outputs": [
    {
     "name": "stdout",
     "output_type": "stream",
     "text": [
      "2\n",
      "2\n",
      "2\n",
      "2\n"
     ]
    }
   ],
   "source": [
    "print(my_list[1])\n",
    "print(my_tuple[1])\n",
    "print(my_range[1])\n",
    "print(my_string[1])"
   ]
  },
  {
   "cell_type": "code",
   "execution_count": 91,
   "id": "fe246f6b-f215-48e4-bc7b-6ef752ba97ec",
   "metadata": {},
   "outputs": [
    {
     "name": "stdout",
     "output_type": "stream",
     "text": [
      "[2, 3]\n",
      "(2, 3)\n",
      "range(2, 4)\n",
      "23\n"
     ]
    }
   ],
   "source": [
    "# slicing\n",
    "print(my_list[1:3])\n",
    "print(my_tuple[1:3])\n",
    "print(my_range[1:3])\n",
    "print(my_string[1:3])"
   ]
  },
  {
   "cell_type": "code",
   "execution_count": 92,
   "id": "387225aa-4718-45de-866e-1c7140787deb",
   "metadata": {},
   "outputs": [
    {
     "data": {
      "text/plain": [
       "[3, 5]"
      ]
     },
     "execution_count": 92,
     "metadata": {},
     "output_type": "execute_result"
    }
   ],
   "source": [
    "# slicing (k간격으로)\n",
    "list(my_range[2:6:2])"
   ]
  },
  {
   "cell_type": "code",
   "execution_count": 93,
   "id": "4a4248e6-6e76-4337-936c-2e9683e1575b",
   "metadata": {},
   "outputs": [
    {
     "name": "stdout",
     "output_type": "stream",
     "text": [
      "True\n",
      "True\n",
      "True\n",
      "True\n"
     ]
    }
   ],
   "source": [
    "print(1 in my_list)\n",
    "print(1 in my_tuple)\n",
    "print(1 in my_range)\n",
    "print('1' in my_string)"
   ]
  },
  {
   "cell_type": "code",
   "execution_count": 94,
   "id": "0fa725c1-07cf-4f75-b06b-8fe52341b3aa",
   "metadata": {},
   "outputs": [
    {
     "name": "stdout",
     "output_type": "stream",
     "text": [
      "False\n",
      "False\n",
      "False\n",
      "False\n"
     ]
    }
   ],
   "source": [
    "print(1 not in my_list)\n",
    "print(1 not in my_tuple)\n",
    "print(1 not in my_range)\n",
    "print('1' not in my_string)"
   ]
  },
  {
   "cell_type": "code",
   "execution_count": 95,
   "id": "7e698d26-3be1-4af3-be84-3712665b8d83",
   "metadata": {},
   "outputs": [
    {
     "name": "stdout",
     "output_type": "stream",
     "text": [
      "[1, 2, 3, 4, 5, 1, 2, 3]\n"
     ]
    }
   ],
   "source": [
    "# concatenation\n",
    "print(my_list + [1, 2, 3])"
   ]
  },
  {
   "cell_type": "code",
   "execution_count": 97,
   "id": "97e36e25-5bcd-437d-a550-58af4f793414",
   "metadata": {},
   "outputs": [
    {
     "name": "stdout",
     "output_type": "stream",
     "text": [
      "5\n",
      "1\n",
      "5\n"
     ]
    },
    {
     "data": {
      "text/plain": [
       "1"
      ]
     },
     "execution_count": 97,
     "metadata": {},
     "output_type": "execute_result"
    }
   ],
   "source": [
    "print(len(my_list))\n",
    "print(min(my_list))\n",
    "print(max(my_list))\n",
    "my_list.count(1)"
   ]
  },
  {
   "cell_type": "markdown",
   "id": "f79bc9e0-06e8-4fd1-9ee7-899353b7862d",
   "metadata": {},
   "source": [
    "# 5. 시퀀스 데이터가 아닌 자료구조\n",
    "\n",
    "## 5.1 Set\n",
    "\n",
    "수학에서 사용하는 집합과 동일하게 처리 (중복된 값이 없음)\n",
    "\n",
    "- 선언 : 변수이름 = {value1, value2, value3 ...}"
   ]
  },
  {
   "cell_type": "code",
   "execution_count": 98,
   "id": "c07457f8-764c-4471-9d2d-f0b7f249e7c6",
   "metadata": {},
   "outputs": [],
   "source": [
    "my_set_a = {1, 2, 3, 4, 5}\n",
    "my_set_b = {3, 4, 5, 6, 7}"
   ]
  },
  {
   "cell_type": "code",
   "execution_count": 99,
   "id": "08495c9c-5ae1-400f-9830-0b18e7593e1c",
   "metadata": {},
   "outputs": [
    {
     "name": "stdout",
     "output_type": "stream",
     "text": [
      "{1, 2}\n",
      "{1, 2, 3, 4, 5, 6, 7}\n",
      "{3, 4, 5}\n"
     ]
    }
   ],
   "source": [
    "print(my_set_a - my_set_b)\n",
    "print(my_set_a | my_set_b)\n",
    "print(my_set_a & my_set_b)"
   ]
  },
  {
   "cell_type": "code",
   "execution_count": 100,
   "id": "f80a3eb9-c6f4-4bcb-acbc-b7cf23c90747",
   "metadata": {},
   "outputs": [
    {
     "name": "stdout",
     "output_type": "stream",
     "text": [
      "[1, 2, 3, 4, 5, 6, 7]\n"
     ]
    }
   ],
   "source": [
    "# 중복 허용 X\n",
    "my_list = [1, 1, 1, 1, 1, 1, 1, 1, 1, 1, 2, 3, 4, 5, 6, 7]\n",
    "print(list(set(my_list)))"
   ]
  },
  {
   "cell_type": "markdown",
   "id": "134de137-df90-48ab-862f-da2b0f9e73b0",
   "metadata": {},
   "source": [
    "## 5.2 Dictionary\n",
    "\n",
    "- 선언 : 변수이름 = {key1: value1, key2: value2, ...}\n",
    "- 접근 : 변수이름[key]\n",
    "\n",
    "- dictionary는 key와 value가 쌍으로 이루어져있다.\n",
    "- key에는 immutable한 모든 것을 사용 가능 (불변값 : string, integer)\n",
    "- value에는 모든 데이터 가능 (list, dictionary도 가능)"
   ]
  },
  {
   "cell_type": "code",
   "execution_count": 101,
   "id": "29888de6-009a-49d0-a9ab-0a766fc38bfb",
   "metadata": {},
   "outputs": [
    {
     "data": {
      "text/plain": [
       "'02'"
      ]
     },
     "execution_count": 101,
     "metadata": {},
     "output_type": "execute_result"
    }
   ],
   "source": [
    "my_dict = {'서울': '02', '경기도': '031'}\n",
    "my_dict['서울']"
   ]
  },
  {
   "cell_type": "code",
   "execution_count": 102,
   "id": "b048e8b7-42f4-434b-98f4-1682641929ed",
   "metadata": {},
   "outputs": [],
   "source": [
    "dict_a = {\n",
    "    'name' : 'minjin',\n",
    "    'location' : 'seoul1',\n",
    "    'location' : 'seoul2',\n",
    "}"
   ]
  },
  {
   "cell_type": "code",
   "execution_count": 103,
   "id": "66b1ca22-38a6-4dd6-a16c-1ff9915293bc",
   "metadata": {},
   "outputs": [
    {
     "name": "stdout",
     "output_type": "stream",
     "text": [
      "{'name': 'minjin', 'location': 'seoul2'}\n"
     ]
    }
   ],
   "source": [
    "print(dict_a)"
   ]
  },
  {
   "cell_type": "code",
   "execution_count": 104,
   "id": "892f8ddf-51b5-4bf0-967a-3b888c775d6f",
   "metadata": {},
   "outputs": [
    {
     "data": {
      "text/plain": [
       "dict_keys(['name', 'location'])"
      ]
     },
     "execution_count": 104,
     "metadata": {},
     "output_type": "execute_result"
    }
   ],
   "source": [
    "dict_a.keys()"
   ]
  },
  {
   "cell_type": "code",
   "execution_count": 105,
   "id": "81a6c15a-7a82-473a-86d0-73548f3323bf",
   "metadata": {},
   "outputs": [
    {
     "data": {
      "text/plain": [
       "dict_values(['minjin', 'seoul2'])"
      ]
     },
     "execution_count": 105,
     "metadata": {},
     "output_type": "execute_result"
    }
   ],
   "source": [
    "dict_a.values()"
   ]
  },
  {
   "cell_type": "markdown",
   "id": "cfcc8ef2-66f0-4b49-9552-aabb414473e9",
   "metadata": {},
   "source": [
    "# 데이터 타입\n",
    "\n",
    "1. Number\n",
    "2. Boolean\n",
    "3. String\n",
    "\n",
    "# 자료구조\n",
    "- 시퀀스 자료형\n",
    "1. [List] : mutable\n",
    "2. (Tuple) : immutable\n",
    "3. range() : immutable\n",
    "4. 'String' : immutable\n",
    "\n",
    "- 시퀀스가 아닌 자료형\n",
    "1. {Set} : mutable\n",
    "2. {Dictionary} : mutable"
   ]
  },
  {
   "cell_type": "code",
   "execution_count": null,
   "id": "0f082cd2-5452-4375-84e7-00e34f14c392",
   "metadata": {},
   "outputs": [],
   "source": []
  },
  {
   "cell_type": "code",
   "execution_count": null,
   "id": "ee1daece-972e-4c64-9966-0355b88530cd",
   "metadata": {},
   "outputs": [],
   "source": []
  },
  {
   "cell_type": "markdown",
   "id": "b8881905-fe11-45ca-bf49-bd77ecd824f2",
   "metadata": {},
   "source": [
    "# 제어문\n",
    "\n",
    "## 조건문(if문)\n",
    "\n",
    "1. `if`문은 반드시 일정한 참/거짓을 판단할 수 있는 `조건식`과 함께 사용한다. `(if <조건식>:)`\n",
    "2. `<조건식>`이 참인 경우 `:` 이후의 문장을 실행한다.\n",
    "3. `<조건식>`이 거짓인 경우 `else:` 이후의 문장을 실행한다.\n"
   ]
  },
  {
   "cell_type": "code",
   "execution_count": 107,
   "id": "f6044358-e34a-421e-86a3-ed99a173cae1",
   "metadata": {},
   "outputs": [
    {
     "name": "stdin",
     "output_type": "stream",
     "text": [
      " 122\n"
     ]
    },
    {
     "name": "stdout",
     "output_type": "stream",
     "text": [
      "크리스마스가 아닙니다\n"
     ]
    }
   ],
   "source": [
    "y_string = input()\n",
    "\n",
    "if my_string == '12/25':\n",
    "    print('크리스마스입니다.')\n",
    "else:\n",
    "    print('크리스마스가 아닙니다')"
   ]
  },
  {
   "cell_type": "markdown",
   "id": "d8c5c68b-ec25-4c68-9829-691c26cba766",
   "metadata": {},
   "source": [
    "## elif\n",
    "\n",
    "```\n",
    "if <조건식>:\n",
    "    if 조건이 참인 경우 실행\n",
    "elif <조건식>:\n",
    "    elif 조거이 참인 경우 실행\n",
    "...\n",
    "else:\n",
    "    위의 조건식에 하나도 부합하지 않는 경우 실행\n",
    "```"
   ]
  },
  {
   "cell_type": "code",
   "execution_count": 110,
   "id": "ab104381-3498-4fef-9469-f985b1d25ef4",
   "metadata": {},
   "outputs": [
    {
     "name": "stdin",
     "output_type": "stream",
     "text": [
      " 96\n"
     ]
    }
   ],
   "source": [
    "score = int(input())"
   ]
  },
  {
   "cell_type": "code",
   "execution_count": 111,
   "id": "41bded43-a271-4ecc-85a8-385103e6a527",
   "metadata": {},
   "outputs": [
    {
     "name": "stdout",
     "output_type": "stream",
     "text": [
      "A\n",
      "참 잘했어요\n"
     ]
    }
   ],
   "source": [
    "# 90점 이상 A (95점이상 '참 잘했어요')\n",
    "# 80점 이상 B\n",
    "# 70점 이상 C\n",
    "# 나머지 F\n",
    "\n",
    "if score >= 90:\n",
    "    print('A')\n",
    "    if score >= 95:\n",
    "        print('참 잘했어요')\n",
    "elif score >= 80:\n",
    "    print('B')\n",
    "elif score >= 70:\n",
    "    print('C')\n",
    "else:\n",
    "    print('F')"
   ]
  },
  {
   "cell_type": "markdown",
   "id": "a621d8f5-6565-435a-a05a-0b2bceb3c182",
   "metadata": {},
   "source": [
    "## 조건표현식\n",
    "\n",
    "```python\n",
    "true_value if <조건식> else false_value\n",
    "```"
   ]
  },
  {
   "cell_type": "code",
   "execution_count": 112,
   "id": "b1d1c2e8-8b8b-4cbe-a50d-35a9a6da92e8",
   "metadata": {},
   "outputs": [
    {
     "name": "stdout",
     "output_type": "stream",
     "text": [
      "5\n"
     ]
    }
   ],
   "source": [
    "num = 5\n",
    "value = num if num >= 0 else 0\n",
    "print(value)"
   ]
  },
  {
   "cell_type": "code",
   "execution_count": 113,
   "id": "3fee86d0-adae-42d4-99f4-775415252197",
   "metadata": {},
   "outputs": [],
   "source": [
    "num = 5\n",
    "if num >= 0:\n",
    "    value = num\n",
    "else:\n",
    "    value = 0"
   ]
  },
  {
   "cell_type": "code",
   "execution_count": 114,
   "id": "5233a60c-ed5d-4c99-a26d-1db826dbd4be",
   "metadata": {},
   "outputs": [
    {
     "name": "stdout",
     "output_type": "stream",
     "text": [
      "짝수\n"
     ]
    }
   ],
   "source": [
    "num = 2\n",
    "if num % 2 == 1:\n",
    "    result = '홀수'\n",
    "else:\n",
    "    result = '짝수'\n",
    "print(result)"
   ]
  },
  {
   "cell_type": "code",
   "execution_count": 116,
   "id": "0854d093-cf96-4b83-911e-dfaed3fc0817",
   "metadata": {},
   "outputs": [],
   "source": [
    "num = 2\n",
    "result = '홀수' if num % 2 == 1 else '짝수'"
   ]
  },
  {
   "cell_type": "markdown",
   "id": "9e18199c-bf8b-4394-b84e-2484c27c0e86",
   "metadata": {},
   "source": [
    "## 반복문\n",
    "\n",
    "### while문\n",
    "```python\n",
    "while <조건식>:\n",
    "    실행할 코드\n",
    "```"
   ]
  },
  {
   "cell_type": "code",
   "execution_count": 1,
   "id": "3eb10738-73c4-4839-a57d-72971a06f8cf",
   "metadata": {},
   "outputs": [
    {
     "name": "stdout",
     "output_type": "stream",
     "text": [
      "0\n",
      "1\n",
      "2\n",
      "3\n",
      "4\n"
     ]
    }
   ],
   "source": [
    "a = 0\n",
    "while a < 5:\n",
    "    print(a)\n",
    "    a += 1"
   ]
  },
  {
   "cell_type": "code",
   "execution_count": 2,
   "id": "ac033fdf-e0d4-443d-b300-4f1ce9285959",
   "metadata": {},
   "outputs": [
    {
     "name": "stdin",
     "output_type": "stream",
     "text": [
      "say hi :  hello\n",
      "say hi :  hi\n"
     ]
    }
   ],
   "source": [
    "greeting = ''\n",
    "\n",
    "while greeting != 'hi':\n",
    "    greeting = input('say hi : ')"
   ]
  },
  {
   "cell_type": "markdown",
   "id": "8f496402-6d57-4bc1-9053-808046e20b31",
   "metadata": {},
   "source": [
    "## for\n",
    "\n",
    "정해진 범위 내의 반복\n",
    "\n",
    "```python\n",
    "for variable in sequence:\n",
    "    code\n",
    "```"
   ]
  },
  {
   "cell_type": "code",
   "execution_count": 3,
   "id": "e627346d-34cc-4cb6-b19d-06599591b5d5",
   "metadata": {},
   "outputs": [
    {
     "name": "stdout",
     "output_type": "stream",
     "text": [
      "1\n",
      "2\n",
      "3\n",
      "4\n",
      "5\n"
     ]
    }
   ],
   "source": [
    "numbers = [1,2,3,4,5]\n",
    "\n",
    "for number in numbers:\n",
    "    print(number)"
   ]
  },
  {
   "cell_type": "code",
   "execution_count": 4,
   "id": "d5ba7adc-0845-49f1-b843-f30d2b77a21d",
   "metadata": {},
   "outputs": [
    {
     "name": "stdin",
     "output_type": "stream",
     "text": [
      "단어를 입력해주세요:  hello\n"
     ]
    },
    {
     "name": "stdout",
     "output_type": "stream",
     "text": [
      "h\n",
      "e\n",
      "l\n",
      "l\n",
      "o\n"
     ]
    }
   ],
   "source": [
    "word = input('단어를 입력해주세요: ')\n",
    "\n",
    "for char in word:\n",
    "    print(char)"
   ]
  },
  {
   "cell_type": "code",
   "execution_count": 7,
   "id": "7739b37e-e685-4305-8032-74df94c11886",
   "metadata": {},
   "outputs": [
    {
     "name": "stdout",
     "output_type": "stream",
     "text": [
      "1\n",
      "2\n",
      "3\n",
      "4\n",
      "5\n",
      "6\n",
      "7\n",
      "8\n",
      "9\n"
     ]
    }
   ],
   "source": [
    "for i in range(1,10):\n",
    "    print(i)"
   ]
  },
  {
   "cell_type": "code",
   "execution_count": 8,
   "id": "3dcf4e3e-33b5-4bf6-8e46-4efe0dc4f660",
   "metadata": {},
   "outputs": [
    {
     "name": "stdout",
     "output_type": "stream",
     "text": [
      "[1, 3, 5, 7, 9, 11, 13, 15, 17, 19, 21, 23, 25, 27, 29]\n"
     ]
    }
   ],
   "source": [
    "# 1. 1~30까지 숫자 중에서 홀수 출력\n",
    "# 2. 1~30까지 숫자 중에서 홀수들을 모아 리스트로 출력\n",
    "\n",
    "numbers = range(31)\n",
    "result = []\n",
    "\n",
    "for number in numbers:\n",
    "    if number % 2 == 1:\n",
    "        result.append(number)\n",
    "\n",
    "print(result)"
   ]
  },
  {
   "cell_type": "code",
   "execution_count": 9,
   "id": "6d8b6447-6982-4a87-8cab-cd284950e1a6",
   "metadata": {},
   "outputs": [
    {
     "name": "stdout",
     "output_type": "stream",
     "text": [
      "(0, '라면')\n",
      "(1, '김밥')\n",
      "(2, '돈까스')\n"
     ]
    }
   ],
   "source": [
    "menus = ['라면','김밥','돈까스']\n",
    "\n",
    "for menu in enumerate(menus):\n",
    "    print(menu)"
   ]
  },
  {
   "cell_type": "code",
   "execution_count": 10,
   "id": "39a2b34b-e9fb-4948-b1fd-57ec2c2733db",
   "metadata": {},
   "outputs": [
    {
     "name": "stdout",
     "output_type": "stream",
     "text": [
      "0\n",
      "라면\n",
      "1\n",
      "김밥\n",
      "2\n",
      "돈까스\n"
     ]
    }
   ],
   "source": [
    "menus = ['라면', '김밥', '돈까스']\n",
    "\n",
    "for idx, menu in enumerate(menus):  # idx는 인덱스가 필요할 때\n",
    "    print(idx)\n",
    "    print(menu)"
   ]
  },
  {
   "cell_type": "markdown",
   "id": "2d9fc0fc-907b-4e76-b47b-94a9da2fa1f7",
   "metadata": {},
   "source": [
    "## dictionary 반복\n",
    "\n",
    "1. for key in dict:\n",
    "2. for key in dict.keys():\n",
    "3. for value in dict.values():\n",
    "4. for key, value in dict.items():"
   ]
  },
  {
   "cell_type": "code",
   "execution_count": 11,
   "id": "0e6503bd-5e1f-49f9-84b8-5bbaf2cd3b24",
   "metadata": {},
   "outputs": [],
   "source": [
    "info = {\n",
    "    'name': 'minjin',\n",
    "    'location': 'seoul',\n",
    "    'phone': '010-1234-1234',\n",
    "}"
   ]
  },
  {
   "cell_type": "code",
   "execution_count": 14,
   "id": "f149f781-3fc8-49e3-81b8-865e555f6fa6",
   "metadata": {},
   "outputs": [
    {
     "name": "stdout",
     "output_type": "stream",
     "text": [
      "name\n",
      "minjin\n",
      "location\n",
      "seoul\n",
      "phone\n",
      "010-1234-1234\n"
     ]
    }
   ],
   "source": [
    "for i in info:\n",
    "    print(i)\n",
    "    print(info[i])"
   ]
  },
  {
   "cell_type": "code",
   "execution_count": 15,
   "id": "6807547c-526f-4647-8305-e0156da32feb",
   "metadata": {},
   "outputs": [],
   "source": [
    "blood_type = {\n",
    "    'A': 5,\n",
    "    'B': 4,\n",
    "    'O': 2,\n",
    "    'AB': 3,\n",
    "}"
   ]
  },
  {
   "cell_type": "code",
   "execution_count": 16,
   "id": "f45d5d45-2232-43e2-8687-e248fb39625a",
   "metadata": {},
   "outputs": [
    {
     "name": "stdout",
     "output_type": "stream",
     "text": [
      "혈액형 목록은 다음과 같습니다.\n",
      "A\n",
      "B\n",
      "O\n",
      "AB\n"
     ]
    }
   ],
   "source": [
    "print('혈액형 목록은 다음과 같습니다.')\n",
    "for key in blood_type.keys():   # 더 명시적으로 표현\n",
    "    print(key)"
   ]
  },
  {
   "cell_type": "code",
   "execution_count": 18,
   "id": "ef1aedea-fccf-49a0-b59e-5c5b10d0a6e1",
   "metadata": {},
   "outputs": [
    {
     "name": "stdout",
     "output_type": "stream",
     "text": [
      "총인원은 14명입니다.\n"
     ]
    }
   ],
   "source": [
    "result = 0\n",
    "for value in blood_type.values():\n",
    "    result += value\n",
    "print(f'총인원은 {result}명입니다.')"
   ]
  },
  {
   "cell_type": "code",
   "execution_count": 19,
   "id": "a664e63d-9993-4901-9485-2588cd54b236",
   "metadata": {},
   "outputs": [
    {
     "name": "stdout",
     "output_type": "stream",
     "text": [
      "A형은 5명입니다.\n",
      "B형은 4명입니다.\n",
      "O형은 2명입니다.\n",
      "AB형은 3명입니다.\n"
     ]
    }
   ],
   "source": [
    "for key, value in blood_type.items():\n",
    "    print(f'{key}형은 {value}명입니다.')"
   ]
  },
  {
   "cell_type": "code",
   "execution_count": 20,
   "id": "cd5ba45c-97b3-4be7-b5ce-b6bfa134f4e6",
   "metadata": {},
   "outputs": [
    {
     "data": {
      "text/plain": [
       "dict_items([('A', 5), ('B', 4), ('O', 2), ('AB', 3)])"
      ]
     },
     "execution_count": 20,
     "metadata": {},
     "output_type": "execute_result"
    }
   ],
   "source": [
    "blood_type.items()"
   ]
  },
  {
   "cell_type": "markdown",
   "id": "ee5b2b50-09cc-44e6-a51d-b6e400497238",
   "metadata": {},
   "source": [
    "## break\n",
    "\n",
    "반복문을 종료시키는 코드"
   ]
  },
  {
   "cell_type": "code",
   "execution_count": 21,
   "id": "a2a9a458-53e1-4291-9db3-f7791f73d878",
   "metadata": {},
   "outputs": [
    {
     "name": "stdout",
     "output_type": "stream",
     "text": [
      "0\n",
      "1\n",
      "2\n",
      "3\n",
      "4\n",
      "5\n",
      "6\n",
      "7\n",
      "8\n",
      "9\n",
      "10\n",
      "10 넘었어\n"
     ]
    }
   ],
   "source": [
    "for i in range(100):\n",
    "    if i > 10:\n",
    "        print('10 넘었어')\n",
    "        break\n",
    "    print(i)"
   ]
  },
  {
   "cell_type": "code",
   "execution_count": 22,
   "id": "c12381b8-bb04-4e7c-8f58-dde5b4ba7a38",
   "metadata": {},
   "outputs": [
    {
     "name": "stdout",
     "output_type": "stream",
     "text": [
      "보리\n",
      "보리\n",
      "보리\n",
      "쌀\n",
      "잡았다!\n"
     ]
    }
   ],
   "source": [
    "rice = ['보리', '보리', '보리', '쌀', '보리']\n",
    "# 보리, 보리, 보리, 쌀, 잡았다! => X\n",
    "\n",
    "for i in rice:\n",
    "    print(i)\n",
    "    if i == '쌀':\n",
    "        print('잡았다!')\n",
    "        break"
   ]
  },
  {
   "cell_type": "markdown",
   "id": "b156b508-3f10-49e6-aa6f-6f9b0134b169",
   "metadata": {},
   "source": [
    "## continue\n",
    "\n",
    "continue 이후의 코드를 실행하지 않고 다음 반복을 진행"
   ]
  },
  {
   "cell_type": "code",
   "execution_count": 23,
   "id": "74ef82c3-a18c-47dc-bead-92e83ca53a54",
   "metadata": {},
   "outputs": [
    {
     "name": "stdout",
     "output_type": "stream",
     "text": [
      "0\n",
      "2\n",
      "4\n",
      "6\n",
      "8\n"
     ]
    }
   ],
   "source": [
    "for i in range(10):\n",
    "    if i % 2:\n",
    "        continue\n",
    "    print(i)  # 홀수를 배제하고 짝수만 출력하는 코드"
   ]
  },
  {
   "cell_type": "code",
   "execution_count": 25,
   "id": "e5d6e9f9-65c7-49c0-bbff-872c909974cf",
   "metadata": {},
   "outputs": [
    {
     "name": "stdout",
     "output_type": "stream",
     "text": [
      "35\n",
      "20\n",
      "40\n"
     ]
    }
   ],
   "source": [
    "age = [10, 35, 20, 18, 9, 40]\n",
    "\n",
    "for a in age:\n",
    "    if a < 20:\n",
    "        continue\n",
    "    print(a)   # 성인만 출력"
   ]
  },
  {
   "cell_type": "markdown",
   "id": "3b21002c-0e19-44f1-a348-fcce75e1bd7e",
   "metadata": {},
   "source": [
    "## else\n",
    "\n",
    "else문은 끝까지 반복이 진행된 후 실행된다."
   ]
  },
  {
   "cell_type": "code",
   "execution_count": 26,
   "id": "1d26d71e-6f77-4e10-b670-a6de2ff4be29",
   "metadata": {},
   "outputs": [
    {
     "name": "stdout",
     "output_type": "stream",
     "text": [
      "0\n",
      "1\n",
      "2\n",
      "3\n",
      "4\n",
      "5\n",
      "6\n",
      "7\n",
      "8\n",
      "9\n",
      "break 못만남\n"
     ]
    }
   ],
   "source": [
    "for i in range(10):\n",
    "    if i > 100:\n",
    "        break\n",
    "    print(i)\n",
    "else:\n",
    "    print('break 못만남')"
   ]
  },
  {
   "cell_type": "code",
   "execution_count": 27,
   "id": "76c9b625-b5d8-4676-9aef-c10a72b3e522",
   "metadata": {},
   "outputs": [
    {
     "name": "stdout",
     "output_type": "stream",
     "text": [
      "0\n",
      "1\n",
      "2\n",
      "3\n",
      "4\n",
      "5\n"
     ]
    }
   ],
   "source": [
    "for i in range(10):\n",
    "    if i > 5:\n",
    "        break\n",
    "    print(i)\n",
    "else:\n",
    "    print('break 못만남')"
   ]
  },
  {
   "cell_type": "code",
   "execution_count": 28,
   "id": "7a278c79-503f-408f-b8a4-ccb69c07079f",
   "metadata": {},
   "outputs": [
    {
     "name": "stdout",
     "output_type": "stream",
     "text": [
      "False\n",
      "False\n",
      "False\n",
      "False\n",
      "True\n"
     ]
    }
   ],
   "source": [
    "numbers = [1, 3, 5, 7, 9]\n",
    "target = 9\n",
    "\n",
    "for number in numbers:\n",
    "    # if문을 통해 내가 원하는 숫자가 있으면 True\n",
    "    if number == target:\n",
    "        print('True')\n",
    "        break\n",
    "    else:\n",
    "        print('False')"
   ]
  },
  {
   "cell_type": "markdown",
   "id": "3d9c6efe-a31b-4f90-bf2c-2fd248f70db9",
   "metadata": {},
   "source": [
    "## pass"
   ]
  },
  {
   "cell_type": "code",
   "execution_count": 29,
   "id": "795d4a20-3572-45f1-bfb4-8325d3240845",
   "metadata": {},
   "outputs": [],
   "source": [
    "if True:\n",
    "    pass"
   ]
  },
  {
   "cell_type": "markdown",
   "id": "9de3808a-1282-4ea6-a8ef-410ba89672cd",
   "metadata": {},
   "source": [
    "## match\n",
    "```python\n",
    "match value:\n",
    "    case 조건:\n",
    "        code\n",
    "    case 조건:\n",
    "        code\n",
    "    case _:\n",
    "        code\n",
    "```"
   ]
  },
  {
   "cell_type": "code",
   "execution_count": 31,
   "id": "0d7ef6e3-09ca-4987-a050-f991a30ec954",
   "metadata": {},
   "outputs": [
    {
     "name": "stdout",
     "output_type": "stream",
     "text": [
      "Bad request\n"
     ]
    }
   ],
   "source": [
    "status = 400\n",
    "\n",
    "match status:\n",
    "    case 400:\n",
    "        print('Bad request')\n",
    "    case 404:\n",
    "        print('Not found')\n",
    "    case _:\n",
    "        print('something is wrong')"
   ]
  },
  {
   "cell_type": "code",
   "execution_count": null,
   "id": "27cf009f-0561-4bcd-9857-7133144c50a2",
   "metadata": {},
   "outputs": [],
   "source": []
  },
  {
   "cell_type": "code",
   "execution_count": null,
   "id": "c7bd2fe1-5836-4cc0-9503-65f192e98fc6",
   "metadata": {},
   "outputs": [],
   "source": []
  },
  {
   "cell_type": "markdown",
   "id": "e908c87e-9a1a-4696-91f0-b4db72f88c00",
   "metadata": {},
   "source": [
    "## 함수(function)"
   ]
  },
  {
   "cell_type": "code",
   "execution_count": 32,
   "id": "6a8834bd-60dc-461a-bfc3-862b66bae1f4",
   "metadata": {},
   "outputs": [
    {
     "name": "stdout",
     "output_type": "stream",
     "text": [
      "직사각형의 둘레는 60, 면적은 200입니다.\n",
      "직사각형의 둘레는 140, 면적은 1200입니다.\n"
     ]
    }
   ],
   "source": [
    "height = 10\n",
    "width = 20\n",
    "\n",
    "height2 = 30\n",
    "width2 = 40\n",
    "\n",
    "# 직사각형의 둘레는 ***, 면적은 *** 입니다.\n",
    "\n",
    "area = height * width\n",
    "perimeter = (height + width) * 2\n",
    "print(f'직사각형의 둘레는 {perimeter}, 면적은 {area}입니다.')\n",
    "\n",
    "area = height2 * width2\n",
    "perimeter = (height2 + width2) * 2\n",
    "print(f'직사각형의 둘레는 {perimeter}, 면적은 {area}입니다.')"
   ]
  },
  {
   "cell_type": "markdown",
   "id": "fa87098c-bd85-4d45-a34c-568dfdeb856c",
   "metadata": {},
   "source": [
    "## 함수의 선언과 호출\n",
    "\n",
    "```python\n",
    "def func_name(parameter1, parameter2...):\n",
    "    code1\n",
    "    code2\n",
    "    ...\n",
    "    return value\n",
    "```\n",
    "\n",
    "- 함수의 호출(실행)\n",
    "```python\n",
    "func_name(parameter1, parameter2)\n",
    "```"
   ]
  },
  {
   "cell_type": "code",
   "execution_count": 33,
   "id": "0ca4a5f4-7d5a-49f8-8cbb-b0ac1da49531",
   "metadata": {},
   "outputs": [],
   "source": [
    "def rectangle(height, width):\n",
    "    area = height * width\n",
    "    perimeter = (height + width) * 2\n",
    "    print(f'직사각형의 둘레는 {perimeter}, 면적은 {area}입니다.')"
   ]
  },
  {
   "cell_type": "code",
   "execution_count": 34,
   "id": "a34a7717-8b3f-4152-aa1c-550f3fca59fc",
   "metadata": {},
   "outputs": [
    {
     "name": "stdout",
     "output_type": "stream",
     "text": [
      "직사각형의 둘레는 60, 면적은 200입니다.\n"
     ]
    }
   ],
   "source": [
    "rectangle(10, 20)"
   ]
  },
  {
   "cell_type": "code",
   "execution_count": 35,
   "id": "4d12f35f-3a08-4d5f-99c0-34116f0ee10d",
   "metadata": {},
   "outputs": [
    {
     "data": {
      "text/plain": [
       "['ArithmeticError',\n",
       " 'AssertionError',\n",
       " 'AttributeError',\n",
       " 'BaseException',\n",
       " 'BaseExceptionGroup',\n",
       " 'BlockingIOError',\n",
       " 'BrokenPipeError',\n",
       " 'BufferError',\n",
       " 'BytesWarning',\n",
       " 'ChildProcessError',\n",
       " 'ConnectionAbortedError',\n",
       " 'ConnectionError',\n",
       " 'ConnectionRefusedError',\n",
       " 'ConnectionResetError',\n",
       " 'DeprecationWarning',\n",
       " 'EOFError',\n",
       " 'Ellipsis',\n",
       " 'EncodingWarning',\n",
       " 'EnvironmentError',\n",
       " 'Exception',\n",
       " 'ExceptionGroup',\n",
       " 'False',\n",
       " 'FileExistsError',\n",
       " 'FileNotFoundError',\n",
       " 'FloatingPointError',\n",
       " 'FutureWarning',\n",
       " 'GeneratorExit',\n",
       " 'IOError',\n",
       " 'ImportError',\n",
       " 'ImportWarning',\n",
       " 'IndentationError',\n",
       " 'IndexError',\n",
       " 'InterruptedError',\n",
       " 'IsADirectoryError',\n",
       " 'KeyError',\n",
       " 'KeyboardInterrupt',\n",
       " 'LookupError',\n",
       " 'MemoryError',\n",
       " 'ModuleNotFoundError',\n",
       " 'NameError',\n",
       " 'None',\n",
       " 'NotADirectoryError',\n",
       " 'NotImplemented',\n",
       " 'NotImplementedError',\n",
       " 'OSError',\n",
       " 'OverflowError',\n",
       " 'PendingDeprecationWarning',\n",
       " 'PermissionError',\n",
       " 'ProcessLookupError',\n",
       " 'RecursionError',\n",
       " 'ReferenceError',\n",
       " 'ResourceWarning',\n",
       " 'RuntimeError',\n",
       " 'RuntimeWarning',\n",
       " 'StopAsyncIteration',\n",
       " 'StopIteration',\n",
       " 'SyntaxError',\n",
       " 'SyntaxWarning',\n",
       " 'SystemError',\n",
       " 'SystemExit',\n",
       " 'TabError',\n",
       " 'TimeoutError',\n",
       " 'True',\n",
       " 'TypeError',\n",
       " 'UnboundLocalError',\n",
       " 'UnicodeDecodeError',\n",
       " 'UnicodeEncodeError',\n",
       " 'UnicodeError',\n",
       " 'UnicodeTranslateError',\n",
       " 'UnicodeWarning',\n",
       " 'UserWarning',\n",
       " 'ValueError',\n",
       " 'Warning',\n",
       " 'WindowsError',\n",
       " 'ZeroDivisionError',\n",
       " '__IPYTHON__',\n",
       " '__build_class__',\n",
       " '__debug__',\n",
       " '__doc__',\n",
       " '__import__',\n",
       " '__loader__',\n",
       " '__name__',\n",
       " '__package__',\n",
       " '__spec__',\n",
       " 'abs',\n",
       " 'aiter',\n",
       " 'all',\n",
       " 'anext',\n",
       " 'any',\n",
       " 'ascii',\n",
       " 'bin',\n",
       " 'bool',\n",
       " 'breakpoint',\n",
       " 'bytearray',\n",
       " 'bytes',\n",
       " 'callable',\n",
       " 'chr',\n",
       " 'classmethod',\n",
       " 'compile',\n",
       " 'complex',\n",
       " 'copyright',\n",
       " 'credits',\n",
       " 'delattr',\n",
       " 'dict',\n",
       " 'dir',\n",
       " 'display',\n",
       " 'divmod',\n",
       " 'enumerate',\n",
       " 'eval',\n",
       " 'exec',\n",
       " 'execfile',\n",
       " 'filter',\n",
       " 'float',\n",
       " 'format',\n",
       " 'frozenset',\n",
       " 'get_ipython',\n",
       " 'getattr',\n",
       " 'globals',\n",
       " 'hasattr',\n",
       " 'hash',\n",
       " 'help',\n",
       " 'hex',\n",
       " 'id',\n",
       " 'input',\n",
       " 'int',\n",
       " 'isinstance',\n",
       " 'issubclass',\n",
       " 'iter',\n",
       " 'len',\n",
       " 'license',\n",
       " 'list',\n",
       " 'locals',\n",
       " 'map',\n",
       " 'max',\n",
       " 'memoryview',\n",
       " 'min',\n",
       " 'next',\n",
       " 'object',\n",
       " 'oct',\n",
       " 'open',\n",
       " 'ord',\n",
       " 'pow',\n",
       " 'print',\n",
       " 'property',\n",
       " 'range',\n",
       " 'repr',\n",
       " 'reversed',\n",
       " 'round',\n",
       " 'runfile',\n",
       " 'set',\n",
       " 'setattr',\n",
       " 'slice',\n",
       " 'sorted',\n",
       " 'staticmethod',\n",
       " 'str',\n",
       " 'sum',\n",
       " 'super',\n",
       " 'tuple',\n",
       " 'type',\n",
       " 'vars',\n",
       " 'zip']"
      ]
     },
     "execution_count": 35,
     "metadata": {},
     "output_type": "execute_result"
    }
   ],
   "source": [
    "dir(__builtins__)"
   ]
  },
  {
   "cell_type": "code",
   "execution_count": 36,
   "id": "e45d4c07-999d-4d37-a7dc-e2ce7b839d3c",
   "metadata": {},
   "outputs": [],
   "source": [
    "# 두개의 정수를 받아서 큰 수를 출력\n",
    "def my_max(num1, num2):\n",
    "    if num1 > num2:\n",
    "        # 1이 더 큰 경우\n",
    "        print(f'{num1}이 더 큽니다.')\n",
    "    elif num1 < num2:\n",
    "        # 2가 더 큰 경우\n",
    "        print(f'{num2}가 더 큽니다.')\n",
    "    else:\n",
    "        print('두 수가 같습니다')\n",
    "    # return None"
   ]
  },
  {
   "cell_type": "code",
   "execution_count": 37,
   "id": "6909fbbd-f80f-450e-b936-e73289bbb83f",
   "metadata": {},
   "outputs": [
    {
     "name": "stdout",
     "output_type": "stream",
     "text": [
      "20가 더 큽니다.\n"
     ]
    }
   ],
   "source": [
    "my_max(10,20)"
   ]
  },
  {
   "cell_type": "code",
   "execution_count": 38,
   "id": "3b516705-0b5c-4a26-9969-3825860a74f1",
   "metadata": {},
   "outputs": [
    {
     "name": "stdout",
     "output_type": "stream",
     "text": [
      "두 수가 같습니다\n",
      "None\n"
     ]
    }
   ],
   "source": [
    "result = my_max(10,10)\n",
    "print(result)"
   ]
  },
  {
   "cell_type": "markdown",
   "id": "24e05eb5-2dd0-4108-becd-e95c2d10aeee",
   "metadata": {},
   "source": [
    "## 함수의 return\n",
    "\n",
    "- 함수가 return을 만나면 해당 값을 반환하고 함수를 종료\n",
    "- 만약 return이 없다면 None을 자동으로 반환\n",
    "- return은 오직 하나의 객체만 반환합니다.\n",
    "- print와 달리 할당하고 재사용 가능"
   ]
  },
  {
   "cell_type": "code",
   "execution_count": 39,
   "id": "b71155d5-f4f2-47f5-b118-b6b24d7fef9c",
   "metadata": {},
   "outputs": [],
   "source": [
    "# 두개의 정수를 받아서 큰 수를 출력\n",
    "def my_max2(num1, num2):\n",
    "    if num1 > num2:\n",
    "        # 1이 더 큰 경우\n",
    "        return num1\n",
    "    elif num1 < num2:\n",
    "        # 2가 더 큰 경우\n",
    "        return num2\n",
    "    else:\n",
    "        return 0\n"
   ]
  },
  {
   "cell_type": "code",
   "execution_count": 40,
   "id": "7d8bc827-1419-4de1-9786-b16b8e55f8fd",
   "metadata": {},
   "outputs": [
    {
     "name": "stdout",
     "output_type": "stream",
     "text": [
      "2가 더 큽니다.\n"
     ]
    }
   ],
   "source": [
    "result = my_max2(1, 2)\n",
    "print(f'{result}가 더 큽니다.')"
   ]
  },
  {
   "cell_type": "code",
   "execution_count": 41,
   "id": "c70473ad-1fe5-42a7-bcb2-16f7d47e3270",
   "metadata": {},
   "outputs": [],
   "source": [
    "def my_list_max(list_a, list_b):\n",
    "    if sum(list_a) > sum(list_b):\n",
    "        return\n",
    "    else:\n",
    "        return list_b"
   ]
  },
  {
   "cell_type": "code",
   "execution_count": 42,
   "id": "0f78a692-5363-46fd-9753-4a40c0e7fa9e",
   "metadata": {},
   "outputs": [
    {
     "data": {
      "text/plain": [
       "[11, 12]"
      ]
     },
     "execution_count": 42,
     "metadata": {},
     "output_type": "execute_result"
    }
   ],
   "source": [
    "my_list_max([10, 11], [11, 12])"
   ]
  },
  {
   "cell_type": "code",
   "execution_count": null,
   "id": "e7c8e30b-7f7f-435c-938f-278ada7c9e62",
   "metadata": {},
   "outputs": [],
   "source": []
  },
  {
   "cell_type": "code",
   "execution_count": null,
   "id": "941bfac5-7531-47ec-9314-0d1d01ef90f8",
   "metadata": {},
   "outputs": [],
   "source": []
  },
  {
   "cell_type": "markdown",
   "id": "99910e31-4892-4bac-9e2b-c0e55d873f30",
   "metadata": {},
   "source": [
    "## 함수의 인수\n",
    "\n",
    "### 위치 인수\n",
    "기본적으로 함수의 인수는 위치로 판단합니다."
   ]
  },
  {
   "cell_type": "code",
   "execution_count": 1,
   "id": "d09b21a5-6944-40b7-b6e0-d5480678e35c",
   "metadata": {},
   "outputs": [
    {
     "name": "stdout",
     "output_type": "stream",
     "text": [
      "1570.0\n"
     ]
    }
   ],
   "source": [
    "def cylinder(r, h):\n",
    "    return 3.14 * r**2 * h\n",
    "\n",
    "print(cylinder(10, 5))"
   ]
  },
  {
   "cell_type": "markdown",
   "id": "3b057de9-799a-41b2-9d20-3b073485de4a",
   "metadata": {},
   "source": [
    "### 기본값\n",
    "\n",
    "```python\n",
    "def func(p1=v1)\n",
    "    return v1\n",
    "```"
   ]
  },
  {
   "cell_type": "code",
   "execution_count": 2,
   "id": "69ad74a0-762e-4db7-b5a1-5f8c95e7d7ee",
   "metadata": {},
   "outputs": [
    {
     "name": "stdout",
     "output_type": "stream",
     "text": [
      "민진님 반갑습니다.\n"
     ]
    },
    {
     "ename": "TypeError",
     "evalue": "greeting() missing 1 required positional argument: 'name'",
     "output_type": "error",
     "traceback": [
      "\u001b[1;31m---------------------------------------------------------------------------\u001b[0m",
      "\u001b[1;31mTypeError\u001b[0m                                 Traceback (most recent call last)",
      "Cell \u001b[1;32mIn[2], line 5\u001b[0m\n\u001b[0;32m      2\u001b[0m     \u001b[38;5;28;01mreturn\u001b[39;00m \u001b[38;5;124mf\u001b[39m\u001b[38;5;124m'\u001b[39m\u001b[38;5;132;01m{\u001b[39;00mname\u001b[38;5;132;01m}\u001b[39;00m\u001b[38;5;124m님 반갑습니다.\u001b[39m\u001b[38;5;124m'\u001b[39m\n\u001b[0;32m      4\u001b[0m \u001b[38;5;28mprint\u001b[39m(greeting(\u001b[38;5;124m'\u001b[39m\u001b[38;5;124m민진\u001b[39m\u001b[38;5;124m'\u001b[39m))\n\u001b[1;32m----> 5\u001b[0m \u001b[38;5;28mprint\u001b[39m(\u001b[43mgreeting\u001b[49m\u001b[43m(\u001b[49m\u001b[43m)\u001b[49m)\n",
      "\u001b[1;31mTypeError\u001b[0m: greeting() missing 1 required positional argument: 'name'"
     ]
    }
   ],
   "source": [
    "def greeting(name):\n",
    "    return f'{name}님 반갑습니다.'\n",
    "\n",
    "print(greeting('민진'))\n",
    "print(greeting())"
   ]
  },
  {
   "cell_type": "code",
   "execution_count": 3,
   "id": "db585648-f9a4-46b9-abde-78477687f80c",
   "metadata": {},
   "outputs": [
    {
     "name": "stdout",
     "output_type": "stream",
     "text": [
      "민진님 반갑습니다.\n",
      "익명님 반갑습니다.\n"
     ]
    }
   ],
   "source": [
    "def greeting(name='익명'):          # 이렇게 기본값을 사용하면 이것이 출력됨\n",
    "    return f'{name}님 반갑습니다.'\n",
    "\n",
    "print(greeting('민진'))\n",
    "print(greeting()) # 필수적인 위치 인수가 빠져서 오류가 발생"
   ]
  },
  {
   "cell_type": "code",
   "execution_count": 4,
   "id": "9b887493-e091-4280-b0f4-96011c77269f",
   "metadata": {},
   "outputs": [
    {
     "ename": "SyntaxError",
     "evalue": "non-default argument follows default argument (3665218782.py, line 1)",
     "output_type": "error",
     "traceback": [
      "\u001b[1;36m  Cell \u001b[1;32mIn[4], line 1\u001b[1;36m\u001b[0m\n\u001b[1;33m    def greeting(name='익명' ,age):      # 기본인자가 아닌 것이 들어옴\u001b[0m\n\u001b[1;37m                            ^\u001b[0m\n\u001b[1;31mSyntaxError\u001b[0m\u001b[1;31m:\u001b[0m non-default argument follows default argument\n"
     ]
    }
   ],
   "source": [
    "def greeting(name='익명' ,age):      # 기본인자가 아닌 것이 들어옴\n",
    "    return f'{name}님은 {age}살입니다.'"
   ]
  },
  {
   "cell_type": "code",
   "execution_count": 5,
   "id": "fdf8c308-4eb6-4ec9-a308-4891f6ec8c5e",
   "metadata": {},
   "outputs": [
    {
     "name": "stdout",
     "output_type": "stream",
     "text": [
      "홍길동님은 10살입니다.\n",
      "익명님은 20살입니다.\n"
     ]
    }
   ],
   "source": [
    "def greeting(age, name='익명'):           # 순서는 위치인수를 사용한 후 기본값을 사용하는 것\n",
    "    return f'{name}님은 {age}살입니다.'     # 값을 하나 입력하거나 두 개 입력했을 때 무엇인지 모르기 때문\n",
    "\n",
    "print(greeting(10, '홍길동'))\n",
    "print(greeting(20))"
   ]
  },
  {
   "cell_type": "code",
   "execution_count": 8,
   "id": "d4e04c68-c79f-4b78-9a58-83e3fa68fe22",
   "metadata": {},
   "outputs": [
    {
     "name": "stdout",
     "output_type": "stream",
     "text": [
      "홍길동님은 10살입니다.\n",
      "익명님은 20살입니다.\n"
     ]
    }
   ],
   "source": [
    "def greeting(age = 20, name='익명'):           # 순서는 위치인수를 사용한 후 기본값을 사용하는 것\n",
    "    return f'{name}님은 {age}살입니다.'     # 값을 하나 입력하거나 두 개 입력했을 때 무엇인지 모르기 때문\n",
    "\n",
    "print(greeting(10, '홍길동'))\n",
    "print(greeting(20))"
   ]
  },
  {
   "cell_type": "markdown",
   "id": "1af7b5c7-f47c-4623-a06c-b4625e86906d",
   "metadata": {},
   "source": [
    "### 키워드 인자\n",
    "\n",
    "함수를 호출(실행)할 때 내가 원하는 위치에 직접적으로 특정인자를 전달 가능"
   ]
  },
  {
   "cell_type": "code",
   "execution_count": 9,
   "id": "6287db27-13d8-4ae1-a750-a65f75b7443c",
   "metadata": {},
   "outputs": [
    {
     "name": "stdout",
     "output_type": "stream",
     "text": [
      "홍길동님은 10살입니다.\n",
      "홍길동님은 10살입니다.\n"
     ]
    }
   ],
   "source": [
    "def greeting(age, name='익명'):\n",
    "    return f'{name}님은 {age}살입니다.'\n",
    "\n",
    "print(greeting(10, '홍길동'))\n",
    "print(greeting(name='홍길동',age=10))"
   ]
  },
  {
   "cell_type": "code",
   "execution_count": 11,
   "id": "3fff8c6f-b1da-46ef-b6b2-7b0f001d8324",
   "metadata": {},
   "outputs": [
    {
     "name": "stdout",
     "output_type": "stream",
     "text": [
      "안녕\n",
      "안녕!하세요!hi?"
     ]
    }
   ],
   "source": [
    "print('안녕')\n",
    "print('안녕', '하세요', 'hi', sep='!', end='?')  # sep은 사이사이 end는 마지막"
   ]
  },
  {
   "cell_type": "markdown",
   "id": "3eeff340-6fca-423d-9bd0-cf03ffc90859",
   "metadata": {},
   "source": [
    "### 가변 인자 리스트\n",
    "\n",
    "```python\n",
    "def func(*params):\n",
    "    pass\n",
    "```"
   ]
  },
  {
   "cell_type": "code",
   "execution_count": 12,
   "id": "4189bc4f-4bf1-425b-a61d-d4bfdd342093",
   "metadata": {},
   "outputs": [
    {
     "name": "stdout",
     "output_type": "stream",
     "text": [
      "('hi', 'hello', '안녕', '하세요')\n",
      "<class 'tuple'>\n"
     ]
    }
   ],
   "source": [
    "def my_print(*words):\n",
    "    print(words)\n",
    "    print(type(words))\n",
    "\n",
    "my_print('hi', 'hello', '안녕', '하세요')  \n",
    "# *words에서 * : 인자가 몇개가 들어오더라도 하나의 데이터로 처리"
   ]
  },
  {
   "cell_type": "code",
   "execution_count": 16,
   "id": "3335ca03-eef0-4179-9b6c-9b6385cdcfcf",
   "metadata": {},
   "outputs": [],
   "source": [
    "def my_max(*numbers):\n",
    "    print(numbers)\n",
    "    \n",
    "my_max = (1, 2, 3, 4, 5)"
   ]
  },
  {
   "cell_type": "code",
   "execution_count": 17,
   "id": "fc300ed2-d5aa-4137-9c17-7b87d463419d",
   "metadata": {},
   "outputs": [],
   "source": [
    "def my_max(*numbers):\n",
    "    result = numbers[0]   # 0으로 하면 음수일때 오류가 생기므로 이렇게 설정\n",
    "\n",
    "    for number in numbers:\n",
    "        if result < number:\n",
    "            result = number\n",
    "    return result"
   ]
  },
  {
   "cell_type": "code",
   "execution_count": 18,
   "id": "80589045-a06a-4192-8198-4c8079f60f84",
   "metadata": {},
   "outputs": [
    {
     "name": "stdout",
     "output_type": "stream",
     "text": [
      "5\n",
      "-1\n"
     ]
    }
   ],
   "source": [
    "print(my_max(1, 2, 3, 4, 5))\n",
    "print(my_max(-1, -2, -3, -4, -5))"
   ]
  },
  {
   "cell_type": "markdown",
   "id": "372d158b-e32b-408b-a692-5c9a3a9af4eb",
   "metadata": {},
   "source": [
    "### 정의되지 않은 키워드 인자 처리하기\n",
    "\n",
    "```python\n",
    "def func(**kwargs):\n",
    "    pass\n",
    "```"
   ]
  },
  {
   "cell_type": "code",
   "execution_count": 19,
   "id": "32a46eb1-78ae-4044-bc38-18cf5158822c",
   "metadata": {},
   "outputs": [
    {
     "name": "stdout",
     "output_type": "stream",
     "text": [
      "{'name': 'hong', 'age': 20}\n"
     ]
    }
   ],
   "source": [
    "info = {\n",
    "    'name': 'hong',\n",
    "    'age': 20,\n",
    "}\n",
    "\n",
    "print(info)"
   ]
  },
  {
   "cell_type": "code",
   "execution_count": 20,
   "id": "3806fb98-06de-4c7f-b5af-79a1a3cfb175",
   "metadata": {},
   "outputs": [
    {
     "name": "stdout",
     "output_type": "stream",
     "text": [
      "{'name': 'hong', 'age': 20, 'iii': 123}\n"
     ]
    }
   ],
   "source": [
    "info = dict(name='hong', age=20, iii=123)\n",
    "print(info)"
   ]
  },
  {
   "cell_type": "code",
   "execution_count": 21,
   "id": "482dbee3-93cd-4899-8e8b-12567466cfa0",
   "metadata": {},
   "outputs": [
    {
     "name": "stdout",
     "output_type": "stream",
     "text": [
      "{'korean': '안녕', 'english': 'hello'}\n",
      "<class 'dict'>\n"
     ]
    }
   ],
   "source": [
    "def fake_dict(**kwargs):    # 하나의 dictionary로 묶이게 됨\n",
    "    print(kwargs)\n",
    "    print(type(kwargs))\n",
    "\n",
    "fake_dict(korean='안녕', english='hello')"
   ]
  },
  {
   "cell_type": "code",
   "execution_count": 22,
   "id": "88cb9701-42b8-422b-8d1f-a99390c1811f",
   "metadata": {},
   "outputs": [
    {
     "name": "stdout",
     "output_type": "stream",
     "text": [
      "korean는 안녕입니다.\n",
      "english는 hello입니다.\n"
     ]
    }
   ],
   "source": [
    "def fake_dict(**kwargs):    # 하나의 dictionary로 묶이게 됨\n",
    "    for key, value in kwargs.items():\n",
    "        print(f'{key}는 {value}입니다.')\n",
    "\n",
    "fake_dict(korean='안녕', english='hello')"
   ]
  },
  {
   "cell_type": "markdown",
   "id": "a0dfeb1c-ef33-4a7a-a1dc-ff6667f5ec05",
   "metadata": {},
   "source": [
    "### dictionary를 인자로 넣기 (unpacking)"
   ]
  },
  {
   "cell_type": "code",
   "execution_count": 23,
   "id": "7aa0ebd0-5d86-4d83-84a9-f32a7583c429",
   "metadata": {},
   "outputs": [
    {
     "name": "stdout",
     "output_type": "stream",
     "text": [
      "비밀번호가 일치하지 않습니다.\n"
     ]
    }
   ],
   "source": [
    "def sign_up(username, password, password_confirmation):\n",
    "    if password == password_confirmation:\n",
    "        print(f'{username}님 회원가입이 완료되었습니다.')\n",
    "    else:\n",
    "        print(f'비밀번호가 일치하지 않습니다.')\n",
    "\n",
    "sign_up('minj', 'ochange' , 'hlmj3017')"
   ]
  },
  {
   "cell_type": "code",
   "execution_count": 24,
   "id": "2eda73e7-94b7-49b6-8927-8e6f7040f23c",
   "metadata": {},
   "outputs": [
    {
     "name": "stdout",
     "output_type": "stream",
     "text": [
      "minj12님 회원가입이 완료되었습니다.\n"
     ]
    }
   ],
   "source": [
    "my_account = {\n",
    "    'username': 'minj12',\n",
    "    'password': 'sd234',\n",
    "    'password_confirmation': 'sd234',\n",
    "}\n",
    "\n",
    "sign_up(**my_account)"
   ]
  },
  {
   "cell_type": "markdown",
   "id": "688dae8b-f3f7-4110-aa23-65a40e26eff3",
   "metadata": {},
   "source": [
    "### lambda 표현식\n",
    "\n",
    "```python\n",
    "lambda parameter: expression\n",
    "```"
   ]
  },
  {
   "cell_type": "code",
   "execution_count": 27,
   "id": "e39e5eea-d059-4b80-92b5-bf6dca809e30",
   "metadata": {},
   "outputs": [
    {
     "data": {
      "text/plain": [
       "3"
      ]
     },
     "execution_count": 27,
     "metadata": {},
     "output_type": "execute_result"
    }
   ],
   "source": [
    "(lambda a, b: a+b)(1,2)"
   ]
  },
  {
   "cell_type": "code",
   "execution_count": 28,
   "id": "6cbd8962-aa8b-412b-86c5-53d871eb931f",
   "metadata": {},
   "outputs": [
    {
     "data": {
      "text/plain": [
       "3"
      ]
     },
     "execution_count": 28,
     "metadata": {},
     "output_type": "execute_result"
    }
   ],
   "source": [
    "def my_sum(a,b):\n",
    "    return a+b\n",
    "\n",
    "my_sum(1,2)"
   ]
  },
  {
   "cell_type": "markdown",
   "id": "a88daf04-e529-449a-befc-27a7f148d9c6",
   "metadata": {},
   "source": [
    "### 타입 힌트"
   ]
  },
  {
   "cell_type": "code",
   "execution_count": 29,
   "id": "b8ce50f1-5fbf-4c5b-a324-1147f012438a",
   "metadata": {},
   "outputs": [
    {
     "ename": "TypeError",
     "evalue": "can only concatenate str (not \"int\") to str",
     "output_type": "error",
     "traceback": [
      "\u001b[1;31m---------------------------------------------------------------------------\u001b[0m",
      "\u001b[1;31mTypeError\u001b[0m                                 Traceback (most recent call last)",
      "Cell \u001b[1;32mIn[29], line 9\u001b[0m\n\u001b[0;32m      6\u001b[0m     \u001b[38;5;28;01mreturn\u001b[39;00m num1 \u001b[38;5;241m+\u001b[39m num2\n\u001b[0;32m      8\u001b[0m my_sum(\u001b[38;5;241m1\u001b[39m, \u001b[38;5;241m2\u001b[39m)\n\u001b[1;32m----> 9\u001b[0m \u001b[43mmy_sum\u001b[49m\u001b[43m(\u001b[49m\u001b[38;5;124;43m'\u001b[39;49m\u001b[38;5;124;43m1\u001b[39;49m\u001b[38;5;124;43m'\u001b[39;49m\u001b[43m,\u001b[49m\u001b[43m \u001b[49m\u001b[38;5;241;43m2\u001b[39;49m\u001b[43m)\u001b[49m\n",
      "Cell \u001b[1;32mIn[29], line 6\u001b[0m, in \u001b[0;36mmy_sum\u001b[1;34m(num1, num2)\u001b[0m\n\u001b[0;32m      1\u001b[0m \u001b[38;5;28;01mdef\u001b[39;00m \u001b[38;5;21mmy_sum\u001b[39m(num1: \u001b[38;5;28mint\u001b[39m, num2: \u001b[38;5;28mint\u001b[39m) \u001b[38;5;241m-\u001b[39m\u001b[38;5;241m>\u001b[39m \u001b[38;5;28mint\u001b[39m:  \u001b[38;5;66;03m# 함수 어노테이션\u001b[39;00m\n\u001b[0;32m      2\u001b[0m \u001b[38;5;250m    \u001b[39m\u001b[38;5;124;03m'''\u001b[39;00m\n\u001b[0;32m      3\u001b[0m \u001b[38;5;124;03m    두 수의 합을 구하는 함수입니다.\u001b[39;00m\n\u001b[0;32m      4\u001b[0m \u001b[38;5;124;03m    매개변수 num1, num2를 받아서 num1 + num2를 리턴합니다.\u001b[39;00m\n\u001b[0;32m      5\u001b[0m \u001b[38;5;124;03m    '''\u001b[39;00m\n\u001b[1;32m----> 6\u001b[0m     \u001b[38;5;28;01mreturn\u001b[39;00m \u001b[43mnum1\u001b[49m\u001b[43m \u001b[49m\u001b[38;5;241;43m+\u001b[39;49m\u001b[43m \u001b[49m\u001b[43mnum2\u001b[49m\n",
      "\u001b[1;31mTypeError\u001b[0m: can only concatenate str (not \"int\") to str"
     ]
    }
   ],
   "source": [
    "def my_sum(num1: int, num2: int) -> int:  # 함수 어노테이션\n",
    "    '''\n",
    "    두 수의 합을 구하는 함수입니다.\n",
    "    매개변수 num1, num2를 받아서 num1 + num2를 리턴합니다.\n",
    "    '''\n",
    "    return num1 + num2\n",
    "\n",
    "my_sum(1, 2)\n",
    "my_sum('1', 2)"
   ]
  },
  {
   "cell_type": "markdown",
   "id": "c7b37da0-f1f9-4243-b7aa-e7dffaccd003",
   "metadata": {},
   "source": [
    "### 이름공간 (scope)\n",
    "\n",
    "파이썬에서 사용되는 이름들은 이름공간(namespace)에 저장되어있습니다.\n",
    "\n",
    "- Local scope: 정의된 함수 내부\n",
    "- Enclosed scope: 상위 함수\n",
    "- Global scope: 함수 밖의 변수 혹은 import된 모듈\n",
    "- Built-in scope: 파이썬이 기본적으로 가지고 있는 함수 혹은 변수"
   ]
  },
  {
   "cell_type": "code",
   "execution_count": 30,
   "id": "ed5b3d0a-6abb-43cb-914f-a0940c05aa22",
   "metadata": {},
   "outputs": [
    {
     "name": "stdout",
     "output_type": "stream",
     "text": [
      "5\n"
     ]
    }
   ],
   "source": [
    "a = 1\n",
    "def localscope(a):\n",
    "    # a = 5            # 함수 내에 있는 것이 우선\n",
    "    print(a)\n",
    "\n",
    "localscope(5)"
   ]
  },
  {
   "cell_type": "code",
   "execution_count": 31,
   "id": "d88e26e0-6386-4da1-bc36-cff435299091",
   "metadata": {},
   "outputs": [
    {
     "name": "stdout",
     "output_type": "stream",
     "text": [
      "20\n",
      "20\n"
     ]
    }
   ],
   "source": [
    "num = 10\n",
    "def scope():\n",
    "    global num\n",
    "    num = 20\n",
    "    print(num)\n",
    "\n",
    "scope()\n",
    "print(num) # 외부에 있는 전역 변수가 수정됨"
   ]
  },
  {
   "cell_type": "markdown",
   "id": "f139c424-5c53-4847-9715-56aea541b9a3",
   "metadata": {},
   "source": [
    "### 재귀 (recursive)\n",
    "\n",
    "재귀함수는 함수 내부에서 자기 자신을 호출하는 함수를 의미한다."
   ]
  },
  {
   "cell_type": "code",
   "execution_count": 32,
   "id": "c3b4db8e-eecd-43f5-9936-d26a90f993e8",
   "metadata": {},
   "outputs": [
    {
     "data": {
      "text/plain": [
       "120"
      ]
     },
     "execution_count": 32,
     "metadata": {},
     "output_type": "execute_result"
    }
   ],
   "source": [
    "# 팩토리얼 (1 * 2 * ... * n = n!)\n",
    "def fact(n):\n",
    "    result = 1\n",
    "\n",
    "    while n > 1:\n",
    "        result = result * n\n",
    "        # result *= n\n",
    "        n = n - 1\n",
    "        # n -= 1\n",
    "\n",
    "    return result\n",
    "\n",
    "fact(5)"
   ]
  },
  {
   "cell_type": "markdown",
   "id": "6783778c-6905-4760-bd6b-7c128a264f28",
   "metadata": {},
   "source": [
    "```\n",
    "1! = 1\n",
    "2! = 1 * 2 = 1! * 2\n",
    "3! = 1 * 2 * 3 = 2! * 3\n",
    "```\n",
    "\n",
    "```python\n",
    "fact(5)\n",
    "fact(fact(4) * 5)\n",
    "fact(fact(fact(3) * 4) * 5)\n",
    "\n",
    "print('hello')\n",
    "```"
   ]
  },
  {
   "cell_type": "code",
   "execution_count": 33,
   "id": "d53371a4-327b-4300-b99f-3f2e91e3dfe6",
   "metadata": {},
   "outputs": [
    {
     "data": {
      "text/plain": [
       "120"
      ]
     },
     "execution_count": 33,
     "metadata": {},
     "output_type": "execute_result"
    }
   ],
   "source": [
    "def factorial(n):\n",
    "    if n <= 1:\n",
    "        return 1\n",
    "    else:\n",
    "        return factorial(n-1) * n\n",
    "        # 10! = 9! * 10 = ... = 1! = 1\n",
    "\n",
    "factorial(5)"
   ]
  },
  {
   "cell_type": "markdown",
   "id": "7e2c0d21-7d9c-4412-9a21-a6b7b8e7ee91",
   "metadata": {},
   "source": [
    "### 피보나치 수열\n",
    "\n",
    "```\n",
    "F(0) = F(1) = 1\n",
    "F(n) = F(n-1) + F(n-2)\n",
    "\n",
    "```"
   ]
  },
  {
   "cell_type": "code",
   "execution_count": 34,
   "id": "c041c5a9-0c30-4d3e-9933-d621d7252051",
   "metadata": {},
   "outputs": [
    {
     "data": {
      "text/plain": [
       "13"
      ]
     },
     "execution_count": 34,
     "metadata": {},
     "output_type": "execute_result"
    }
   ],
   "source": [
    "# 반복문\n",
    "def fib_loop(n):\n",
    "    result = [1, 1]\n",
    "\n",
    "    for i in range(1, n):\n",
    "        end1 = result[-1]\n",
    "        end2 = result[len(result)-2]\n",
    "        fib_num = end1 + end2\n",
    "\n",
    "        result.append(fib_num)\n",
    "        \n",
    "    return result[-1]\n",
    "\n",
    "fib_loop(6)"
   ]
  },
  {
   "cell_type": "code",
   "execution_count": 35,
   "id": "8de0d6e0-1741-4372-a563-cec8a14d8d6d",
   "metadata": {},
   "outputs": [
    {
     "data": {
      "text/plain": [
       "13"
      ]
     },
     "execution_count": 35,
     "metadata": {},
     "output_type": "execute_result"
    }
   ],
   "source": [
    "# 재귀\n",
    "def fib_rec(n):\n",
    "    if n == 0 or n == 1:\n",
    "        return 1\n",
    "    else:\n",
    "        return fib_rec(n-1) + fib_rec(n-2)\n",
    "\n",
    "fib_rec(6)"
   ]
  },
  {
   "cell_type": "code",
   "execution_count": null,
   "id": "29b5df5b-7287-4b9f-a21b-eaf686e2e670",
   "metadata": {},
   "outputs": [],
   "source": []
  }
 ],
 "metadata": {
  "kernelspec": {
   "display_name": "Python 3 (ipykernel)",
   "language": "python",
   "name": "python3"
  },
  "language_info": {
   "codemirror_mode": {
    "name": "ipython",
    "version": 3
   },
   "file_extension": ".py",
   "mimetype": "text/x-python",
   "name": "python",
   "nbconvert_exporter": "python",
   "pygments_lexer": "ipython3",
   "version": "3.11.4"
  }
 },
 "nbformat": 4,
 "nbformat_minor": 5
}
