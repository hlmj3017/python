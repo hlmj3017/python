{
 "cells": [
  {
   "cell_type": "markdown",
   "id": "d45ec374-e71f-491f-906b-efe72b0a4222",
   "metadata": {},
   "source": [
    "# 객체지향 프로그래밍 (OOP)\n",
    "\n",
    "- 클래스(class) : 같은 종류의 집단에 속하는 속성(attribute)과 행위(method)를 **정의**한 것\n",
    "- 인스턴스(instance) : 클래스를 실제로 메모리상에 할당한 것\n",
    "- 속성(attribute) : 클래스/인스턴스가 가지고 있는 **데이터**/값\n",
    "- 행위(method) : 클래스/인스턴스가 가지고 있는 **함수**/기능"
   ]
  },
  {
   "cell_type": "code",
   "execution_count": 1,
   "id": "04ef6606-74df-400c-a41f-e209da03ea33",
   "metadata": {},
   "outputs": [
    {
     "name": "stdout",
     "output_type": "stream",
     "text": [
      "(1+2j)\n"
     ]
    }
   ],
   "source": [
    "number = 1 + 2j\n",
    "print(number)"
   ]
  },
  {
   "cell_type": "code",
   "execution_count": 3,
   "id": "6d93b8e8-0ac2-472e-8c76-877cffd068fb",
   "metadata": {},
   "outputs": [
    {
     "name": "stdout",
     "output_type": "stream",
     "text": [
      "1.0\n",
      "2.0\n"
     ]
    }
   ],
   "source": [
    "print(number.real)\n",
    "print(number.imag)"
   ]
  },
  {
   "cell_type": "code",
   "execution_count": 6,
   "id": "f16f1f4b-a897-45cd-84cd-b435cc641eab",
   "metadata": {},
   "outputs": [
    {
     "name": "stdout",
     "output_type": "stream",
     "text": [
      "<class 'complex'>\n"
     ]
    }
   ],
   "source": [
    "print(type(number))"
   ]
  },
  {
   "cell_type": "code",
   "execution_count": 7,
   "id": "e9b56d9f-0f9b-4c40-b476-a63220374a7c",
   "metadata": {},
   "outputs": [
    {
     "name": "stdout",
     "output_type": "stream",
     "text": [
      "<class 'list'>\n"
     ]
    }
   ],
   "source": [
    "my_list = [1,2,3,4,5]\n",
    "print(type(my_list))\n",
    "my_list.sort()"
   ]
  },
  {
   "cell_type": "code",
   "execution_count": 8,
   "id": "c0943b48-5c72-4836-ba6e-d94d290a7c13",
   "metadata": {},
   "outputs": [],
   "source": [
    "power = False\n",
    "number = '010-1234-1234'\n",
    "book = {\n",
    "    '홍길동': '010-1111-1111',\n",
    "    '이순신': '010-2222-2222',\n",
    "}\n",
    "model = 'iphone12'"
   ]
  },
  {
   "cell_type": "code",
   "execution_count": 10,
   "id": "0f9ef3df-421c-4efa-ac0b-c9a5d9603b85",
   "metadata": {},
   "outputs": [],
   "source": [
    "def on():\n",
    "    global power\n",
    "    if power == False:\n",
    "        power = True\n",
    "        print('핸드폰이 켜졌습니다.')"
   ]
  },
  {
   "cell_type": "code",
   "execution_count": 11,
   "id": "18c62c17-a9b3-4426-a240-595819998c00",
   "metadata": {},
   "outputs": [
    {
     "name": "stdout",
     "output_type": "stream",
     "text": [
      "핸드폰이 켜졌습니다.\n"
     ]
    }
   ],
   "source": [
    "on()"
   ]
  },
  {
   "cell_type": "markdown",
   "id": "4fb0fd66-c64b-48de-9f5c-2b1e27d0a5ac",
   "metadata": {},
   "source": [
    "## Class\n",
    "\n",
    "- 클래스 선언\n",
    "```python\n",
    "class ClassName:\n",
    "    attribute = value\n",
    "\n",
    "    def method_name(self):\n",
    "        code\n",
    "```\n",
    "\n",
    "- 인스턴스화\n",
    "```python\n",
    "ClassName()\n",
    "```"
   ]
  },
  {
   "cell_type": "code",
   "execution_count": 12,
   "id": "94f322e8-6d15-4a86-ba4d-aadc147c3109",
   "metadata": {},
   "outputs": [],
   "source": [
    "# 선언\n",
    "class MyClass:\n",
    "    name = 'kim'\n",
    "\n",
    "    def hello(self):\n",
    "        return 'hello'"
   ]
  },
  {
   "cell_type": "code",
   "execution_count": 15,
   "id": "d7ca28d8-16f3-4f56-8e20-f2ea32511dbd",
   "metadata": {},
   "outputs": [
    {
     "name": "stdout",
     "output_type": "stream",
     "text": [
      "kim\n",
      "hello\n",
      "kim\n",
      "hello\n"
     ]
    }
   ],
   "source": [
    "# 인스턴스화\n",
    "a = MyClass()\n",
    "\n",
    "print(a.name)\n",
    "print(a.hello())\n",
    "\n",
    "b = MyClass()\n",
    "print(b.name)\n",
    "print(b.hello())"
   ]
  },
  {
   "cell_type": "code",
   "execution_count": 27,
   "id": "cb6e07d8-1f84-40a9-8ee7-8d7602b72c17",
   "metadata": {},
   "outputs": [],
   "source": [
    "class Phone:\n",
    "    power = False\n",
    "    number = '010-0000-0000'\n",
    "    book = {}\n",
    "    model = ''\n",
    "\n",
    "    def on(self):\n",
    "        if self.power == False:\n",
    "            self.power = True\n",
    "\n",
    "    def off(self):\n",
    "        if self.power == True:\n",
    "            self.power = False\n",
    "\n",
    "    def call(self, target):\n",
    "        if self.power == True:\n",
    "            print(f'내 번호는 {self.number}입니다.')\n",
    "            print(f'{target}번호로 전화거는중')\n",
    "        else:\n",
    "            print('핸드폰을 켜주세요')"
   ]
  },
  {
   "cell_type": "code",
   "execution_count": 28,
   "id": "665a2eeb-cdbe-4445-b927-6e0a92d9ff24",
   "metadata": {},
   "outputs": [],
   "source": [
    "my_phone = Phone()\n",
    "your_phone = Phone()"
   ]
  },
  {
   "cell_type": "code",
   "execution_count": 29,
   "id": "036cf844-36e2-4542-ac0c-8666aaf2996e",
   "metadata": {},
   "outputs": [
    {
     "name": "stdout",
     "output_type": "stream",
     "text": [
      "010-1234-1234\n"
     ]
    }
   ],
   "source": [
    "my_phone.number = '010-1234-1234'\n",
    "print(my_phone.number)"
   ]
  },
  {
   "cell_type": "code",
   "execution_count": 30,
   "id": "f6744886-6cb1-4bc9-8579-4384430f1ae3",
   "metadata": {},
   "outputs": [
    {
     "data": {
      "text/plain": [
       "'010-0000-0000'"
      ]
     },
     "execution_count": 30,
     "metadata": {},
     "output_type": "execute_result"
    }
   ],
   "source": [
    "your_phone.number"
   ]
  },
  {
   "cell_type": "code",
   "execution_count": 31,
   "id": "9e555c56-b7fa-416c-9d31-2c686b159f47",
   "metadata": {},
   "outputs": [
    {
     "data": {
      "text/plain": [
       "False"
      ]
     },
     "execution_count": 31,
     "metadata": {},
     "output_type": "execute_result"
    }
   ],
   "source": [
    "my_phone.power"
   ]
  },
  {
   "cell_type": "code",
   "execution_count": 32,
   "id": "178bc227-096a-4109-a8ed-8cf53df51159",
   "metadata": {},
   "outputs": [],
   "source": [
    "my_phone.on()"
   ]
  },
  {
   "cell_type": "code",
   "execution_count": 33,
   "id": "1b57f9b5-4d77-4319-ad74-2ec6980d269f",
   "metadata": {},
   "outputs": [
    {
     "data": {
      "text/plain": [
       "True"
      ]
     },
     "execution_count": 33,
     "metadata": {},
     "output_type": "execute_result"
    }
   ],
   "source": [
    "my_phone.power"
   ]
  },
  {
   "cell_type": "code",
   "execution_count": 34,
   "id": "4827bb47-adca-4a75-ab58-3d8b3ca52007",
   "metadata": {},
   "outputs": [
    {
     "name": "stdout",
     "output_type": "stream",
     "text": [
      "내 번호는 010-1234-1234입니다.\n",
      "112번호로 전화거는중\n"
     ]
    }
   ],
   "source": [
    "my_phone.call('112')"
   ]
  },
  {
   "cell_type": "code",
   "execution_count": 42,
   "id": "42dd25c8-6e1b-4bf4-a6d3-37155ede0c43",
   "metadata": {},
   "outputs": [],
   "source": [
    "# 연습\n",
    "class MyList:\n",
    "    data = []\n",
    "\n",
    "    def append(self, item):\n",
    "        self.data = self.data + [item]\n",
    "\n",
    "    # data의 제일 마지막 요소를 삭제하고, 삭제된 요소를 리턴\n",
    "    def pop(self):\n",
    "        num = self.data[-1]\n",
    "        self.data = self.data[:-1]\n",
    "        return num"
   ]
  },
  {
   "cell_type": "code",
   "execution_count": 45,
   "id": "74e792d0-a41b-48ae-a11e-e3c932c9a40d",
   "metadata": {},
   "outputs": [
    {
     "name": "stdout",
     "output_type": "stream",
     "text": [
      "[]\n",
      "[5, 1, 10]\n",
      "10\n",
      "[5, 1]\n"
     ]
    }
   ],
   "source": [
    "list_a = MyList()\n",
    "print(list_a.data)\n",
    "\n",
    "list_a.append(5)\n",
    "list_a.append(1)\n",
    "list_a.append(10)\n",
    "print(list_a.data)\n",
    "\n",
    "print(list_a.pop())\n",
    "print(list_a.data)"
   ]
  },
  {
   "cell_type": "code",
   "execution_count": 44,
   "id": "fb617f72-a471-4262-ab56-4af573661268",
   "metadata": {},
   "outputs": [
    {
     "name": "stdout",
     "output_type": "stream",
     "text": [
      "[]\n",
      "[2, 4, 6]\n"
     ]
    }
   ],
   "source": [
    "list_b = MyList()\n",
    "print(list_b.data)\n",
    "\n",
    "list_b.append(2)\n",
    "list_b.append(4)\n",
    "list_b.append(6)\n",
    "print(list_b.data)"
   ]
  },
  {
   "cell_type": "code",
   "execution_count": 46,
   "id": "aada3ca1-51ac-4e93-a101-e689665c3427",
   "metadata": {},
   "outputs": [
    {
     "data": {
      "text/plain": [
       "'kim'"
      ]
     },
     "execution_count": 46,
     "metadata": {},
     "output_type": "execute_result"
    }
   ],
   "source": [
    "# 정리\n",
    "class Person: # 클래스 정의(선언) : 클래스 객체 생성\n",
    "    name = 'kim' # => 속성(attribute) :  변수/값/데이터\n",
    "\n",
    "    def hello(self): # =>  행동(method) : 함수/기능\n",
    "        return self.name\n",
    "\n",
    "p = Person() # => 인스턴스화 / 인스턴스 객체를 생성\n",
    "p.name # => 속성을 호출\n",
    "p.hello() # =>  메소드를 실행"
   ]
  },
  {
   "cell_type": "code",
   "execution_count": 51,
   "id": "08b6bd01-18c7-4595-a900-fb9f739928e4",
   "metadata": {},
   "outputs": [
    {
     "name": "stdout",
     "output_type": "stream",
     "text": [
      "현재 상태는 약풍입니다.\n",
      "현재 상태는 중풍입니다.\n",
      "현재 상태는 강풍입니다.\n",
      "현재 상태는 꺼짐입니다.\n",
      "현재 상태는 약풍입니다.\n",
      "현재 상태는 중풍입니다.\n",
      "현재 상태는 강풍입니다.\n",
      "현재 상태는 꺼짐입니다.\n",
      "현재 상태는 약풍입니다.\n",
      "현재 상태는 중풍입니다.\n"
     ]
    }
   ],
   "source": [
    "class Fan:\n",
    "    power = ['꺼짐', '약풍', '중풍', '강풍']\n",
    "    status = 0\n",
    "\n",
    "    def button(self):\n",
    "        #self.status += 1\n",
    "        self.status = (self.status + 1) % 4\n",
    "        print(f'현재 상태는 {self.power[self.status]}입니다.')\n",
    "\n",
    "f = Fan()\n",
    "\n",
    "f.button()\n",
    "f.button()\n",
    "f.button()\n",
    "f.button()\n",
    "f.button()\n",
    "f.button()\n",
    "f.button()\n",
    "f.button()\n",
    "f.button()\n",
    "f.button()"
   ]
  },
  {
   "cell_type": "code",
   "execution_count": 56,
   "id": "51149a41-c8ca-42a0-8fa3-b57253a19295",
   "metadata": {},
   "outputs": [],
   "source": [
    "class Person:\n",
    "    name = ''\n",
    "\n",
    "    def hello(self):\n",
    "        print(f'나의 이름은 {self.name}입니다.')"
   ]
  },
  {
   "cell_type": "code",
   "execution_count": 58,
   "id": "09d9f4b7-ff40-40b6-94d9-27613c12653a",
   "metadata": {},
   "outputs": [
    {
     "name": "stdout",
     "output_type": "stream",
     "text": [
      "\n",
      "나의 이름은 입니다.\n",
      "나의 이름은 kim입니다.\n"
     ]
    }
   ],
   "source": [
    "p = Person()\n",
    "print(p.name)\n",
    "p.hello()\n",
    "p.name = 'kim'\n",
    "p.hello()"
   ]
  },
  {
   "cell_type": "code",
   "execution_count": 59,
   "id": "71bf04d7-83e8-4ccf-88d2-107851fec908",
   "metadata": {},
   "outputs": [],
   "source": [
    "# self : 인스턴스 객체 자기자신 (다른언어에서는 this)\n",
    "# - 특별한 상황을 제외하고는 무조건 메소드의 첫번째 인자로 설정한다.\n",
    "# - 인스턴스 메소드를 실행할 때 자동으로 첫번째 인자에 인스턴스를 할당한다.\n"
   ]
  },
  {
   "cell_type": "code",
   "execution_count": 60,
   "id": "86ee16c7-5275-4277-a57b-2e2d1bf2b8a6",
   "metadata": {},
   "outputs": [
    {
     "name": "stdout",
     "output_type": "stream",
     "text": [
      "나의 이름은 입니다.\n",
      "나의 이름은 입니다.\n"
     ]
    }
   ],
   "source": [
    "p1 = Person()\n",
    "# self 매개변수 자리에 p1이라고 하는 인스턴스 객체가 인자로 전달\n",
    "p1.hello()\n",
    "# p1인스턴스 객체에서부터 메소드가 실행되기 때문에 self == p1\n",
    "Person.hello(p1)"
   ]
  },
  {
   "cell_type": "markdown",
   "id": "708dc9fe-06e4-4774-8d28-75dff1d9eb01",
   "metadata": {},
   "source": [
    "## 생성자, 소멸자\n",
    "\n",
    "```python\n",
    "class MyClass:\n",
    "    def __init__(self):\n",
    "        pass\n",
    "    def __del__(Self):\n",
    "        pass\n",
    "```"
   ]
  },
  {
   "cell_type": "code",
   "execution_count": 2,
   "id": "57d33f8e-ca74-4fc8-a0ac-a0be650f49cd",
   "metadata": {},
   "outputs": [],
   "source": [
    "class Person:\n",
    "    name = 'noname'\n",
    "\n",
    "    def __init__(self, name='익명'):\n",
    "        self.name = name\n",
    "        print('생성됨')\n",
    "    def __del__(self):\n",
    "        print('소멸됨')"
   ]
  },
  {
   "cell_type": "code",
   "execution_count": 3,
   "id": "8af019ec-9964-4b17-8966-c5d2a474ad57",
   "metadata": {},
   "outputs": [
    {
     "name": "stdout",
     "output_type": "stream",
     "text": [
      "생성됨\n",
      "minjin\n"
     ]
    }
   ],
   "source": [
    "p1 = Person()  ## => Person.__init__(p1, )\n",
    "p1.name = 'minjin'\n",
    "print(p1.name)"
   ]
  },
  {
   "cell_type": "code",
   "execution_count": 4,
   "id": "7afd211d-6145-43f9-a61a-d999954c2381",
   "metadata": {},
   "outputs": [
    {
     "name": "stdout",
     "output_type": "stream",
     "text": [
      "생성됨\n",
      "kim\n"
     ]
    }
   ],
   "source": [
    "p2 = Person('kim') # => Person.__init__(p2, 'kim')\n",
    "print(p2.name)"
   ]
  },
  {
   "cell_type": "code",
   "execution_count": 9,
   "id": "4f5d9850-b7ef-43df-b0dc-503fe888339f",
   "metadata": {},
   "outputs": [],
   "source": [
    "# Circle 클래스\n",
    "\n",
    "class Circle:\n",
    "    pi = 3.14\n",
    "\n",
    "    def __init__(self, r, x_point=0, y_point=0):\n",
    "        self.r = r\n",
    "        self.x = x_point\n",
    "        self.y = y_point\n",
    "\n",
    "    def area(self):\n",
    "        return self.pi * self.r ** 2\n",
    "\n",
    "    def move(self, x, y):\n",
    "        self.x = x\n",
    "        self.y = y\n",
    "        print(f'원의 중심이 {x},{y}로 이동했습니다.')\n",
    "\n",
    "    def center(self):\n",
    "        # 원의 중심을 (x, y)로 반환\n",
    "        return (self.x, self.y)"
   ]
  },
  {
   "cell_type": "code",
   "execution_count": 11,
   "id": "adbd06d9-b65a-4453-ac75-d45d418a8097",
   "metadata": {},
   "outputs": [
    {
     "name": "stdout",
     "output_type": "stream",
     "text": [
      "5\n",
      "3\n",
      "28.26\n",
      "원의 중심이 -3,-3로 이동했습니다.\n",
      "(-3, -3)\n",
      "0\n",
      "10\n",
      "314.0\n",
      "원의 중심이 10,10로 이동했습니다.\n",
      "(0, 0)\n"
     ]
    }
   ],
   "source": [
    "c1 = Circle(3, 5, 5)\n",
    "print(c1.x)\n",
    "print(c1.r)\n",
    "print(c1.area())\n",
    "c1.move(-3,-3)\n",
    "print(c1.center())\n",
    "\n",
    "c2 = Circle(10)\n",
    "print(c2.x)\n",
    "print(c2.r)\n",
    "print(c2.area())\n",
    "c1.move(10,10)\n",
    "print(c2.center())"
   ]
  },
  {
   "cell_type": "markdown",
   "id": "ffafbd86-3d5c-4ad8-8d89-ba5e5d912d90",
   "metadata": {},
   "source": [
    "### 클래스 변수\n",
    "- 클래스 선언 블록 최상단에 위치\n",
    "\n",
    "### 인스턴스 변수\n",
    "- 인스턴스 내부에서 생성한 변수 (self.variable = )\n",
    "\n",
    "```python\n",
    "class TestClass:\n",
    "    class_variable = '클래스변수'\n",
    "\n",
    "    def __init__(self, arg):\n",
    "        self.instance_variable = '인스턴스변수'\n",
    "\n",
    "    def status(self):\n",
    "        return self.instance_variable\n",
    "```"
   ]
  },
  {
   "cell_type": "code",
   "execution_count": 85,
   "id": "b70d6733-e310-49df-959c-0347d8fd5bd2",
   "metadata": {},
   "outputs": [],
   "source": [
    "class Person:\n",
    "    name = '홍길동'\n",
    "    phone = '010-1234-1234'\n",
    "\n",
    "    def __init__(self, name):\n",
    "        self.name = name"
   ]
  },
  {
   "cell_type": "code",
   "execution_count": 87,
   "id": "c0998712-8ce1-4c3a-abbe-4358bd866caf",
   "metadata": {},
   "outputs": [
    {
     "name": "stdout",
     "output_type": "stream",
     "text": [
      "조민진\n",
      "홍길동\n",
      "010-1234-1234\n"
     ]
    }
   ],
   "source": [
    "p = Person('조민진')\n",
    "print(p.name)\n",
    "print(Person.name)\n",
    "\n",
    "print(p.phone)  # 부모한테 있는 phone을 가져옴\n",
    "# print(p.location) # 여기에도 부모에도 없으므로 에러가 발생함"
   ]
  },
  {
   "cell_type": "markdown",
   "id": "50b97be2-06b3-434a-b324-c37e9392bdd9",
   "metadata": {},
   "source": [
    "### 클래스메소드, 인스턴스메소드, 스태틱메소드\n",
    "\n",
    "```python\n",
    "class MyClass:\n",
    "    def instance_method(self):\n",
    "        pass\n",
    "\n",
    "    @classmethod\n",
    "    def class_method(cls):\n",
    "        pass\n",
    "\n",
    "    @staticmethod\n",
    "    def static_method():\n",
    "        pass\n",
    "```"
   ]
  },
  {
   "cell_type": "code",
   "execution_count": 88,
   "id": "4739d02a-1cf3-477d-99f1-5a9f100969d5",
   "metadata": {},
   "outputs": [],
   "source": [
    "class MyClass:\n",
    "    def instance_method(self):\n",
    "        return self\n",
    "\n",
    "    @classmethod\n",
    "    def class_method(cls):\n",
    "        return cls\n",
    "\n",
    "    @staticmethod\n",
    "    def static_method():\n",
    "        return 'hello'"
   ]
  },
  {
   "cell_type": "code",
   "execution_count": 91,
   "id": "8c014ab9-9284-4162-9113-4f9ddb413dff",
   "metadata": {},
   "outputs": [
    {
     "name": "stdout",
     "output_type": "stream",
     "text": [
      "<__main__.MyClass object at 0x000001FAFB797590>\n",
      "<class '__main__.MyClass'>\n",
      "<class '__main__.MyClass'>\n",
      "hello\n"
     ]
    }
   ],
   "source": [
    "cl = MyClass()\n",
    "# 내부에 있는 변수 수정할 때\n",
    "print(cl.instance_method())     # 메모리에 할당됨\n",
    "print(MyClass.class_method())\n",
    "print(cl.class_method())\n",
    "print(cl.static_method())"
   ]
  },
  {
   "cell_type": "code",
   "execution_count": 100,
   "id": "d04a44e7-fb69-48a2-bce5-e70707722c2f",
   "metadata": {},
   "outputs": [],
   "source": [
    "class Puppy:\n",
    "    num_of_puppy = 0\n",
    "\n",
    "    def __init__(self, name):\n",
    "        self.name = name\n",
    "        Puppy.num_of_puppy += 1\n",
    "\n",
    "    @classmethod\n",
    "    def get_status(cls):\n",
    "        return f'현재 강아지는 {cls.num_of_puppy}마리 입니다.'\n",
    "\n",
    "    @staticmethod\n",
    "    def bark(string = '멍멍'):\n",
    "        return string"
   ]
  },
  {
   "cell_type": "code",
   "execution_count": 101,
   "id": "473ec188-348d-4513-9071-9c5794d589e1",
   "metadata": {},
   "outputs": [
    {
     "name": "stdout",
     "output_type": "stream",
     "text": [
      "3\n",
      "3\n",
      "3\n",
      "현재 강아지는 3마리 입니다.\n",
      "멍멍\n",
      "그르릉\n"
     ]
    }
   ],
   "source": [
    "p1 = Puppy('또또')\n",
    "p2 = Puppy('몽이')\n",
    "p3 = Puppy('흰둥이')\n",
    "\n",
    "print(p1.num_of_puppy)\n",
    "print(p2.num_of_puppy)\n",
    "print(Puppy.num_of_puppy)\n",
    "\n",
    "print(Puppy.get_status())\n",
    "\n",
    "print(p1.bark())\n",
    "print(p2.bark('그르릉'))"
   ]
  },
  {
   "cell_type": "markdown",
   "id": "789771ce-83bb-4e0a-846c-c4d1a99389ce",
   "metadata": {},
   "source": [
    "## 정리\n",
    "\n",
    "**class**\n",
    "- attribute(variable, data)\n",
    "    - instance_variable\n",
    "    - class_variable\n",
    "- method\n",
    "    - instance_method\n",
    "    - class_method\n",
    "    - static_method\n"
   ]
  },
  {
   "cell_type": "markdown",
   "id": "a440a99b-30c7-4f21-ae44-caf692edddc9",
   "metadata": {},
   "source": [
    "## 상속"
   ]
  },
  {
   "cell_type": "code",
   "execution_count": 104,
   "id": "6be33e58-e089-4a8a-8ae6-9ce198ea1602",
   "metadata": {},
   "outputs": [],
   "source": [
    "class Person:\n",
    "\n",
    "    def __init__(self, name):\n",
    "        self.name = name\n",
    "\n",
    "    def greeting(self):\n",
    "        print(f'안녕하세요 {self.name}입니다.')"
   ]
  },
  {
   "cell_type": "code",
   "execution_count": 106,
   "id": "3b53f368-9786-42d2-a734-567de5f3ad8a",
   "metadata": {},
   "outputs": [
    {
     "name": "stdout",
     "output_type": "stream",
     "text": [
      "안녕하세요 홍길동입니다.\n"
     ]
    }
   ],
   "source": [
    "p1 = Person('홍길동')\n",
    "p2 = Person('이순신')\n",
    "\n",
    "p1.greeting()"
   ]
  },
  {
   "cell_type": "code",
   "execution_count": 109,
   "id": "79a26a56-4f22-4024-87bf-da46a5fb6cec",
   "metadata": {},
   "outputs": [],
   "source": [
    "class Student(Person):\n",
    "\n",
    "    def __init__(self, name, student_id):\n",
    "        self.name = name\n",
    "        self.student_id = student_id\n",
    "    \n",
    "    # def __init__(self, name):\n",
    "    #     self.name = name\n",
    "\n",
    "    # def greeting(self):\n",
    "    #     print(f'안녕하세요 {self.name}입니다.')"
   ]
  },
  {
   "cell_type": "code",
   "execution_count": 112,
   "id": "b9c4c98a-0d56-4bf4-9193-45ec058f03f3",
   "metadata": {},
   "outputs": [
    {
     "name": "stdout",
     "output_type": "stream",
     "text": [
      "안녕하세요 kim입니다.\n",
      "12345\n"
     ]
    }
   ],
   "source": [
    "s1 = Student('kim', 12345)\n",
    "s2 = Student('park', 98765)\n",
    "\n",
    "s1.greeting()\n",
    "print(s1.student_id)"
   ]
  },
  {
   "cell_type": "code",
   "execution_count": 115,
   "id": "cf8694d1-c493-46a6-8f98-94d3a42eb337",
   "metadata": {},
   "outputs": [],
   "source": [
    "class Soldier(Person):\n",
    "    def greeting(self): # 덮어씌우기\n",
    "        return f'충성! {self.name}입니다.'"
   ]
  },
  {
   "cell_type": "code",
   "execution_count": 117,
   "id": "5cfb5211-f2d8-45c8-ba1e-64a1cab443ef",
   "metadata": {},
   "outputs": [
    {
     "data": {
      "text/plain": [
       "'충성! 국방이입니다.'"
      ]
     },
     "execution_count": 117,
     "metadata": {},
     "output_type": "execute_result"
    }
   ],
   "source": [
    "s1 = Soldier('국방이')\n",
    "s1.greeting()   # 부모가 가지고 있는 것을 물려받아서 바꿀 수 있음 -> 상속"
   ]
  },
  {
   "cell_type": "code",
   "execution_count": 118,
   "id": "5d755b1b-990f-4283-b572-53daa9870b7f",
   "metadata": {},
   "outputs": [],
   "source": [
    "class Person:                  # 부모\n",
    "    def __init__(self, email, phone, location, name):\n",
    "        self.email = email\n",
    "        self.phone = phone\n",
    "        self.location = location\n",
    "        self.name = name\n",
    "\n",
    "class Student(Person):          # 상속\n",
    "    def __init__(self, email, phone, location, name, student_id):\n",
    "        self.email = email\n",
    "        self.phone = phone\n",
    "        self.location = location\n",
    "        self.name = name\n",
    "        self.student_id = student_id\n",
    "\n",
    "class Soldier(Person):\n",
    "    def __init__(self, email, phone, location, name, soldier_id):\n",
    "        # super() => 부모 클래스 (Person)\n",
    "        super().__init__(email, phone, location, name)       # 부모의 코드 재사용\n",
    "        self.soldier_id = soldier_id\n",
    "        "
   ]
  },
  {
   "cell_type": "code",
   "execution_count": 119,
   "id": "2c3c56a9-9424-41b5-8a39-7306c4eaf9ef",
   "metadata": {},
   "outputs": [
    {
     "name": "stdout",
     "output_type": "stream",
     "text": [
      "kim\n",
      "12345\n"
     ]
    }
   ],
   "source": [
    "s1 = Soldier('email@email.com', '010-1234', 'seoul', 'kim', '12345')\n",
    "print(s1.name)\n",
    "print(s1.soldier_id)"
   ]
  },
  {
   "cell_type": "code",
   "execution_count": 124,
   "id": "9aabd89e-74ff-409d-ab5f-047797f8810b",
   "metadata": {},
   "outputs": [],
   "source": [
    "class Person:\n",
    "    def __init__(self, name):\n",
    "        self.name = name\n",
    "\n",
    "    def breath(self):\n",
    "        print('후하')"
   ]
  },
  {
   "cell_type": "code",
   "execution_count": 125,
   "id": "c8c6fc5b-c52a-4a96-b123-8bd7f5ff65fe",
   "metadata": {},
   "outputs": [],
   "source": [
    "class Mom(Person):\n",
    "    gene = 'xx'\n",
    "\n",
    "    def swim(self):\n",
    "        print('어푸어푸')"
   ]
  },
  {
   "cell_type": "code",
   "execution_count": 126,
   "id": "f8a3d816-84cc-47b8-9812-113784a9a7fa",
   "metadata": {},
   "outputs": [],
   "source": [
    "class Dad(Person):\n",
    "    gene = 'xy'\n",
    "\n",
    "    def run(self):\n",
    "        print('다다다')"
   ]
  },
  {
   "cell_type": "code",
   "execution_count": 127,
   "id": "111d6732-db59-4594-941b-13463dbeb00b",
   "metadata": {},
   "outputs": [],
   "source": [
    "class Baby(Mom, Dad):\n",
    "    pass"
   ]
  },
  {
   "cell_type": "code",
   "execution_count": 129,
   "id": "59b2c7f5-8e65-455c-8630-d8c4c4c00042",
   "metadata": {},
   "outputs": [
    {
     "name": "stdout",
     "output_type": "stream",
     "text": [
      "후하\n",
      "어푸어푸\n",
      "다다다\n",
      "xx\n"
     ]
    }
   ],
   "source": [
    "b = Baby('금쪽이')\n",
    "b.breath()\n",
    "b.swim()\n",
    "b.run()\n",
    "print(b.gene) # mom, dad의 순서에 상관 있음 위치 바꾸면 xy가 나옴\n",
    "# 상속된 순서에 따라 우선순위를 가짐\n",
    "\n",
    "# 다중상속은 한 경우 먼저 상속받은 데이터/메소드가 우선"
   ]
  },
  {
   "cell_type": "code",
   "execution_count": null,
   "id": "c5200513-593c-438c-86ce-4b0b5ac87043",
   "metadata": {},
   "outputs": [],
   "source": [
    "class Poketmon:\n",
    "    def __init(self, name, hp=100, level=1):\n",
    "        self.name = name\n",
    "        self.hp = hp\n",
    "        self.level = level\n",
    "\n",
    "    def sleep(self):\n",
    "        self.hp = 100\n",
    "\n",
    "    def body_attack(self, enemy):\n",
    "        enemy.hp -= self.level*10"
   ]
  },
  {
   "cell_type": "code",
   "execution_count": 12,
   "id": "459b6087-d02c-4182-950f-78357607c30b",
   "metadata": {},
   "outputs": [
    {
     "name": "stdout",
     "output_type": "stream",
     "text": [
      "소멸됨\n",
      "소멸됨\n",
      "꼬부기의 피가 90가 되었다.\n",
      "꼬부기의 피가 80가 되었다.\n",
      "꼬부기의 피가 70가 되었다.\n",
      "꼬부기의 피가 60가 되었다.\n",
      "꼬부기의 피가 50가 되었다.\n"
     ]
    }
   ],
   "source": [
    "class PocketMon:\n",
    "\t# 포켓몬 도감을 만들어 줬다. 생성된 포켓몬 리스트\n",
    "    pocketmon = []\n",
    "    \n",
    "    # 이름, hp, 레벨을 속성으로 가져온다.\n",
    "    def __init__(self, name, hp=100, level=1):\n",
    "        self.name = name\n",
    "        self.hp = hp\n",
    "        self.level = level\n",
    "        PocketMon.pocketmon.append(self) # 이렇게 구성이 될까?\n",
    "\n",
    "\t# 휴식 메서드 제작\n",
    "    def sleep(self):\n",
    "        self.hp = 100\n",
    "\n",
    "\t# 공격 메서드 제작(어렵다.. 포켓몬 이름을 넣으면 작동하게 하고 싶은데...)\n",
    "    def body_attack(self, enemy):\n",
    "        # enemy = random.choice(pocketmon)\n",
    "\n",
    "        enemy.hp -= self.level*10\n",
    "        print(f'{enemy.name}의 피가 {enemy.hp}가 되었다.')\n",
    "        if enemy.hp <= 0:\n",
    "            enemy.hp = 100\n",
    "            print(f'상대의 피가 모두 소진되었다.')\n",
    "            self.level += 1\n",
    "            print(f'level이 {self.level}로 올랐다.')\n",
    "\n",
    "p1 = PocketMon('파이리')\n",
    "p2 = PocketMon('꼬부기')\n",
    "p1.body_attack(p2)   # p2 말고 '꼬부기'라고 넣어서는 못 푸나?\n",
    "p1.body_attack(p2)   #공격\n",
    "p1.body_attack(p2)   #공격\n",
    "p1.body_attack(p2)   #공격\n",
    "p1.body_attack(p2)   #공격 하면서 레벨일 오른다. 공격력도 오른다."
   ]
  },
  {
   "cell_type": "code",
   "execution_count": 13,
   "id": "1fda96fe-d31f-427f-bfa3-cd3c585f5ba9",
   "metadata": {},
   "outputs": [],
   "source": [
    "class Pocketmon():\n",
    "    def __init__(self, name):\n",
    "        self.name = name\n",
    "        self.level = 10\n",
    "        self.hp = self.level * 5\n",
    "        self.exp = 0\n",
    "\n",
    "    def attack(self, opponent):\n",
    "        damege = self.level * 2\n",
    "        opponent.hp -= damege\n",
    "        if opponent.check_hp():\n",
    "            self.exp += 5\n",
    "\n",
    "    def check_hp(self):\n",
    "        return True if self.hp <= 0 else False\n",
    "\n",
    "    \n",
    "class WaterType():\n",
    "    type_name = 'water'\n",
    "\n",
    "class FireType():\n",
    "    type_name = 'fire'\n",
    "\n",
    "class WaterPocketmon(Pocketmon, WaterType):\n",
    "    def water_attack1(self, opponent):\n",
    "        if opponent.type_name == 'fire':\n",
    "            damege = self.level * 4\n",
    "        else:\n",
    "            damege = self.level * 2\n",
    "        opponent.hp -= damege\n",
    "        print(f'{self.name}은 {opponent.name}에게 {damege}의 공격을 했다.')\n",
    "\n",
    "    def water_attack2(self, opponent):\n",
    "        damege = random.randint(1, 5)\n",
    "        opponent.hp -= damege\n",
    "        print(f'{self.name}은 {opponent.name}에게 {damege}의 공격을 했다.')\n",
    "    \n",
    "\n",
    "class FirePocketmon(Pocketmon, FireType):\n",
    "    def fire_attack1(self, opponent):\n",
    "        damege = self.level * 2\n",
    "        opponent.hp -= damege\n",
    "        print(f'{self.name}은 {opponent.name}에게 {damege}의 공격을 했다.')\n",
    "\n",
    "    def fire_attack2(self, opponent):\n",
    "        damege = random.randint(1, 5)\n",
    "        opponent.hp -= damege\n",
    "        print(f'{self.name}은 {opponent.name}에게 {damege}의 공격을 했다.')"
   ]
  },
  {
   "cell_type": "code",
   "execution_count": 14,
   "id": "7988bd47-9778-419b-96ed-a2040313f797",
   "metadata": {},
   "outputs": [],
   "source": [
    "koboki = WaterPocketmon('꼬부기')\n",
    "pairi = FirePocketmon('파이리')"
   ]
  },
  {
   "cell_type": "code",
   "execution_count": 15,
   "id": "7f347f6e-7445-47d8-b993-ba68d368a086",
   "metadata": {},
   "outputs": [
    {
     "name": "stdout",
     "output_type": "stream",
     "text": [
      "꼬부기은 파이리에게 2의 공격을 했다.\n",
      "파이리은 꼬부기에게 3의 공격을 했다.\n",
      "꼬부기: 47\n",
      "파이리: 48\n",
      "꼬부기은 파이리에게 4의 공격을 했다.\n",
      "파이리은 꼬부기에게 3의 공격을 했다.\n",
      "꼬부기: 44\n",
      "파이리: 44\n",
      "꼬부기은 파이리에게 4의 공격을 했다.\n",
      "파이리은 꼬부기에게 4의 공격을 했다.\n",
      "꼬부기: 40\n",
      "파이리: 40\n",
      "꼬부기은 파이리에게 2의 공격을 했다.\n",
      "파이리은 꼬부기에게 3의 공격을 했다.\n",
      "꼬부기: 37\n",
      "파이리: 38\n",
      "꼬부기은 파이리에게 40의 공격을 했다.\n",
      "파이리 승리\n"
     ]
    }
   ],
   "source": [
    "import random \n",
    "\n",
    "while not koboki.check_hp() or not pairi.check_hp():\n",
    "    random_attack = random.randint(0, 1)\n",
    "    if random_attack:\n",
    "        koboki.water_attack1(pairi)\n",
    "    else:\n",
    "        koboki.water_attack2(pairi)\n",
    "    if pairi.check_hp():\n",
    "        print(f'{pairi.name} 승리')\n",
    "        break\n",
    "\n",
    "    random_attack = random.randint(0, 1)\n",
    "    if random_attack:\n",
    "        pairi.fire_attack1(koboki)\n",
    "    else:\n",
    "        pairi.fire_attack2(koboki)\n",
    "    if koboki.check_hp():\n",
    "        print(f'{koboki.name} 승리')\n",
    "\n",
    "    \n",
    "    print(f'{koboki.name}: {koboki.hp}')\n",
    "    print(f'{pairi.name}: {pairi.hp}')"
   ]
  },
  {
   "cell_type": "code",
   "execution_count": null,
   "id": "dcfc802b-cf49-4404-b639-a6b89dec3239",
   "metadata": {},
   "outputs": [],
   "source": []
  }
 ],
 "metadata": {
  "kernelspec": {
   "display_name": "Python 3 (ipykernel)",
   "language": "python",
   "name": "python3"
  },
  "language_info": {
   "codemirror_mode": {
    "name": "ipython",
    "version": 3
   },
   "file_extension": ".py",
   "mimetype": "text/x-python",
   "name": "python",
   "nbconvert_exporter": "python",
   "pygments_lexer": "ipython3",
   "version": "3.11.4"
  }
 },
 "nbformat": 4,
 "nbformat_minor": 5
}
