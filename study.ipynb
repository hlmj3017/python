{
 "cells": [
  {
   "cell_type": "markdown",
   "id": "58335efd-4d5a-44b2-9ff5-e397faed84ca",
   "metadata": {},
   "source": [
    "```\n",
    "1.split()함수\n",
    "👉 괄호 안의 인자로 문자열을 나눌 기준을 입력받아 string을 나누는 함수.\n",
    "👉 문자열을 특정 구분자를 기준으로 List로 변환하는 함수\n",
    "```"
   ]
  },
  {
   "cell_type": "code",
   "execution_count": 2,
   "id": "d3686b89-3b2c-4e5a-8588-769821f1041a",
   "metadata": {},
   "outputs": [
    {
     "name": "stdout",
     "output_type": "stream",
     "text": [
      "['Hello', 'Python']\n",
      "['Hello', 'Python', 'Bye']\n"
     ]
    }
   ],
   "source": [
    "str1 = \"Hello Python\"\n",
    "str2 = \"Hello,Python,Bye\"\n",
    "\n",
    "s1 = str1.split(\" \")\n",
    "s2 = str2.split(\",\")\n",
    "\n",
    "print(s1)\n",
    "print(s2)"
   ]
  },
  {
   "cell_type": "markdown",
   "id": "b28fc9ba-bb79-4c3b-8fc1-8926bd4aec4b",
   "metadata": {},
   "source": [
    "```\n",
    "2.join()함수\n",
    "👉 String 사이에 특정 문자열을 삽입하여 나뉘어 있던 문자열을 합쳐주는 함수.\n",
    "👉 List를 특정 구분자를 포함해 문자열로 변환하는 함수\n",
    "```"
   ]
  },
  {
   "cell_type": "code",
   "execution_count": 3,
   "id": "644e2daa-2adb-4eb7-baf3-da08cf94a128",
   "metadata": {},
   "outputs": [
    {
     "name": "stdout",
     "output_type": "stream",
     "text": [
      "ABCD\n",
      "A,B,C,D\n",
      "A/B/C/D\n"
     ]
    }
   ],
   "source": [
    "a = ['A','B','C','D']\n",
    "s1 = ''.join(a)\n",
    "s2 = ','.join(a)\n",
    "s3 = '/'.join(a)\n",
    "\n",
    "print(s1)\n",
    "print(s2)\n",
    "print(s3)"
   ]
  },
  {
   "cell_type": "markdown",
   "id": "56ae7f72-23f5-4d65-9c7d-ddaacce3bbfe",
   "metadata": {},
   "source": [
    "```\n",
    "3.map()함수\n",
    "👉 map(f, iterable)은 함수(f)와 반복가능한(iterable) 자료형을 입력받고,\n",
    "입력받은 자료형의 각 요소를 함수(f)가 수행한 결과를 묶어서 반환하는 함수.\n",
    "```"
   ]
  },
  {
   "cell_type": "code",
   "execution_count": 4,
   "id": "b6b74c2f-1a8c-4ca9-b6ee-0c1842059bdc",
   "metadata": {},
   "outputs": [
    {
     "name": "stdout",
     "output_type": "stream",
     "text": [
      "['2', '5', '6', '7', '8']\n"
     ]
    }
   ],
   "source": [
    "l1 = [2, 5, 6, 7, 8]\n",
    "new_list = list(map(str, l1))\n",
    "print(new_list)"
   ]
  },
  {
   "cell_type": "markdown",
   "id": "08470ee4-05c1-4c41-a8df-ee917f4c0598",
   "metadata": {},
   "source": [
    "## list copy\n",
    "\n",
    "### 얕은 복사(shallow copy)\r",
    "- \n",
    "list의 슬라이싱을 통한 새로운 값을 할당해봅니다\n",
    "- \r\n",
    "아래의 결과와 같이 슬라이싱을 통해서 값을 할당하면 새로운 id가 부여되며, 서로 영향을 받지 않습니다.\n",
    "다."
   ]
  },
  {
   "cell_type": "code",
   "execution_count": 9,
   "id": "895a1221-58d9-4009-a4d8-3861ef07890a",
   "metadata": {},
   "outputs": [
    {
     "name": "stdout",
     "output_type": "stream",
     "text": [
      "[1, 2, 3]\n",
      "[5, 2, 3]\n"
     ]
    }
   ],
   "source": [
    "a = [1,2,3]\n",
    "b = a[:]     # shallow copy\n",
    "\n",
    "b[0] = 5\n",
    "\n",
    "print(a)\n",
    "print(b)"
   ]
  },
  {
   "cell_type": "markdown",
   "id": "aa4590b4-ede7-453b-81e5-19eaf483f744",
   "metadata": {},
   "source": [
    "- 하지만, 이러한 슬라이싱 또한 얕은 복사에 해당합니다.\n",
    "- \n",
    "리스트안에 리스트 mutable객체 안에 mutable객체인 경우 문제가 됩니다\n",
    "- \r\n",
    "id(a) 값과 id(b) 값은 다르게 되었지만, 그 내부의 객체 id(a[0])과 id(b[0])은 같은 주소를 바라보고 있습니\n",
    "- 리스트안에 리스트 mutable객체 안에 mutable객체인 경우 문제가 됩니다.\n",
    "- id(a) 값과 id(b) 값은 다르게 되었지만, 그 내부의 객체 id(a[0])과 id(b[0])은 같은 주소를 바라보고 있습니다.\n",
    "- copy 모듈의 copy 메소드 또한 얕은 복사입니다.다."
   ]
  },
  {
   "cell_type": "markdown",
   "id": "2046ef4e-807b-4286-b190-77585045ab1d",
   "metadata": {},
   "source": [
    "### 깊은 복사(deep copy)\n",
    "\r",
    "- \n",
    "깊은 복사는 내부에 객체들까지 모두 새롭게 copy 되는 것입니다\n",
    "- \r\n",
    "copy.deepcopy메소드가 해결해줍니다."
   ]
  },
  {
   "cell_type": "code",
   "execution_count": 11,
   "id": "7c264f4f-0607-4dc0-b2c8-0e68c4905a16",
   "metadata": {},
   "outputs": [
    {
     "name": "stdout",
     "output_type": "stream",
     "text": [
      "[[1, 2], [3, 4, 5]]\n",
      "[[1, 2], [3, 4]]\n"
     ]
    }
   ],
   "source": [
    "import copy\n",
    "a = [[1,2],[3,4]]\n",
    "b = copy.deepcopy(a)\n",
    "a[1].append(5)\n",
    "\n",
    "print(a)\n",
    "print(b)"
   ]
  },
  {
   "cell_type": "code",
   "execution_count": null,
   "id": "ec0f3443-66b4-4788-a5d9-ac7c7a615dd0",
   "metadata": {},
   "outputs": [],
   "source": []
  }
 ],
 "metadata": {
  "kernelspec": {
   "display_name": "Python 3 (ipykernel)",
   "language": "python",
   "name": "python3"
  },
  "language_info": {
   "codemirror_mode": {
    "name": "ipython",
    "version": 3
   },
   "file_extension": ".py",
   "mimetype": "text/x-python",
   "name": "python",
   "nbconvert_exporter": "python",
   "pygments_lexer": "ipython3",
   "version": "3.11.4"
  }
 },
 "nbformat": 4,
 "nbformat_minor": 5
}
