{
 "cells": [
  {
   "cell_type": "code",
   "execution_count": null,
   "id": "e5b14d35-f0c6-4587-b71b-0b1a4e3caa6a",
   "metadata": {},
   "outputs": [],
   "source": []
  },
  {
   "cell_type": "code",
   "execution_count": 12,
   "id": "5fdd99cd-1052-4ad7-907f-621fe816d645",
   "metadata": {},
   "outputs": [
    {
     "name": "stdin",
     "output_type": "stream",
     "text": [
      " cary\n"
     ]
    },
    {
     "name": "stdout",
     "output_type": "stream",
     "text": [
      "cary 는 소문자 입니다.\n"
     ]
    }
   ],
   "source": [
    "# 15차시_if4\n",
    "char = input()\n",
    "\n",
    "if char.isupper():\n",
    "    print(f'{char} 는 대문자 입니다.')\n",
    "else:\n",
    "    print(f'{char} 는 소문자 입니다.')"
   ]
  },
  {
   "cell_type": "code",
   "execution_count": 11,
   "id": "978ddc7f-7830-4d75-aaf3-1eef8a6b642f",
   "metadata": {},
   "outputs": [
    {
     "name": "stdin",
     "output_type": "stream",
     "text": [
      " 가위\n",
      " 바위\n"
     ]
    },
    {
     "name": "stdout",
     "output_type": "stream",
     "text": [
      "Result : Man2 Win!\n"
     ]
    }
   ],
   "source": [
    "# 16차시_if5\n",
    "\n",
    "# 보, (가위)   win2  2\n",
    "# (보), 바위   win1  1\n",
    "# (바위), 가위 win1  1\n",
    "# 가위, (바위) win2 -1\n",
    "# 바위, (보)   win2 -1\n",
    "# (가위), 보   win1 -2\n",
    "man1 = input()\n",
    "man2 = input()\n",
    "rcp = ['가위', '바위','보']\n",
    "\n",
    "man1_idx = rcp.index(man1)\n",
    "man2_idx = rcp.index(man2)\n",
    "\n",
    "result = man1_idx - man2_idx\n",
    "\n",
    "if result == 0:\n",
    "    print('Result : Draw')\n",
    "elif result > 0:\n",
    "    print(f'Result : Man{result} Win!')\n",
    "else:\n",
    "    if result == -1:\n",
    "        print('Result : Man2 Win!')\n",
    "    else:\n",
    "        print('Result : Man1 Win!')"
   ]
  },
  {
   "cell_type": "code",
   "execution_count": 8,
   "id": "926cf0ba-1c38-4df5-bda0-ba1a3795d566",
   "metadata": {},
   "outputs": [
    {
     "name": "stdin",
     "output_type": "stream",
     "text": [
      " c\n"
     ]
    },
    {
     "name": "stdout",
     "output_type": "stream",
     "text": [
      "c C\n",
      "99 67\n"
     ]
    }
   ],
   "source": [
    "# 17차시_if6\n",
    "char = input()\n",
    "\n",
    "if char.isupper():\n",
    "    # 대문자인 경우\n",
    "    result = char.lower()\n",
    "else:\n",
    "    # 소문자인 경우\n",
    "    result = char.upper()\n",
    "\n",
    "print(char, result)\n",
    "print(ord(char), ord(result))"
   ]
  },
  {
   "cell_type": "markdown",
   "id": "fadeddd1-c7d3-4ee9-9952-4d5b88bcd20b",
   "metadata": {},
   "source": [
    "```\n",
    "1.split()함수\n",
    "👉 괄호 안의 인자로 문자열을 나눌 기준을 입력받아 string을 나누는 함수.\n",
    "👉 문자열을 특정 구분자를 기준으로 List로 변환하는 함수\n",
    "```"
   ]
  },
  {
   "cell_type": "code",
   "execution_count": 5,
   "id": "9054231a-e85a-4b8e-ade5-d82ea073c3da",
   "metadata": {},
   "outputs": [
    {
     "name": "stdout",
     "output_type": "stream",
     "text": [
      "['Hello', 'Python']\n",
      "['Hello', 'Python', 'Bye']\n"
     ]
    }
   ],
   "source": [
    "str1 = \"Hello Python\"\n",
    "str2 = \"Hello,Python,Bye\"\n",
    "\n",
    "s1 = str1.split(\" \")\n",
    "s2 = str2.split(\",\")\n",
    "\n",
    "print(s1)\n",
    "print(s2)"
   ]
  },
  {
   "cell_type": "markdown",
   "id": "65486990-252a-40a4-8f79-9471395a37aa",
   "metadata": {},
   "source": [
    "```\n",
    "2.join()함수\n",
    "👉 String 사이에 특정 문자열을 삽입하여 나뉘어 있던 문자열을 합쳐주는 함수.\n",
    "👉 List를 특정 구분자를 포함해 문자열로 변환하는 함수\n",
    "```"
   ]
  },
  {
   "cell_type": "code",
   "execution_count": 4,
   "id": "d0d5f7e4-8027-45bd-9ebc-5df5e6e987b4",
   "metadata": {},
   "outputs": [
    {
     "name": "stdout",
     "output_type": "stream",
     "text": [
      "ABCD\n",
      "A,B,C,D\n",
      "A/B/C/D\n"
     ]
    }
   ],
   "source": [
    "a = ['A','B','C','D']\n",
    "s1 = ''.join(a)\n",
    "s2 = ','.join(a)\n",
    "s3 = '/'.join(a)\n",
    "\n",
    "print(s1)\n",
    "print(s2)\n",
    "print(s3)"
   ]
  },
  {
   "cell_type": "markdown",
   "id": "45d0b593-3838-432d-b520-efbf6c8cb44f",
   "metadata": {},
   "source": [
    "```\n",
    "3.map()함수\n",
    "👉 map(f, iterable)은 함수(f)와 반복가능한(iterable) 자료형을 입력받고,\n",
    "입력받은 자료형의 각 요소를 함수(f)가 수행한 결과를 묶어서 반환하는 함수.\n",
    "```"
   ]
  },
  {
   "cell_type": "code",
   "execution_count": 2,
   "id": "26106bd4-9ef9-4f3a-b78a-5c1f685a58fe",
   "metadata": {},
   "outputs": [
    {
     "name": "stdout",
     "output_type": "stream",
     "text": [
      "['2', '5', '6', '7', '8']\n"
     ]
    }
   ],
   "source": [
    "l1 = [2, 5, 6, 7, 8]\n",
    "new_list = list(map(str, l1))\n",
    "print(new_list)"
   ]
  },
  {
   "cell_type": "code",
   "execution_count": 13,
   "id": "50341aec-d76e-4b45-9b83-cd50852a70e2",
   "metadata": {},
   "outputs": [
    {
     "name": "stdout",
     "output_type": "stream",
     "text": [
      "7,14,21,28,42,49,56,63,77,84,91,98,112,119,126,133,147,154,161,168,182,189,196\n"
     ]
    }
   ],
   "source": [
    "# 18차시_if7\n",
    "result = []\n",
    "\n",
    "for i in range(1, 201):\n",
    "    if i % 7 == 0 and i % 5 != 0:\n",
    "        result.append(i)\n",
    "\n",
    "result = list(map(str, result))\n",
    "\n",
    "print(','.join(result))\n",
    "\n",
    "# print(result)"
   ]
  },
  {
   "cell_type": "code",
   "execution_count": 14,
   "id": "2047f4ab-6b31-4217-b522-6d17829d5606",
   "metadata": {},
   "outputs": [
    {
     "name": "stdout",
     "output_type": "stream",
     "text": [
      "{'A': 3, 'O': 3, 'B': 2, 'AB': 2}\n"
     ]
    }
   ],
   "source": [
    "# 26차시_for6\n",
    "\n",
    "bloods = ['A','A','A','B','B','AB','AB','O','O','O']\n",
    "bloods_dict = {\n",
    "    'A': 0, \n",
    "    'O' : 0, \n",
    "    'B' : 0, \n",
    "    'AB' : 0\n",
    "}\n",
    "\n",
    "for i in bloods:\n",
    "    bloods_dict[i] += 1\n",
    "\n",
    "# for i in bloods:\n",
    "#     if i == 'A':\n",
    "#         bloods_dict['A'] += 1\n",
    "#     elif i == 'O':\n",
    "#         bloods_dict['O'] += 1        \n",
    "#     elif i == 'B':\n",
    "#         bloods_dict['B'] += 1\n",
    "#     else:\n",
    "#         bloods_dict['AB'] += 1\n",
    "\n",
    "print(bloods_dict)\n"
   ]
  },
  {
   "cell_type": "code",
   "execution_count": null,
   "id": "a2bc2c2c-a8bf-40b6-9de6-c9f0547848b7",
   "metadata": {},
   "outputs": [],
   "source": []
  }
 ],
 "metadata": {
  "kernelspec": {
   "display_name": "Python 3 (ipykernel)",
   "language": "python",
   "name": "python3"
  },
  "language_info": {
   "codemirror_mode": {
    "name": "ipython",
    "version": 3
   },
   "file_extension": ".py",
   "mimetype": "text/x-python",
   "name": "python",
   "nbconvert_exporter": "python",
   "pygments_lexer": "ipython3",
   "version": "3.11.4"
  }
 },
 "nbformat": 4,
 "nbformat_minor": 5
}
