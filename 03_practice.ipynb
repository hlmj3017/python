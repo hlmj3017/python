{
 "cells": [
  {
   "cell_type": "code",
   "execution_count": 1,
   "id": "de6c996a-d022-40e8-9398-b2ce033f90df",
   "metadata": {},
   "outputs": [
    {
     "name": "stdin",
     "output_type": "stream",
     "text": [
      "오늘 날씨 어때요? 비\n"
     ]
    },
    {
     "name": "stdout",
     "output_type": "stream",
     "text": [
      "우산을 챙기세요.\n"
     ]
    }
   ],
   "source": [
    "weather = input('오늘 날씨 어때요?')\n",
    "\n",
    "if weather == '비' or weather == '눈':\n",
    "    print('우산을 챙기세요.')\n",
    "elif weather == '미세먼지':\n",
    "    print('마스크를 챙기세요.')\n",
    "else:\n",
    "    print('준비물 필요 없어요.')"
   ]
  },
  {
   "cell_type": "code",
   "execution_count": null,
   "id": "9b884c1e-d3d9-47a2-819d-d0bfa2dc4914",
   "metadata": {},
   "outputs": [],
   "source": []
  }
 ],
 "metadata": {
  "kernelspec": {
   "display_name": "Python 3 (ipykernel)",
   "language": "python",
   "name": "python3"
  },
  "language_info": {
   "codemirror_mode": {
    "name": "ipython",
    "version": 3
   },
   "file_extension": ".py",
   "mimetype": "text/x-python",
   "name": "python",
   "nbconvert_exporter": "python",
   "pygments_lexer": "ipython3",
   "version": "3.11.4"
  }
 },
 "nbformat": 4,
 "nbformat_minor": 5
}
