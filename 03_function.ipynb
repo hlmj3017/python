{
 "cells": [
  {
   "cell_type": "markdown",
   "id": "0c366976-0e0d-4335-8719-452a8f1d4dfc",
   "metadata": {},
   "source": [
    "## 함수(function)"
   ]
  },
  {
   "cell_type": "code",
   "execution_count": 2,
   "id": "a6acb33e-84dc-4d20-982d-bf8cc1c29bbb",
   "metadata": {},
   "outputs": [
    {
     "name": "stdout",
     "output_type": "stream",
     "text": [
      "직사각형의 둘레는 60, 면적은 200입니다.\n",
      "직사각형의 둘레는 260, 면적은 4000입니다.\n"
     ]
    }
   ],
   "source": [
    "height = 10\n",
    "width = 20\n",
    "\n",
    "height2 = 50\n",
    "width2 = 80\n",
    "\n",
    "# 직사각형의 둘레는 ***, 면적은 *** 입니다.\n",
    "\n",
    "area = height * width\n",
    "perimeter = (height + width) * 2\n",
    "print(f'직사각형의 둘레는 {perimeter}, 면적은 {area}입니다.')\n",
    "\n",
    "area = height2 * width2\n",
    "perimeter = (height2 + width2) * 2\n",
    "print(f'직사각형의 둘레는 {perimeter}, 면적은 {area}입니다.')"
   ]
  },
  {
   "cell_type": "markdown",
   "id": "5bab547e-59ed-401b-a431-7a0ead21afcf",
   "metadata": {},
   "source": [
    "## 함수의 선언과 호출\n",
    "\n",
    "```python\n",
    "def func_name(parameter1, parameter2...):\n",
    "    code1\n",
    "    code2\n",
    "    ...\n",
    "    return value\n",
    "```\n",
    "\n",
    "- 함수의 호출(실행)\n",
    "```\n",
    "func_name(parameter1, parameter2)\n",
    "```"
   ]
  },
  {
   "cell_type": "code",
   "execution_count": 6,
   "id": "4b775c97-cdc5-414b-a358-90795b6d6b23",
   "metadata": {},
   "outputs": [],
   "source": [
    "def rectangle(height, width):\n",
    "    area = height * width\n",
    "    perimeter = (height + width) * 2\n",
    "    print(f'직사각형의 둘레는 {perimeter}, 면적은 {area}입니다.')"
   ]
  },
  {
   "cell_type": "code",
   "execution_count": 7,
   "id": "98e78787-d7bf-452f-9df4-50add50b550c",
   "metadata": {},
   "outputs": [
    {
     "name": "stdout",
     "output_type": "stream",
     "text": [
      "직사각형의 둘레는 60, 면적은 200입니다.\n"
     ]
    }
   ],
   "source": [
    "rectangle(10, 20)"
   ]
  },
  {
   "cell_type": "code",
   "execution_count": 8,
   "id": "569db440-09ab-4ac3-bc56-f516548ab677",
   "metadata": {},
   "outputs": [
    {
     "data": {
      "text/plain": [
       "['ArithmeticError',\n",
       " 'AssertionError',\n",
       " 'AttributeError',\n",
       " 'BaseException',\n",
       " 'BaseExceptionGroup',\n",
       " 'BlockingIOError',\n",
       " 'BrokenPipeError',\n",
       " 'BufferError',\n",
       " 'BytesWarning',\n",
       " 'ChildProcessError',\n",
       " 'ConnectionAbortedError',\n",
       " 'ConnectionError',\n",
       " 'ConnectionRefusedError',\n",
       " 'ConnectionResetError',\n",
       " 'DeprecationWarning',\n",
       " 'EOFError',\n",
       " 'Ellipsis',\n",
       " 'EncodingWarning',\n",
       " 'EnvironmentError',\n",
       " 'Exception',\n",
       " 'ExceptionGroup',\n",
       " 'False',\n",
       " 'FileExistsError',\n",
       " 'FileNotFoundError',\n",
       " 'FloatingPointError',\n",
       " 'FutureWarning',\n",
       " 'GeneratorExit',\n",
       " 'IOError',\n",
       " 'ImportError',\n",
       " 'ImportWarning',\n",
       " 'IndentationError',\n",
       " 'IndexError',\n",
       " 'InterruptedError',\n",
       " 'IsADirectoryError',\n",
       " 'KeyError',\n",
       " 'KeyboardInterrupt',\n",
       " 'LookupError',\n",
       " 'MemoryError',\n",
       " 'ModuleNotFoundError',\n",
       " 'NameError',\n",
       " 'None',\n",
       " 'NotADirectoryError',\n",
       " 'NotImplemented',\n",
       " 'NotImplementedError',\n",
       " 'OSError',\n",
       " 'OverflowError',\n",
       " 'PendingDeprecationWarning',\n",
       " 'PermissionError',\n",
       " 'ProcessLookupError',\n",
       " 'RecursionError',\n",
       " 'ReferenceError',\n",
       " 'ResourceWarning',\n",
       " 'RuntimeError',\n",
       " 'RuntimeWarning',\n",
       " 'StopAsyncIteration',\n",
       " 'StopIteration',\n",
       " 'SyntaxError',\n",
       " 'SyntaxWarning',\n",
       " 'SystemError',\n",
       " 'SystemExit',\n",
       " 'TabError',\n",
       " 'TimeoutError',\n",
       " 'True',\n",
       " 'TypeError',\n",
       " 'UnboundLocalError',\n",
       " 'UnicodeDecodeError',\n",
       " 'UnicodeEncodeError',\n",
       " 'UnicodeError',\n",
       " 'UnicodeTranslateError',\n",
       " 'UnicodeWarning',\n",
       " 'UserWarning',\n",
       " 'ValueError',\n",
       " 'Warning',\n",
       " 'WindowsError',\n",
       " 'ZeroDivisionError',\n",
       " '__IPYTHON__',\n",
       " '__build_class__',\n",
       " '__debug__',\n",
       " '__doc__',\n",
       " '__import__',\n",
       " '__loader__',\n",
       " '__name__',\n",
       " '__package__',\n",
       " '__spec__',\n",
       " 'abs',\n",
       " 'aiter',\n",
       " 'all',\n",
       " 'anext',\n",
       " 'any',\n",
       " 'ascii',\n",
       " 'bin',\n",
       " 'bool',\n",
       " 'breakpoint',\n",
       " 'bytearray',\n",
       " 'bytes',\n",
       " 'callable',\n",
       " 'chr',\n",
       " 'classmethod',\n",
       " 'compile',\n",
       " 'complex',\n",
       " 'copyright',\n",
       " 'credits',\n",
       " 'delattr',\n",
       " 'dict',\n",
       " 'dir',\n",
       " 'display',\n",
       " 'divmod',\n",
       " 'enumerate',\n",
       " 'eval',\n",
       " 'exec',\n",
       " 'execfile',\n",
       " 'filter',\n",
       " 'float',\n",
       " 'format',\n",
       " 'frozenset',\n",
       " 'get_ipython',\n",
       " 'getattr',\n",
       " 'globals',\n",
       " 'hasattr',\n",
       " 'hash',\n",
       " 'help',\n",
       " 'hex',\n",
       " 'id',\n",
       " 'input',\n",
       " 'int',\n",
       " 'isinstance',\n",
       " 'issubclass',\n",
       " 'iter',\n",
       " 'len',\n",
       " 'license',\n",
       " 'list',\n",
       " 'locals',\n",
       " 'map',\n",
       " 'max',\n",
       " 'memoryview',\n",
       " 'min',\n",
       " 'next',\n",
       " 'object',\n",
       " 'oct',\n",
       " 'open',\n",
       " 'ord',\n",
       " 'pow',\n",
       " 'print',\n",
       " 'property',\n",
       " 'range',\n",
       " 'repr',\n",
       " 'reversed',\n",
       " 'round',\n",
       " 'runfile',\n",
       " 'set',\n",
       " 'setattr',\n",
       " 'slice',\n",
       " 'sorted',\n",
       " 'staticmethod',\n",
       " 'str',\n",
       " 'sum',\n",
       " 'super',\n",
       " 'tuple',\n",
       " 'type',\n",
       " 'vars',\n",
       " 'zip']"
      ]
     },
     "execution_count": 8,
     "metadata": {},
     "output_type": "execute_result"
    }
   ],
   "source": [
    "dir(__builtins__)"
   ]
  },
  {
   "cell_type": "code",
   "execution_count": 9,
   "id": "90fdc4ad-85b9-42aa-aaf2-535b68932167",
   "metadata": {},
   "outputs": [
    {
     "data": {
      "text/plain": [
       "5"
      ]
     },
     "execution_count": 9,
     "metadata": {},
     "output_type": "execute_result"
    }
   ],
   "source": [
    "max(1,5)"
   ]
  },
  {
   "cell_type": "code",
   "execution_count": 16,
   "id": "22369b1e-cac3-4197-90b5-f087d639ba16",
   "metadata": {},
   "outputs": [],
   "source": [
    "# 두개의 정수를 받아서 큰 수를 출력\n",
    "def my_max(num1, num2):\n",
    "    if num1 > num2:\n",
    "        # 1이 더 큰 경우\n",
    "        print(f'{num1}이 더 큽니다.')\n",
    "    elif num1 < num2:\n",
    "        # 2가 더 큰 경우\n",
    "        print(f'{num2}가 더 큽니다.')\n",
    "    else:\n",
    "        print('두 수가 같습니다')\n",
    "    # return None"
   ]
  },
  {
   "cell_type": "code",
   "execution_count": 15,
   "id": "e5c7f9c9-ffa5-44ae-bbe3-3ef9f23439ae",
   "metadata": {},
   "outputs": [
    {
     "name": "stdout",
     "output_type": "stream",
     "text": [
      "두 수가 같습니다\n",
      "None\n"
     ]
    }
   ],
   "source": [
    "result = my_max(10,10)\n",
    "print(result)"
   ]
  },
  {
   "cell_type": "markdown",
   "id": "2522e52f-61c6-41c5-87f3-c8b6a5fe68a2",
   "metadata": {},
   "source": [
    "## 함수의 return\n",
    "\n",
    "- 함수가 return을 만나면 해당 값을 반환하고 함수를 종료\n",
    "- 만약 return이 없다면 None을 자동으로 반환\n",
    "- return은 오직 하나의 객체만 반환합니다.\n",
    "\n",
    "- print와 달리 할당하고 재사용 가능"
   ]
  },
  {
   "cell_type": "code",
   "execution_count": 17,
   "id": "de687924-87a9-474b-bca7-4643bb72ab90",
   "metadata": {},
   "outputs": [],
   "source": [
    "# 두개의 정수를 받아서 큰 수를 출력\n",
    "def my_max2(num1, num2):\n",
    "    if num1 > num2:\n",
    "        # 1이 더 큰 경우\n",
    "        return num1\n",
    "    elif num1 < num2:\n",
    "        # 2가 더 큰 경우\n",
    "        return num2\n",
    "    else:\n",
    "        return 0\n"
   ]
  },
  {
   "cell_type": "code",
   "execution_count": 19,
   "id": "de67e0d2-0433-4b2c-a32b-3023045b82b8",
   "metadata": {},
   "outputs": [
    {
     "name": "stdout",
     "output_type": "stream",
     "text": [
      "2가 더 큽니다.\n"
     ]
    }
   ],
   "source": [
    "result = my_max2(1, 2)\n",
    "print(f'{result}가 더 큽니다.')"
   ]
  },
  {
   "cell_type": "code",
   "execution_count": 20,
   "id": "e19190a7-405c-49c4-a53c-eb5901cb0f81",
   "metadata": {},
   "outputs": [],
   "source": [
    "def my_list_max(list_a, list_b):\n",
    "    if sum(list_a) > sum(list_b):\n",
    "        return\n",
    "    else:\n",
    "        return list_b"
   ]
  },
  {
   "cell_type": "code",
   "execution_count": 21,
   "id": "a38f149a-a3a6-46e2-a440-ee6400c23475",
   "metadata": {},
   "outputs": [
    {
     "data": {
      "text/plain": [
       "[11, 12]"
      ]
     },
     "execution_count": 21,
     "metadata": {},
     "output_type": "execute_result"
    }
   ],
   "source": [
    "my_list_max([10, 11], [11, 12])"
   ]
  },
  {
   "cell_type": "code",
   "execution_count": null,
   "id": "50de50e1-933e-44e0-b42b-d2b00eab6503",
   "metadata": {},
   "outputs": [],
   "source": []
  }
 ],
 "metadata": {
  "kernelspec": {
   "display_name": "Python 3 (ipykernel)",
   "language": "python",
   "name": "python3"
  },
  "language_info": {
   "codemirror_mode": {
    "name": "ipython",
    "version": 3
   },
   "file_extension": ".py",
   "mimetype": "text/x-python",
   "name": "python",
   "nbconvert_exporter": "python",
   "pygments_lexer": "ipython3",
   "version": "3.11.4"
  }
 },
 "nbformat": 4,
 "nbformat_minor": 5
}
