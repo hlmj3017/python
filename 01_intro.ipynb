{
 "cells": [
  {
   "cell_type": "code",
   "execution_count": 1,
   "id": "4b38dbd1-e595-4e1e-b6c5-c223694b9fae",
   "metadata": {},
   "outputs": [
    {
     "name": "stdout",
     "output_type": "stream",
     "text": [
      "hello\n"
     ]
    }
   ],
   "source": [
    "print('hello')"
   ]
  },
  {
   "cell_type": "markdown",
   "id": "ba5560b4-8a0d-4f54-b7d6-9bfa2b61eb19",
   "metadata": {},
   "source": [
    "# 01. intro\n",
    "\n",
    "## 단축기\n",
    "\n",
    "- ctrl + enter : 지금 셀 실행\n",
    "- shift + enter : 지금 셀 실행 & 아래로 이동\n",
    "- alt + enter: 지금 셀 실행 & 아래에 새로운 셀 추가\n",
    "\n",
    "## 주의사항\n",
    "\n",
    "1. Apple / apple\n",
    "2. git add . / git add.\n",
    "3. message / massage"
   ]
  },
  {
   "cell_type": "code",
   "execution_count": 2,
   "id": "9f19ecdb-62ee-4960-8bd1-ae94ae9a73bb",
   "metadata": {},
   "outputs": [],
   "source": [
    "# 주석을 나타냅니다."
   ]
  },
  {
   "cell_type": "markdown",
   "id": "2511ee91-44a1-4993-b0b6-dd22c07dd63b",
   "metadata": {},
   "source": [
    "# 1. 변수\n",
    "\n",
    "변수이름 = 값\n",
    "\n",
    "- 변수이름은 어떤 이름이든 상관 없음\n",
    "- 다만 영어, 숫자, _ 를 이용하여 선언\n",
    "- 키워드는 사용 불가"
   ]
  },
  {
   "cell_type": "code",
   "execution_count": 3,
   "id": "13a78acd-8db1-4a35-b290-2d3b125c9719",
   "metadata": {},
   "outputs": [],
   "source": [
    "a = 10"
   ]
  },
  {
   "cell_type": "code",
   "execution_count": 4,
   "id": "4ef4aebf-c310-4810-a724-1b9ab1027aa9",
   "metadata": {},
   "outputs": [
    {
     "data": {
      "text/plain": [
       "10"
      ]
     },
     "execution_count": 4,
     "metadata": {},
     "output_type": "execute_result"
    }
   ],
   "source": [
    "a"
   ]
  },
  {
   "cell_type": "code",
   "execution_count": 5,
   "id": "9847bb55-eef7-44ac-ac06-a3d152207917",
   "metadata": {},
   "outputs": [
    {
     "data": {
      "text/plain": [
       "['False',\n",
       " 'None',\n",
       " 'True',\n",
       " 'and',\n",
       " 'as',\n",
       " 'assert',\n",
       " 'async',\n",
       " 'await',\n",
       " 'break',\n",
       " 'class',\n",
       " 'continue',\n",
       " 'def',\n",
       " 'del',\n",
       " 'elif',\n",
       " 'else',\n",
       " 'except',\n",
       " 'finally',\n",
       " 'for',\n",
       " 'from',\n",
       " 'global',\n",
       " 'if',\n",
       " 'import',\n",
       " 'in',\n",
       " 'is',\n",
       " 'lambda',\n",
       " 'nonlocal',\n",
       " 'not',\n",
       " 'or',\n",
       " 'pass',\n",
       " 'raise',\n",
       " 'return',\n",
       " 'try',\n",
       " 'while',\n",
       " 'with',\n",
       " 'yield']"
      ]
     },
     "execution_count": 5,
     "metadata": {},
     "output_type": "execute_result"
    }
   ],
   "source": [
    "import keyword\n",
    "keyword.kwlist"
   ]
  },
  {
   "cell_type": "markdown",
   "id": "f26501e5-3e44-4d39-a2c4-da0700829eca",
   "metadata": {},
   "source": [
    "### 1.1 number"
   ]
  },
  {
   "cell_type": "code",
   "execution_count": 7,
   "id": "fa550366-f6e0-4c20-ba03-bd494e70ba70",
   "metadata": {},
   "outputs": [],
   "source": [
    "a = 10000000"
   ]
  },
  {
   "cell_type": "code",
   "execution_count": 8,
   "id": "c6035d4e-81e7-4da3-a7ea-3b64a6c11ae5",
   "metadata": {},
   "outputs": [
    {
     "data": {
      "text/plain": [
       "10000000"
      ]
     },
     "execution_count": 8,
     "metadata": {},
     "output_type": "execute_result"
    }
   ],
   "source": [
    "a"
   ]
  },
  {
   "cell_type": "code",
   "execution_count": 16,
   "id": "af573ae9-b204-45e9-9030-8e3b82a69793",
   "metadata": {},
   "outputs": [
    {
     "data": {
      "text/plain": [
       "int"
      ]
     },
     "execution_count": 16,
     "metadata": {},
     "output_type": "execute_result"
    }
   ],
   "source": [
    "type(a)  # 정수"
   ]
  },
  {
   "cell_type": "code",
   "execution_count": 10,
   "id": "c8d2ff3f-87ed-46d1-b9b7-5fbc683dc08c",
   "metadata": {},
   "outputs": [],
   "source": [
    "b = 1.1"
   ]
  },
  {
   "cell_type": "code",
   "execution_count": 11,
   "id": "781a5138-be67-4f11-a316-c5a82adbe42a",
   "metadata": {},
   "outputs": [
    {
     "data": {
      "text/plain": [
       "1.1"
      ]
     },
     "execution_count": 11,
     "metadata": {},
     "output_type": "execute_result"
    }
   ],
   "source": [
    "b"
   ]
  },
  {
   "cell_type": "code",
   "execution_count": 17,
   "id": "674b8467-5428-441e-bf8c-a533cb7894c7",
   "metadata": {},
   "outputs": [
    {
     "data": {
      "text/plain": [
       "float"
      ]
     },
     "execution_count": 17,
     "metadata": {},
     "output_type": "execute_result"
    }
   ],
   "source": [
    "type(b)  # 소수"
   ]
  },
  {
   "cell_type": "code",
   "execution_count": 13,
   "id": "042f09d1-de07-4fc6-af0f-27bec1dbea66",
   "metadata": {},
   "outputs": [],
   "source": [
    "c = 1 - 4j"
   ]
  },
  {
   "cell_type": "code",
   "execution_count": 14,
   "id": "b17ef0d9-b989-4906-97d3-92a4554d675b",
   "metadata": {},
   "outputs": [
    {
     "data": {
      "text/plain": [
       "(1-4j)"
      ]
     },
     "execution_count": 14,
     "metadata": {},
     "output_type": "execute_result"
    }
   ],
   "source": [
    "c"
   ]
  },
  {
   "cell_type": "code",
   "execution_count": 19,
   "id": "3cedb118-469c-4575-82a2-bbf8229fbe87",
   "metadata": {},
   "outputs": [
    {
     "data": {
      "text/plain": [
       "complex"
      ]
     },
     "execution_count": 19,
     "metadata": {},
     "output_type": "execute_result"
    }
   ],
   "source": [
    "type(c)  # 허수"
   ]
  },
  {
   "cell_type": "code",
   "execution_count": 22,
   "id": "10a2123c-e68b-45e8-991b-33e6a397074e",
   "metadata": {},
   "outputs": [
    {
     "data": {
      "text/plain": [
       "-4.0"
      ]
     },
     "execution_count": 22,
     "metadata": {},
     "output_type": "execute_result"
    }
   ],
   "source": [
    "c.imag  # 허수부분"
   ]
  },
  {
   "cell_type": "code",
   "execution_count": 23,
   "id": "9e16511a-09f9-428f-b0c0-1b5b6c377229",
   "metadata": {},
   "outputs": [
    {
     "data": {
      "text/plain": [
       "1.0"
      ]
     },
     "execution_count": 23,
     "metadata": {},
     "output_type": "execute_result"
    }
   ],
   "source": [
    "c.real  # 실수부분"
   ]
  },
  {
   "cell_type": "markdown",
   "id": "e2aaeb90-85f6-4e4e-ae43-48720b6b558e",
   "metadata": {},
   "source": [
    "### 1.2 Boolean\n",
    "\n",
    "True, False로 이루어진 타입"
   ]
  },
  {
   "cell_type": "code",
   "execution_count": 24,
   "id": "20a5038d-fc7d-4649-84c1-44e25cbbcec6",
   "metadata": {},
   "outputs": [],
   "source": [
    "a = True"
   ]
  },
  {
   "cell_type": "code",
   "execution_count": 25,
   "id": "65d3b745-dd7a-48e4-b367-4c8b13e5d411",
   "metadata": {},
   "outputs": [
    {
     "data": {
      "text/plain": [
       "bool"
      ]
     },
     "execution_count": 25,
     "metadata": {},
     "output_type": "execute_result"
    }
   ],
   "source": [
    "type(a)"
   ]
  },
  {
   "cell_type": "code",
   "execution_count": 26,
   "id": "ea1e29c5-b6ca-4dca-8e29-02a797d3727c",
   "metadata": {},
   "outputs": [],
   "source": [
    "b = False"
   ]
  },
  {
   "cell_type": "code",
   "execution_count": 27,
   "id": "1dcc1b5f-bad2-4a03-910d-9d57bc4474e9",
   "metadata": {},
   "outputs": [
    {
     "data": {
      "text/plain": [
       "bool"
      ]
     },
     "execution_count": 27,
     "metadata": {},
     "output_type": "execute_result"
    }
   ],
   "source": [
    "type(b)"
   ]
  },
  {
   "cell_type": "markdown",
   "id": "2fd928b3-89e6-41e0-9090-1d5f436c8043",
   "metadata": {},
   "source": [
    "### 1.3 None"
   ]
  },
  {
   "cell_type": "code",
   "execution_count": 29,
   "id": "ae8110b3-4f66-40af-9b60-7d6831d5ef19",
   "metadata": {},
   "outputs": [],
   "source": [
    "a = None"
   ]
  },
  {
   "cell_type": "code",
   "execution_count": 30,
   "id": "ec8bea6c-5493-4543-9909-b7c00d4b7469",
   "metadata": {},
   "outputs": [
    {
     "data": {
      "text/plain": [
       "NoneType"
      ]
     },
     "execution_count": 30,
     "metadata": {},
     "output_type": "execute_result"
    }
   ],
   "source": [
    "type(a)"
   ]
  },
  {
   "cell_type": "markdown",
   "id": "507cb792-a22b-449b-81bb-54cb325e11d7",
   "metadata": {},
   "source": [
    "### 1.4 String\n",
    "\n",
    "- 문자열은 `'` `\"` 를 이용하여 표현\n",
    "- 둘 중 하나를 선택했으면 그것으로 통일해서 진행"
   ]
  },
  {
   "cell_type": "code",
   "execution_count": 31,
   "id": "942708a6-bc29-4d70-a06a-1df18a955b07",
   "metadata": {},
   "outputs": [],
   "source": [
    "a = 'hello'"
   ]
  },
  {
   "cell_type": "code",
   "execution_count": 32,
   "id": "ef6617aa-6a0a-4483-8525-ce2fc557bd2b",
   "metadata": {},
   "outputs": [
    {
     "data": {
      "text/plain": [
       "str"
      ]
     },
     "execution_count": 32,
     "metadata": {},
     "output_type": "execute_result"
    }
   ],
   "source": [
    "type(a)"
   ]
  },
  {
   "cell_type": "code",
   "execution_count": 33,
   "id": "86221376-956e-48e7-b446-1d83e23e5cff",
   "metadata": {},
   "outputs": [],
   "source": [
    "b = \"world\""
   ]
  },
  {
   "cell_type": "code",
   "execution_count": 34,
   "id": "7f33befc-9781-4832-a85b-ed19f73be238",
   "metadata": {},
   "outputs": [
    {
     "data": {
      "text/plain": [
       "str"
      ]
     },
     "execution_count": 34,
     "metadata": {},
     "output_type": "execute_result"
    }
   ],
   "source": [
    "type(b)"
   ]
  },
  {
   "cell_type": "raw",
   "id": "ee38b01c-9a1c-4e74-9036-c48dd4bfc74c",
   "metadata": {},
   "source": [
    "age = input()\n",
    "print(age)\n",
    "print(type(age))"
   ]
  },
  {
   "cell_type": "code",
   "execution_count": 37,
   "id": "e44c92ae-9004-4b22-9d71-80a1abd77783",
   "metadata": {},
   "outputs": [
    {
     "name": "stdout",
     "output_type": "stream",
     "text": [
      "안녕하세요? \"조민진\"입니다.\n"
     ]
    }
   ],
   "source": [
    "print('안녕하세요? \"조민진\"입니다.')"
   ]
  },
  {
   "cell_type": "code",
   "execution_count": 39,
   "id": "e3e09cc5-6624-435c-817c-24b28dbe9ac5",
   "metadata": {},
   "outputs": [
    {
     "name": "stdout",
     "output_type": "stream",
     "text": [
      "안녕하세요? '조민진'입니다.\n"
     ]
    }
   ],
   "source": [
    "print('안녕하세요? \\'조민진\\'입니다.')"
   ]
  },
  {
   "cell_type": "code",
   "execution_count": 48,
   "id": "ad717135-68b6-44da-863e-c2bd785c5690",
   "metadata": {},
   "outputs": [],
   "source": [
    "a = '''\n",
    "여기는 문자열입니다.\n",
    "엔터를 쳐서 여러줄을 작성 할 수 있습니다.\n",
    "'''"
   ]
  },
  {
   "cell_type": "code",
   "execution_count": 49,
   "id": "119b5ae6-18a2-4b70-95a7-2e72951143a9",
   "metadata": {},
   "outputs": [
    {
     "name": "stdout",
     "output_type": "stream",
     "text": [
      "\n",
      "여기는 문자열입니다.\n",
      "엔터를 쳐서 여러줄을 작성 할 수 있습니다.\n",
      "\n"
     ]
    }
   ],
   "source": [
    "print(a)"
   ]
  },
  {
   "cell_type": "code",
   "execution_count": 40,
   "id": "ee679696-5376-4513-8aa8-4bcd2d644707",
   "metadata": {},
   "outputs": [
    {
     "name": "stdout",
     "output_type": "stream",
     "text": [
      "엔터를 입력해봐요 \n",
      "다음줄입니다. \t들여쓰기도 가능합니다\n"
     ]
    }
   ],
   "source": [
    "print('엔터를 입력해봐요 \\n다음줄입니다. \\t들여쓰기도 가능합니다')"
   ]
  },
  {
   "cell_type": "code",
   "execution_count": 43,
   "id": "93f0474f-587b-47af-a7f8-1402d10bbce2",
   "metadata": {},
   "outputs": [
    {
     "name": "stdout",
     "output_type": "stream",
     "text": [
      "하나\t둘\t셋\n"
     ]
    }
   ],
   "source": [
    "print('하나', '둘', '셋', sep='\\t')"
   ]
  },
  {
   "cell_type": "markdown",
   "id": "25840c38-d1ff-477c-9e9a-db1c67ff30cf",
   "metadata": {},
   "source": [
    "### string interpolation\n",
    "\n",
    "1. %-formatting\n",
    "2. str.format()\n",
    "3. f-string"
   ]
  },
  {
   "cell_type": "code",
   "execution_count": 44,
   "id": "7d3e1074-708a-42a0-91eb-ebf454f88d7d",
   "metadata": {},
   "outputs": [],
   "source": [
    "age = 20"
   ]
  },
  {
   "cell_type": "code",
   "execution_count": 45,
   "id": "5d03aaa0-d802-4839-b0a4-61aceba59368",
   "metadata": {},
   "outputs": [
    {
     "name": "stdout",
     "output_type": "stream",
     "text": [
      "홍길동은 20 살입니다.\n"
     ]
    }
   ],
   "source": [
    "print('홍길동은 %s 살입니다.' % age)"
   ]
  },
  {
   "cell_type": "code",
   "execution_count": 46,
   "id": "46f7deb5-096e-4cd7-b376-54cb6b65fa7e",
   "metadata": {},
   "outputs": [
    {
     "name": "stdout",
     "output_type": "stream",
     "text": [
      "홍길동은 20살입니다.\n"
     ]
    }
   ],
   "source": [
    "print('홍길동은 {}살입니다.'.format(age))"
   ]
  },
  {
   "cell_type": "code",
   "execution_count": 47,
   "id": "810b114a-1d73-42b7-aa67-1dc1644e04f6",
   "metadata": {},
   "outputs": [
    {
     "name": "stdout",
     "output_type": "stream",
     "text": [
      "홍길동은 20살입니다.\n"
     ]
    }
   ],
   "source": [
    "print(f'홍길동은 {age}살입니다.')"
   ]
  },
  {
   "cell_type": "code",
   "execution_count": null,
   "id": "bd02fe1b-149e-4557-a739-10a764a69986",
   "metadata": {},
   "outputs": [],
   "source": []
  }
 ],
 "metadata": {
  "kernelspec": {
   "display_name": "Python 3 (ipykernel)",
   "language": "python",
   "name": "python3"
  },
  "language_info": {
   "codemirror_mode": {
    "name": "ipython",
    "version": 3
   },
   "file_extension": ".py",
   "mimetype": "text/x-python",
   "name": "python",
   "nbconvert_exporter": "python",
   "pygments_lexer": "ipython3",
   "version": "3.11.4"
  }
 },
 "nbformat": 4,
 "nbformat_minor": 5
}
