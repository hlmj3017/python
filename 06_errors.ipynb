{
 "cells": [
  {
   "cell_type": "markdown",
   "id": "c6c15752-5240-4d48-bf2d-d14e0c19a7d0",
   "metadata": {},
   "source": [
    "# Error"
   ]
  },
  {
   "cell_type": "markdown",
   "id": "866d5b4b-d648-492f-b6f3-d9ba510946f3",
   "metadata": {},
   "source": [
    "## 1. syntax error"
   ]
  },
  {
   "cell_type": "code",
   "execution_count": 1,
   "id": "fee5b037-0754-49e2-9703-6d9339f3f67f",
   "metadata": {},
   "outputs": [
    {
     "ename": "SyntaxError",
     "evalue": "expected ':' (3448656250.py, line 3)",
     "output_type": "error",
     "traceback": [
      "\u001b[1;36m  Cell \u001b[1;32mIn[1], line 3\u001b[1;36m\u001b[0m\n\u001b[1;33m    else\u001b[0m\n\u001b[1;37m        ^\u001b[0m\n\u001b[1;31mSyntaxError\u001b[0m\u001b[1;31m:\u001b[0m expected ':'\n"
     ]
    }
   ],
   "source": [
    "if True:\n",
    "    pass\n",
    "else"
   ]
  },
  {
   "cell_type": "code",
   "execution_count": 2,
   "id": "7a8c950e-7f10-41c2-8eff-2d971a9e00ce",
   "metadata": {},
   "outputs": [
    {
     "ename": "SyntaxError",
     "evalue": "incomplete input (2401491204.py, line 1)",
     "output_type": "error",
     "traceback": [
      "\u001b[1;36m  Cell \u001b[1;32mIn[2], line 1\u001b[1;36m\u001b[0m\n\u001b[1;33m    print('hi'\u001b[0m\n\u001b[1;37m              ^\u001b[0m\n\u001b[1;31mSyntaxError\u001b[0m\u001b[1;31m:\u001b[0m incomplete input\n"
     ]
    }
   ],
   "source": [
    "print('hi'"
   ]
  },
  {
   "cell_type": "code",
   "execution_count": 3,
   "id": "db0ea8d3-243e-4077-9de4-1682976035b9",
   "metadata": {},
   "outputs": [
    {
     "ename": "SyntaxError",
     "evalue": "invalid syntax (3421040245.py, line 1)",
     "output_type": "error",
     "traceback": [
      "\u001b[1;36m  Cell \u001b[1;32mIn[3], line 1\u001b[1;36m\u001b[0m\n\u001b[1;33m    if True print('hello')\u001b[0m\n\u001b[1;37m            ^\u001b[0m\n\u001b[1;31mSyntaxError\u001b[0m\u001b[1;31m:\u001b[0m invalid syntax\n"
     ]
    }
   ],
   "source": [
    "if True print('hello')"
   ]
  },
  {
   "cell_type": "markdown",
   "id": "56069fc1-9254-484d-9367-71296a6e2f46",
   "metadata": {},
   "source": [
    "## 2. exception"
   ]
  },
  {
   "cell_type": "code",
   "execution_count": 6,
   "id": "8241f9d2-8a36-42f6-8a31-e65716eeb8e7",
   "metadata": {},
   "outputs": [
    {
     "ename": "ZeroDivisionError",
     "evalue": "division by zero",
     "output_type": "error",
     "traceback": [
      "\u001b[1;31m---------------------------------------------------------------------------\u001b[0m",
      "\u001b[1;31mZeroDivisionError\u001b[0m                         Traceback (most recent call last)",
      "Cell \u001b[1;32mIn[6], line 1\u001b[0m\n\u001b[1;32m----> 1\u001b[0m \u001b[38;5;28mprint\u001b[39m(\u001b[38;5;241;43m5\u001b[39;49m\u001b[38;5;241;43m/\u001b[39;49m\u001b[38;5;241;43m0\u001b[39;49m)   \u001b[38;5;66;03m# 0으로 나눌 수 없음\u001b[39;00m\n",
      "\u001b[1;31mZeroDivisionError\u001b[0m: division by zero"
     ]
    }
   ],
   "source": [
    "print(5/0)   # 0으로 나눌 수 없음"
   ]
  },
  {
   "cell_type": "code",
   "execution_count": 7,
   "id": "004a8adc-ed29-4da2-aa6f-cfa5d8ed0dfc",
   "metadata": {},
   "outputs": [
    {
     "ename": "NameError",
     "evalue": "name 'my_name' is not defined",
     "output_type": "error",
     "traceback": [
      "\u001b[1;31m---------------------------------------------------------------------------\u001b[0m",
      "\u001b[1;31mNameError\u001b[0m                                 Traceback (most recent call last)",
      "Cell \u001b[1;32mIn[7], line 1\u001b[0m\n\u001b[1;32m----> 1\u001b[0m \u001b[38;5;28mprint\u001b[39m(\u001b[43mmy_name\u001b[49m)  \u001b[38;5;66;03m# my_name이 정의되지 않음\u001b[39;00m\n",
      "\u001b[1;31mNameError\u001b[0m: name 'my_name' is not defined"
     ]
    }
   ],
   "source": [
    "print(my_name)  # my_name이 정의되지 않음"
   ]
  },
  {
   "cell_type": "code",
   "execution_count": 10,
   "id": "91774ba7-94b8-4b2d-ae84-a748198e5f42",
   "metadata": {},
   "outputs": [
    {
     "ename": "TypeError",
     "evalue": "unsupported operand type(s) for +: 'int' and 'str'",
     "output_type": "error",
     "traceback": [
      "\u001b[1;31m---------------------------------------------------------------------------\u001b[0m",
      "\u001b[1;31mTypeError\u001b[0m                                 Traceback (most recent call last)",
      "Cell \u001b[1;32mIn[10], line 1\u001b[0m\n\u001b[1;32m----> 1\u001b[0m \u001b[38;5;28mprint\u001b[39m(\u001b[38;5;241;43m1\u001b[39;49m\u001b[43m \u001b[49m\u001b[38;5;241;43m+\u001b[39;49m\u001b[43m \u001b[49m\u001b[38;5;124;43m'\u001b[39;49m\u001b[38;5;124;43m1\u001b[39;49m\u001b[38;5;124;43m'\u001b[39;49m) \u001b[38;5;66;03m# int와 str 연산 불가능  # + : 덧셈\u001b[39;00m\n",
      "\u001b[1;31mTypeError\u001b[0m: unsupported operand type(s) for +: 'int' and 'str'"
     ]
    }
   ],
   "source": [
    "print(1 + '1') # int와 str 연산 불가능  # + : 덧셈"
   ]
  },
  {
   "cell_type": "code",
   "execution_count": 11,
   "id": "8017662a-f2c1-4629-a9de-c726d4c275a6",
   "metadata": {},
   "outputs": [
    {
     "ename": "TypeError",
     "evalue": "can only concatenate str (not \"int\") to str",
     "output_type": "error",
     "traceback": [
      "\u001b[1;31m---------------------------------------------------------------------------\u001b[0m",
      "\u001b[1;31mTypeError\u001b[0m                                 Traceback (most recent call last)",
      "Cell \u001b[1;32mIn[11], line 1\u001b[0m\n\u001b[1;32m----> 1\u001b[0m \u001b[38;5;124;43m'\u001b[39;49m\u001b[38;5;124;43m1\u001b[39;49m\u001b[38;5;124;43m'\u001b[39;49m\u001b[43m \u001b[49m\u001b[38;5;241;43m+\u001b[39;49m\u001b[43m \u001b[49m\u001b[38;5;241;43m1\u001b[39;49m  \u001b[38;5;66;03m# + : concatenate 연결\u001b[39;00m\n",
      "\u001b[1;31mTypeError\u001b[0m: can only concatenate str (not \"int\") to str"
     ]
    }
   ],
   "source": [
    "'1' + 1  # + : concatenate 연결"
   ]
  },
  {
   "cell_type": "code",
   "execution_count": 12,
   "id": "78490fa7-626f-4015-a45b-82313f7bd36e",
   "metadata": {},
   "outputs": [],
   "source": [
    "import random"
   ]
  },
  {
   "cell_type": "code",
   "execution_count": 13,
   "id": "85d01bef-97b5-4380-8c2b-abef2fcc3acb",
   "metadata": {},
   "outputs": [
    {
     "ename": "TypeError",
     "evalue": "Random.sample() missing 1 required positional argument: 'k'",
     "output_type": "error",
     "traceback": [
      "\u001b[1;31m---------------------------------------------------------------------------\u001b[0m",
      "\u001b[1;31mTypeError\u001b[0m                                 Traceback (most recent call last)",
      "Cell \u001b[1;32mIn[13], line 1\u001b[0m\n\u001b[1;32m----> 1\u001b[0m \u001b[43mrandom\u001b[49m\u001b[38;5;241;43m.\u001b[39;49m\u001b[43msample\u001b[49m\u001b[43m(\u001b[49m\u001b[43m[\u001b[49m\u001b[38;5;241;43m1\u001b[39;49m\u001b[43m,\u001b[49m\u001b[38;5;241;43m2\u001b[39;49m\u001b[43m,\u001b[49m\u001b[38;5;241;43m3\u001b[39;49m\u001b[43m,\u001b[49m\u001b[38;5;241;43m4\u001b[39;49m\u001b[43m,\u001b[49m\u001b[38;5;241;43m5\u001b[39;49m\u001b[43m]\u001b[49m\u001b[43m)\u001b[49m\n",
      "\u001b[1;31mTypeError\u001b[0m: Random.sample() missing 1 required positional argument: 'k'"
     ]
    }
   ],
   "source": [
    "random.sample([1,2,3,4,5])"
   ]
  },
  {
   "cell_type": "code",
   "execution_count": 14,
   "id": "de78344e-e771-4f8e-9c7b-6b3cd604c55f",
   "metadata": {},
   "outputs": [
    {
     "ename": "TypeError",
     "evalue": "Random.sample() takes 3 positional arguments but 10 were given",
     "output_type": "error",
     "traceback": [
      "\u001b[1;31m---------------------------------------------------------------------------\u001b[0m",
      "\u001b[1;31mTypeError\u001b[0m                                 Traceback (most recent call last)",
      "Cell \u001b[1;32mIn[14], line 1\u001b[0m\n\u001b[1;32m----> 1\u001b[0m \u001b[43mrandom\u001b[49m\u001b[38;5;241;43m.\u001b[39;49m\u001b[43msample\u001b[49m\u001b[43m(\u001b[49m\u001b[43m[\u001b[49m\u001b[38;5;241;43m1\u001b[39;49m\u001b[43m,\u001b[49m\u001b[38;5;241;43m2\u001b[39;49m\u001b[43m,\u001b[49m\u001b[38;5;241;43m3\u001b[39;49m\u001b[43m,\u001b[49m\u001b[38;5;241;43m4\u001b[39;49m\u001b[43m,\u001b[49m\u001b[38;5;241;43m5\u001b[39;49m\u001b[43m]\u001b[49m\u001b[43m,\u001b[49m\u001b[43m \u001b[49m\u001b[38;5;241;43m2\u001b[39;49m\u001b[43m,\u001b[49m\u001b[38;5;241;43m2\u001b[39;49m\u001b[43m,\u001b[49m\u001b[38;5;241;43m2\u001b[39;49m\u001b[43m,\u001b[49m\u001b[38;5;241;43m2\u001b[39;49m\u001b[43m,\u001b[49m\u001b[38;5;241;43m2\u001b[39;49m\u001b[43m,\u001b[49m\u001b[38;5;241;43m2\u001b[39;49m\u001b[43m,\u001b[49m\u001b[38;5;241;43m2\u001b[39;49m\u001b[43m,\u001b[49m\u001b[38;5;241;43m2\u001b[39;49m\u001b[43m)\u001b[49m\n",
      "\u001b[1;31mTypeError\u001b[0m: Random.sample() takes 3 positional arguments but 10 were given"
     ]
    }
   ],
   "source": [
    "random.sample([1,2,3,4,5], 2,2,2,2,2,2,2,2)"
   ]
  },
  {
   "cell_type": "code",
   "execution_count": 15,
   "id": "6a518c19-2028-4858-9d94-178be0c51bd9",
   "metadata": {},
   "outputs": [
    {
     "ename": "ValueError",
     "evalue": "invalid literal for int() with base 10: '3.5'",
     "output_type": "error",
     "traceback": [
      "\u001b[1;31m---------------------------------------------------------------------------\u001b[0m",
      "\u001b[1;31mValueError\u001b[0m                                Traceback (most recent call last)",
      "Cell \u001b[1;32mIn[15], line 1\u001b[0m\n\u001b[1;32m----> 1\u001b[0m \u001b[38;5;28;43mint\u001b[39;49m\u001b[43m(\u001b[49m\u001b[38;5;124;43m'\u001b[39;49m\u001b[38;5;124;43m3.5\u001b[39;49m\u001b[38;5;124;43m'\u001b[39;49m\u001b[43m)\u001b[49m \n",
      "\u001b[1;31mValueError\u001b[0m: invalid literal for int() with base 10: '3.5'"
     ]
    }
   ],
   "source": [
    "int('3.5') "
   ]
  },
  {
   "cell_type": "code",
   "execution_count": 16,
   "id": "fe713f69-4d79-43cb-a22f-f19478d7439e",
   "metadata": {},
   "outputs": [
    {
     "ename": "ValueError",
     "evalue": "100 is not in list",
     "output_type": "error",
     "traceback": [
      "\u001b[1;31m---------------------------------------------------------------------------\u001b[0m",
      "\u001b[1;31mValueError\u001b[0m                                Traceback (most recent call last)",
      "Cell \u001b[1;32mIn[16], line 2\u001b[0m\n\u001b[0;32m      1\u001b[0m numbers \u001b[38;5;241m=\u001b[39m [\u001b[38;5;241m1\u001b[39m,\u001b[38;5;241m2\u001b[39m,\u001b[38;5;241m3\u001b[39m,\u001b[38;5;241m4\u001b[39m]\n\u001b[1;32m----> 2\u001b[0m \u001b[43mnumbers\u001b[49m\u001b[38;5;241;43m.\u001b[39;49m\u001b[43mindex\u001b[49m\u001b[43m(\u001b[49m\u001b[38;5;241;43m100\u001b[39;49m\u001b[43m)\u001b[49m\n",
      "\u001b[1;31mValueError\u001b[0m: 100 is not in list"
     ]
    }
   ],
   "source": [
    "numbers = [1,2,3,4]\n",
    "numbers.index(100)"
   ]
  },
  {
   "cell_type": "code",
   "execution_count": 17,
   "id": "c1a5693b-f24c-441f-9d8e-9155dfbd5ec4",
   "metadata": {},
   "outputs": [
    {
     "ename": "IndexError",
     "evalue": "list index out of range",
     "output_type": "error",
     "traceback": [
      "\u001b[1;31m---------------------------------------------------------------------------\u001b[0m",
      "\u001b[1;31mIndexError\u001b[0m                                Traceback (most recent call last)",
      "Cell \u001b[1;32mIn[17], line 1\u001b[0m\n\u001b[1;32m----> 1\u001b[0m \u001b[43mnumbers\u001b[49m\u001b[43m[\u001b[49m\u001b[38;5;241;43m100\u001b[39;49m\u001b[43m]\u001b[49m\n",
      "\u001b[1;31mIndexError\u001b[0m: list index out of range"
     ]
    }
   ],
   "source": [
    "numbers[100]"
   ]
  },
  {
   "cell_type": "code",
   "execution_count": 18,
   "id": "9e8487f8-b209-4aca-a9bd-d075c3f90461",
   "metadata": {},
   "outputs": [],
   "source": [
    "my_dict = {\n",
    "    'apple': '사과',\n",
    "    'banana': '바나나',\n",
    "}"
   ]
  },
  {
   "cell_type": "code",
   "execution_count": 19,
   "id": "70e57495-0d6b-4b18-b24e-fec25b099de6",
   "metadata": {},
   "outputs": [
    {
     "ename": "KeyError",
     "evalue": "'melon'",
     "output_type": "error",
     "traceback": [
      "\u001b[1;31m---------------------------------------------------------------------------\u001b[0m",
      "\u001b[1;31mKeyError\u001b[0m                                  Traceback (most recent call last)",
      "Cell \u001b[1;32mIn[19], line 1\u001b[0m\n\u001b[1;32m----> 1\u001b[0m \u001b[43mmy_dict\u001b[49m\u001b[43m[\u001b[49m\u001b[38;5;124;43m'\u001b[39;49m\u001b[38;5;124;43mmelon\u001b[39;49m\u001b[38;5;124;43m'\u001b[39;49m\u001b[43m]\u001b[49m\n",
      "\u001b[1;31mKeyError\u001b[0m: 'melon'"
     ]
    }
   ],
   "source": [
    "my_dict['melon']"
   ]
  },
  {
   "cell_type": "code",
   "execution_count": 20,
   "id": "180cdddc-a040-48cd-b7e1-86778665256f",
   "metadata": {},
   "outputs": [
    {
     "ename": "ModuleNotFoundError",
     "evalue": "No module named 'asdf'",
     "output_type": "error",
     "traceback": [
      "\u001b[1;31m---------------------------------------------------------------------------\u001b[0m",
      "\u001b[1;31mModuleNotFoundError\u001b[0m                       Traceback (most recent call last)",
      "Cell \u001b[1;32mIn[20], line 1\u001b[0m\n\u001b[1;32m----> 1\u001b[0m \u001b[38;5;28;01mimport\u001b[39;00m \u001b[38;5;21;01masdf\u001b[39;00m\n",
      "\u001b[1;31mModuleNotFoundError\u001b[0m: No module named 'asdf'"
     ]
    }
   ],
   "source": [
    "import asdf"
   ]
  },
  {
   "cell_type": "code",
   "execution_count": 21,
   "id": "f7db24d7-c173-42a7-89a8-d01e8735635e",
   "metadata": {},
   "outputs": [
    {
     "ename": "KeyboardInterrupt",
     "evalue": "",
     "output_type": "error",
     "traceback": [
      "\u001b[1;31m---------------------------------------------------------------------------\u001b[0m",
      "\u001b[1;31mKeyboardInterrupt\u001b[0m                         Traceback (most recent call last)",
      "Cell \u001b[1;32mIn[21], line 2\u001b[0m\n\u001b[0;32m      1\u001b[0m \u001b[38;5;28;01mwhile\u001b[39;00m \u001b[38;5;28;01mTrue\u001b[39;00m:\n\u001b[1;32m----> 2\u001b[0m     \u001b[38;5;28;01mcontinue\u001b[39;00m\n",
      "\u001b[1;31mKeyboardInterrupt\u001b[0m: "
     ]
    }
   ],
   "source": [
    "while True:\n",
    "    continue"
   ]
  },
  {
   "cell_type": "markdown",
   "id": "87088e45-7b93-487c-ae47-21ddafefd988",
   "metadata": {},
   "source": [
    "## 3. 예외처리\n",
    "```python\n",
    "try:\n",
    "    code\n",
    "except 예외:\n",
    "    code\n",
    "```"
   ]
  },
  {
   "cell_type": "code",
   "execution_count": 22,
   "id": "5167c0a2-8547-4eb0-ad60-a31f829d972d",
   "metadata": {},
   "outputs": [
    {
     "name": "stdin",
     "output_type": "stream",
     "text": [
      "숫자를 입력해주세요 :  123\n"
     ]
    },
    {
     "name": "stdout",
     "output_type": "stream",
     "text": [
      "123의 세제곱은 1860867 입니다.\n"
     ]
    }
   ],
   "source": [
    "try:\n",
    "    num = int(input('숫자를 입력해주세요 : '))\n",
    "    print(f'{num}의 세제곱은 {num**3} 입니다.')\n",
    "except ValueError:\n",
    "    print('숫자를 입력하세요!!!!')"
   ]
  },
  {
   "cell_type": "code",
   "execution_count": 25,
   "id": "f5bf28b7-f04f-4187-9689-82930642b99e",
   "metadata": {},
   "outputs": [
    {
     "name": "stdin",
     "output_type": "stream",
     "text": [
      "숫자를 입력해주세요 :  asdf\n"
     ]
    },
    {
     "name": "stdout",
     "output_type": "stream",
     "text": [
      "숫자를 입력하세요!!!!\n"
     ]
    }
   ],
   "source": [
    "try:\n",
    "    num = int(input('숫자를 입력해주세요 : '))\n",
    "    print(f'{num}의 세제곱은 {num**3} 입니다.')\n",
    "except ValueError:\n",
    "    print('숫자를 입력하세요!!!!')"
   ]
  },
  {
   "cell_type": "code",
   "execution_count": 33,
   "id": "ac1c801a-10fc-45e0-8b48-ea57d5a77b4f",
   "metadata": {},
   "outputs": [
    {
     "name": "stdin",
     "output_type": "stream",
     "text": [
      "나눌값을 입력해주세요: ㅁㄴㅇ\n"
     ]
    },
    {
     "name": "stdout",
     "output_type": "stream",
     "text": [
      "입력한 정보는 숫자가 아닙니다.\n"
     ]
    }
   ],
   "source": [
    "try:\n",
    "    num = int(input('나눌값을 입력해주세요:'))\n",
    "    print(f'100을 {num}으로 나누면 {100/num}입니다.')\n",
    "except ValueError:\n",
    "    print('입력한 정보는 숫자가 아닙니다.')\n",
    "except ZeroDivisionError:\n",
    "    print('수학적으로 0으로 나눌 수 없습니다.')"
   ]
  },
  {
   "cell_type": "code",
   "execution_count": 34,
   "id": "c9a17a04-e2f7-463e-a1cd-9f2a335e0ee0",
   "metadata": {},
   "outputs": [
    {
     "name": "stdin",
     "output_type": "stream",
     "text": [
      "나눌값을 입력해주세요: ㅁㄴㅇ\n"
     ]
    },
    {
     "name": "stdout",
     "output_type": "stream",
     "text": [
      "문제발생\n"
     ]
    }
   ],
   "source": [
    "try:\n",
    "    num = int(input('나눌값을 입력해주세요:'))\n",
    "    print(f'100을 {num}으로 나누면 {100/num}입니다.')\n",
    "except (ValueError, ZeroDivisionError):\n",
    "    print('문제발생')\n"
   ]
  },
  {
   "cell_type": "code",
   "execution_count": 29,
   "id": "f8cc10d9-244b-4de4-83bb-6e6b1a997a4d",
   "metadata": {},
   "outputs": [
    {
     "name": "stdout",
     "output_type": "stream",
     "text": [
      "범위가 문제있어요\n",
      "list index out of range\n"
     ]
    }
   ],
   "source": [
    "try:\n",
    "    my_list = []\n",
    "    print(my_list[10])\n",
    "except IndexError as err:\n",
    "    print('범위가 문제있어요')\n",
    "    print(err)"
   ]
  },
  {
   "cell_type": "code",
   "execution_count": 37,
   "id": "5d6773a0-ab69-4669-b86c-9fd6748fdd42",
   "metadata": {},
   "outputs": [
    {
     "name": "stdout",
     "output_type": "stream",
     "text": [
      "200\n"
     ]
    }
   ],
   "source": [
    "# else => 예외를 일으키지 않을 때 실행되는 코드\n",
    "try:\n",
    "    numbers = [1,2,3]\n",
    "    num = numbers[1]\n",
    "except:\n",
    "    print('오류발생')\n",
    "else:\n",
    "    print(num * 100)"
   ]
  },
  {
   "cell_type": "code",
   "execution_count": 40,
   "id": "9afe9b7a-50c7-4fb3-9908-e59b070e8930",
   "metadata": {},
   "outputs": [
    {
     "name": "stdout",
     "output_type": "stream",
     "text": [
      "hello\n"
     ]
    }
   ],
   "source": [
    "# finally => 예외의 발생 여부와 상관없이 최종적으로 무조건 실행하는 코드\n",
    "try:\n",
    "    info = {\n",
    "        'name': 'kim',\n",
    "        'location': 'seoul',\n",
    "    }\n",
    "    info['name']\n",
    "except:\n",
    "    print('없는 키입니다.')\n",
    "finally:\n",
    "    print('hello')"
   ]
  },
  {
   "cell_type": "code",
   "execution_count": 41,
   "id": "747efa73-502f-48de-bb30-a24adb75618b",
   "metadata": {},
   "outputs": [
    {
     "ename": "RuntimeError",
     "evalue": "No active exception to reraise",
     "output_type": "error",
     "traceback": [
      "\u001b[1;31m---------------------------------------------------------------------------\u001b[0m",
      "\u001b[1;31mRuntimeError\u001b[0m                              Traceback (most recent call last)",
      "Cell \u001b[1;32mIn[41], line 2\u001b[0m\n\u001b[0;32m      1\u001b[0m \u001b[38;5;66;03m# 예외를 강제로 발생시키는 상황에서 사용\u001b[39;00m\n\u001b[1;32m----> 2\u001b[0m \u001b[38;5;28;01mraise\u001b[39;00m\n",
      "\u001b[1;31mRuntimeError\u001b[0m: No active exception to reraise"
     ]
    }
   ],
   "source": [
    "# 예외를 강제로 발생시키는 상황에서 사용\n",
    "raise"
   ]
  },
  {
   "cell_type": "code",
   "execution_count": 45,
   "id": "06c22149-d9c9-44d4-bca6-19c15d23e201",
   "metadata": {},
   "outputs": [
    {
     "name": "stdout",
     "output_type": "stream",
     "text": [
      "0으로 나눌 수 없습니다.\n",
      "None\n",
      "숫자를 넣어야 합니다.\n",
      "None\n",
      "2.5\n"
     ]
    }
   ],
   "source": [
    "# 연습\n",
    "def my_div(num1, num2):\n",
    "    try:\n",
    "        result = num1 / num2\n",
    "    except ZeroDivisionError:\n",
    "        print('0으로 나눌 수 없습니다.')\n",
    "    except:\n",
    "        print('숫자를 넣어야 합니다.')\n",
    "    else:\n",
    "        return result\n",
    "\n",
    "print(my_div(5, 0))\n",
    "print(my_div('5', '0'))\n",
    "print(my_div(5, 2))"
   ]
  },
  {
   "cell_type": "code",
   "execution_count": null,
   "id": "684f3dbf-41ac-4ef1-b9a9-adb74cc8f12f",
   "metadata": {},
   "outputs": [],
   "source": []
  }
 ],
 "metadata": {
  "kernelspec": {
   "display_name": "Python 3 (ipykernel)",
   "language": "python",
   "name": "python3"
  },
  "language_info": {
   "codemirror_mode": {
    "name": "ipython",
    "version": 3
   },
   "file_extension": ".py",
   "mimetype": "text/x-python",
   "name": "python",
   "nbconvert_exporter": "python",
   "pygments_lexer": "ipython3",
   "version": "3.11.4"
  }
 },
 "nbformat": 4,
 "nbformat_minor": 5
}
