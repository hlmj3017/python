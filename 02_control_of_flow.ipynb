{
 "cells": [
  {
   "cell_type": "markdown",
   "id": "715fe8ca-d135-464d-a5d5-a670e4021f79",
   "metadata": {},
   "source": [
    "## 제어문"
   ]
  },
  {
   "cell_type": "markdown",
   "id": "81397ba6-7e22-4e0a-bd69-2bff8b3920fd",
   "metadata": {},
   "source": [
    "### 조건문 (if문)\n",
    "\n",
    "1. `if` 문은 반드시 일정한 참/거짓을 판단할 수 있는 `조건식`과 함께 사용한다. (`if <조건식>:`)\n",
    "2. `<조건식>`이 참인 경우 `:` 이후의 문장을 실행한다.\n",
    "3. `<조건식>`이 거짓인 경우  `else:` 이후의 문장을 실행한다.\n"
   ]
  },
  {
   "cell_type": "code",
   "execution_count": 1,
   "id": "23ec71a9-3908-4114-9f1b-b995a5b109ff",
   "metadata": {},
   "outputs": [
    {
     "name": "stdin",
     "output_type": "stream",
     "text": [
      " 123\n"
     ]
    },
    {
     "name": "stdout",
     "output_type": "stream",
     "text": [
      "크리스마스가 아닙니다\n"
     ]
    }
   ],
   "source": [
    "my_string = input()\n",
    "\n",
    "if my_string == '12/25':\n",
    "    print('크리스마스입니다.')\n",
    "else:\n",
    "    print('크리스마스가 아닙니다')"
   ]
  },
  {
   "cell_type": "code",
   "execution_count": 12,
   "id": "d922540a-7c31-4f46-a46d-8339ed0c95e6",
   "metadata": {},
   "outputs": [
    {
     "name": "stdin",
     "output_type": "stream",
     "text": [
      "숫자를 입력해주세요 123\n"
     ]
    },
    {
     "name": "stdout",
     "output_type": "stream",
     "text": [
      "123\n",
      "<class 'str'>\n"
     ]
    }
   ],
   "source": [
    "num = input('숫자를 입력해주세요')\n",
    "print(num)\n",
    "print(type(num))\n",
    "num = int(num)"
   ]
  },
  {
   "cell_type": "code",
   "execution_count": 13,
   "id": "afccb340-ff5b-40b9-990e-aed15819835a",
   "metadata": {},
   "outputs": [
    {
     "name": "stdout",
     "output_type": "stream",
     "text": [
      "홀수입니다.\n"
     ]
    }
   ],
   "source": [
    "# 조건문을 사용해서 num에 들어있는 숫자가 홀수/짝수 인지 판볍\n",
    "if (num % 2) == 0:\n",
    "    print('짝수입니다.')\n",
    "else:\n",
    "    print('홀수입니다.')"
   ]
  },
  {
   "cell_type": "code",
   "execution_count": 15,
   "id": "19290775-d971-4298-a148-96b0483142ec",
   "metadata": {},
   "outputs": [
    {
     "name": "stdout",
     "output_type": "stream",
     "text": [
      "홀수입니다.\n"
     ]
    }
   ],
   "source": [
    "# num을 2로 나눈 나머지는 0, 1 두가지 경우가 있다.\n",
    "# if문의 조건시에 0, 1은 자동형변환이 일어나  False, True로 변환된다.\n",
    "if num % 2:\n",
    "    print('홀수입니다.')\n",
    "else:\n",
    "    print('짝수입니다.')"
   ]
  },
  {
   "cell_type": "markdown",
   "id": "ab4750e9-fab4-4afb-973f-b007c8ad4666",
   "metadata": {},
   "source": [
    "### elif\n",
    "\n",
    "```\n",
    "if <조건식>:\n",
    "    if 조건이 참인 경우 실행\n",
    "elif <조건식>:\n",
    "    elif 조거이 참인 경우 실행\n",
    "...\n",
    "else:\n",
    "    위의 조건식에 하나도 부합하지 않는 경우 실행\n",
    "```"
   ]
  },
  {
   "cell_type": "code",
   "execution_count": 32,
   "id": "37a544d9-8a51-4e02-99f3-a81d71b9152d",
   "metadata": {},
   "outputs": [
    {
     "name": "stdin",
     "output_type": "stream",
     "text": [
      " 99\n"
     ]
    }
   ],
   "source": [
    "score = int(input())"
   ]
  },
  {
   "cell_type": "code",
   "execution_count": 34,
   "id": "ac5640d0-9dc8-492c-8f94-6b860a1d86e2",
   "metadata": {},
   "outputs": [
    {
     "name": "stdout",
     "output_type": "stream",
     "text": [
      "A\n",
      "참 잘했어요\n"
     ]
    }
   ],
   "source": [
    "# 90점 이상 A (95점이상 '참 잘했어요')\n",
    "# 80점 이상 B\n",
    "# 70점 이상 C\n",
    "# 나머지 F\n",
    "\n",
    "if score >= 90:\n",
    "    print('A')\n",
    "    if score >= 95:\n",
    "        print('참 잘했어요')\n",
    "elif score >= 80:\n",
    "    print('B')\n",
    "elif score >= 70:\n",
    "    print('C')\n",
    "else:\n",
    "    print('F')"
   ]
  },
  {
   "cell_type": "markdown",
   "id": "2ce15be0-03ec-4c3e-bcaf-a848c3a3d3c5",
   "metadata": {},
   "source": [
    "## 조건표현식\n",
    "\n",
    "```\n",
    "true_value if <조건식> else false_value\n",
    "```"
   ]
  },
  {
   "cell_type": "code",
   "execution_count": 35,
   "id": "fb74b692-fdc4-4598-a005-0cbf96149b83",
   "metadata": {},
   "outputs": [
    {
     "name": "stdout",
     "output_type": "stream",
     "text": [
      "False\n"
     ]
    }
   ],
   "source": [
    "print('True') if 1 <0 else print('False')"
   ]
  },
  {
   "cell_type": "code",
   "execution_count": 36,
   "id": "15aaf6b9-48ee-40e3-917b-203a3bb21c71",
   "metadata": {},
   "outputs": [
    {
     "name": "stdout",
     "output_type": "stream",
     "text": [
      "False\n"
     ]
    }
   ],
   "source": [
    "if 1 < 0:\n",
    "    print('True')\n",
    "else:\n",
    "    print('False')"
   ]
  },
  {
   "cell_type": "code",
   "execution_count": 40,
   "id": "82b5d871-0752-4889-a4bd-e069f9d91c58",
   "metadata": {},
   "outputs": [
    {
     "name": "stdout",
     "output_type": "stream",
     "text": [
      "5\n"
     ]
    }
   ],
   "source": [
    "num = 5\n",
    "value = num if num >= 0 else 0\n",
    "print(value)"
   ]
  },
  {
   "cell_type": "code",
   "execution_count": 41,
   "id": "bf4b3c0e-b9a0-4b6b-9595-5ab98ae6c0cf",
   "metadata": {},
   "outputs": [
    {
     "name": "stdout",
     "output_type": "stream",
     "text": [
      "0\n"
     ]
    }
   ],
   "source": [
    "num = -5\n",
    "if num >= 0:\n",
    "    value = num\n",
    "else:\n",
    "    value = 0\n",
    "print(value)"
   ]
  },
  {
   "cell_type": "code",
   "execution_count": 42,
   "id": "9d08c93e-d9d7-4a0f-907f-e6842b33e888",
   "metadata": {},
   "outputs": [
    {
     "name": "stdout",
     "output_type": "stream",
     "text": [
      "짝수\n"
     ]
    }
   ],
   "source": [
    "num = 2\n",
    "if num % 2 == 1:\n",
    "    result = '홀수'\n",
    "else:\n",
    "    result = '짝수'\n",
    "print(result)"
   ]
  },
  {
   "cell_type": "code",
   "execution_count": 43,
   "id": "093a3702-99a4-49ed-88c9-bdb9719511ae",
   "metadata": {},
   "outputs": [
    {
     "name": "stdout",
     "output_type": "stream",
     "text": [
      "짝수\n"
     ]
    }
   ],
   "source": [
    "num = 2\n",
    "\n",
    "result = '홀수' if num % 2 == 1 else '짝수'\n",
    "print(result)"
   ]
  },
  {
   "cell_type": "markdown",
   "id": "e2673fba-78ac-448d-93c1-d78db005cfa8",
   "metadata": {},
   "source": [
    "## 반복문\n",
    "\n",
    "### while문\n",
    "\n",
    "```\n",
    "while <조건식>:\n",
    "    실행할 코드\n",
    "```"
   ]
  },
  {
   "cell_type": "code",
   "execution_count": 1,
   "id": "9cedee09-b930-41af-8aa5-dbedb5ab2d0b",
   "metadata": {},
   "outputs": [
    {
     "name": "stdout",
     "output_type": "stream",
     "text": [
      "0\n",
      "1\n",
      "2\n",
      "3\n",
      "4\n"
     ]
    }
   ],
   "source": [
    "a = 0\n",
    "\n",
    "while a < 5:\n",
    "    print(a)\n",
    "    a += 1\n",
    "    # a = a + 1"
   ]
  },
  {
   "cell_type": "code",
   "execution_count": 3,
   "id": "689654ec-3a00-43c9-bcfa-040ab07edbbe",
   "metadata": {},
   "outputs": [
    {
     "name": "stdin",
     "output_type": "stream",
     "text": [
      "안녕이라고 해줘 :  안녕\n"
     ]
    }
   ],
   "source": [
    "# 사용자가 '안녕' 이라고 할 때까지 계속 입혁을 요청받는 코드\n",
    "\n",
    "greeting = ''\n",
    "\n",
    "while greeting != '안녕':\n",
    "    greeting = input('안녕이라고 해줘 : ')"
   ]
  },
  {
   "cell_type": "markdown",
   "id": "eeec18da-64d3-48bc-8020-ca0e99c7d311",
   "metadata": {},
   "source": [
    "### for\n",
    "\n",
    "정해진 범위 내의 반복\n",
    "\n",
    "```\n",
    "for variable in sequence:\n",
    "    code\n",
    "```\n"
   ]
  },
  {
   "cell_type": "code",
   "execution_count": 4,
   "id": "32f97afc-cfa0-4115-85f4-6185e556271c",
   "metadata": {},
   "outputs": [
    {
     "name": "stdout",
     "output_type": "stream",
     "text": [
      "1\n",
      "2\n",
      "3\n",
      "4\n",
      "5\n"
     ]
    }
   ],
   "source": [
    "numbers = [1, 2, 3, 4, 5]\n",
    "\n",
    "for number in numbers:\n",
    "    print(number)"
   ]
  },
  {
   "cell_type": "code",
   "execution_count": 6,
   "id": "5b6b096d-5f33-4dda-9d92-a854212b3ff0",
   "metadata": {},
   "outputs": [
    {
     "name": "stdin",
     "output_type": "stream",
     "text": [
      "단어를 입력해주세요:  apple\n"
     ]
    },
    {
     "name": "stdout",
     "output_type": "stream",
     "text": [
      "a\n",
      "p\n",
      "p\n",
      "l\n",
      "e\n"
     ]
    }
   ],
   "source": [
    "# for문을 사용해서 사용자가 입력한 데이터를 한글자씩 출력하는 코드\n",
    "\n",
    "word = input('단어를 입력해주세요: ')\n",
    "\n",
    "for char in word:\n",
    "    print(char)"
   ]
  },
  {
   "cell_type": "code",
   "execution_count": 7,
   "id": "eb252463-6c0d-44f1-aaa3-a5925f37c8f7",
   "metadata": {},
   "outputs": [
    {
     "name": "stdout",
     "output_type": "stream",
     "text": [
      "0\n",
      "1\n",
      "2\n",
      "3\n",
      "4\n"
     ]
    }
   ],
   "source": [
    "for i in range(5):\n",
    "    print(i)"
   ]
  },
  {
   "cell_type": "code",
   "execution_count": 8,
   "id": "538d4a14-5afd-4561-a65f-5a8ec5cb018a",
   "metadata": {},
   "outputs": [
    {
     "name": "stdout",
     "output_type": "stream",
     "text": [
      "1\n",
      "2\n",
      "3\n",
      "4\n",
      "5\n"
     ]
    }
   ],
   "source": [
    "for i in (1, 2, 3, 4, 5):\n",
    "    print(i)"
   ]
  },
  {
   "cell_type": "code",
   "execution_count": 19,
   "id": "6e548f90-9e01-4e9e-8334-7e5f93b3d26c",
   "metadata": {},
   "outputs": [
    {
     "name": "stdout",
     "output_type": "stream",
     "text": [
      "[1, 3, 5, 7, 9, 11, 13, 15, 17, 19, 21, 23, 25, 27, 29]\n"
     ]
    }
   ],
   "source": [
    "# 1. 1~30까지 숫자 중에서 홀수 출력\n",
    "# 2. 1~30까지 숫자 중에서 홀수들을 모아 리스트로 출력\n",
    "\n",
    "numbers = range(31)\n",
    "result = []\n",
    "\n",
    "for number in numbers:\n",
    "    if number % 2 == 1:\n",
    "        #print(number)\n",
    "        result.append(number)\n",
    "\n",
    "print(result)"
   ]
  },
  {
   "cell_type": "code",
   "execution_count": 26,
   "id": "cf2fb465-8e75-4b21-b5ca-293c6cf79bec",
   "metadata": {},
   "outputs": [
    {
     "name": "stdout",
     "output_type": "stream",
     "text": [
      "0\n",
      "라면\n",
      "1\n",
      "김밥\n",
      "2\n",
      "돈까스\n"
     ]
    }
   ],
   "source": [
    "menus = ['라면', '김밥', '돈까스']\n",
    "\n",
    "for menu in enumerate(menus):  \n",
    "    print(menu[0])\n",
    "    print(menu[1])"
   ]
  },
  {
   "cell_type": "code",
   "execution_count": 29,
   "id": "ce03b1c8-52ac-4222-a128-8bcc8a752c62",
   "metadata": {},
   "outputs": [
    {
     "name": "stdout",
     "output_type": "stream",
     "text": [
      "0\n",
      "라면\n",
      "1\n",
      "김밥\n",
      "2\n",
      "돈까스\n"
     ]
    }
   ],
   "source": [
    "menus = ['라면', '김밥', '돈까스']\n",
    "\n",
    "for idx, menu in enumerate(menus):  # idx는 인덱스가 필요할 때\n",
    "    print(idx)\n",
    "    print(menu)"
   ]
  },
  {
   "cell_type": "markdown",
   "id": "f79c61c7-9f4b-4537-ba6f-fcd1f250e458",
   "metadata": {},
   "source": [
    "## dictionary 반복\n",
    "\n",
    "1. for key in dict:\n",
    "2. for key in dict.keys():\n",
    "3. for value in dict.values():\n",
    "4. for key, value in dict.items():"
   ]
  },
  {
   "cell_type": "code",
   "execution_count": 31,
   "id": "09bbf83a-9daa-4a09-8ce3-9b5ad62e5a82",
   "metadata": {},
   "outputs": [],
   "source": [
    "info = {\n",
    "    'name': 'minjin',\n",
    "    'location': 'seoul',\n",
    "    'phone': '010-1234-1234',\n",
    "}"
   ]
  },
  {
   "cell_type": "code",
   "execution_count": 33,
   "id": "ab95eeaa-e92f-4a16-925e-aa2d1b29a28a",
   "metadata": {},
   "outputs": [
    {
     "name": "stdout",
     "output_type": "stream",
     "text": [
      "name\n",
      "minjin\n",
      "location\n",
      "seoul\n",
      "phone\n",
      "010-1234-1234\n"
     ]
    }
   ],
   "source": [
    "for i in info:\n",
    "    print(i)\n",
    "    print(info[i])"
   ]
  },
  {
   "cell_type": "code",
   "execution_count": 34,
   "id": "572ea456-e747-47e4-84df-368a1369de4a",
   "metadata": {},
   "outputs": [],
   "source": [
    "blood_type = {\n",
    "    'A': 5,\n",
    "    'B': 4,\n",
    "    'O': 2,\n",
    "    'AB': 3,\n",
    "}"
   ]
  },
  {
   "cell_type": "code",
   "execution_count": 36,
   "id": "02dd8ddb-616d-41e0-b933-b9ede63bae56",
   "metadata": {},
   "outputs": [
    {
     "name": "stdout",
     "output_type": "stream",
     "text": [
      "혈액형 목록은 다음과 같습니다.\n",
      "A\n",
      "B\n",
      "O\n",
      "AB\n"
     ]
    }
   ],
   "source": [
    "print('혈액형 목록은 다음과 같습니다.')\n",
    "for key in blood_type:\n",
    "    print(key)"
   ]
  },
  {
   "cell_type": "code",
   "execution_count": 38,
   "id": "dd4d5170-8db7-4285-b938-a5db0561a25e",
   "metadata": {},
   "outputs": [
    {
     "name": "stdout",
     "output_type": "stream",
     "text": [
      "혈액형 목록은 다음과 같습니다.\n",
      "A\n",
      "B\n",
      "O\n",
      "AB\n"
     ]
    }
   ],
   "source": [
    "print('혈액형 목록은 다음과 같습니다.')\n",
    "for key in blood_type.keys():   # 더 명시적으로 표현\n",
    "    print(key)"
   ]
  },
  {
   "cell_type": "code",
   "execution_count": 40,
   "id": "9e7a7349-9ead-41ab-bb5d-c39d495177f9",
   "metadata": {},
   "outputs": [
    {
     "name": "stdout",
     "output_type": "stream",
     "text": [
      "총인원은 14명입니다.\n"
     ]
    }
   ],
   "source": [
    "result = 0\n",
    "for value in blood_type.values():\n",
    "    result = result + value\n",
    "print(f'총인원은 {result}명입니다.')"
   ]
  },
  {
   "cell_type": "code",
   "execution_count": 45,
   "id": "3f07dd0a-531e-457f-995f-aaa6d7979850",
   "metadata": {},
   "outputs": [
    {
     "name": "stdout",
     "output_type": "stream",
     "text": [
      "A형은 5명입니다.\n",
      "B형은 4명입니다.\n",
      "O형은 2명입니다.\n",
      "AB형은 3명입니다.\n"
     ]
    }
   ],
   "source": [
    "for key, value in blood_type.items():\n",
    "    print(f'{key}형은 {value}명입니다.')"
   ]
  },
  {
   "cell_type": "code",
   "execution_count": 43,
   "id": "022f2bbb-5686-45d4-9e8b-d7ac58e3eb17",
   "metadata": {},
   "outputs": [
    {
     "data": {
      "text/plain": [
       "dict_items([('A', 5), ('B', 4), ('O', 2), ('AB', 3)])"
      ]
     },
     "execution_count": 43,
     "metadata": {},
     "output_type": "execute_result"
    }
   ],
   "source": [
    "blood_type.items()"
   ]
  },
  {
   "cell_type": "markdown",
   "id": "f2c9806c-4f86-450e-83eb-f2aafbaab8a1",
   "metadata": {},
   "source": [
    "### break\n",
    "반복문을 종료시키는 키워드"
   ]
  },
  {
   "cell_type": "code",
   "execution_count": 46,
   "id": "c6655d57-5275-490b-86e6-c183d744910b",
   "metadata": {},
   "outputs": [
    {
     "name": "stdout",
     "output_type": "stream",
     "text": [
      "0\n",
      "1\n",
      "2\n",
      "3\n",
      "4\n",
      "5\n",
      "6\n",
      "7\n",
      "8\n",
      "9\n",
      "10\n",
      "10 넘었어\n"
     ]
    }
   ],
   "source": [
    "for i in range(100):\n",
    "    if i > 10:\n",
    "        print('10 넘었어')\n",
    "        break\n",
    "    print(i)"
   ]
  },
  {
   "cell_type": "code",
   "execution_count": 49,
   "id": "ca26f44d-15b8-4ecf-b9e9-7c1d4f954e8d",
   "metadata": {},
   "outputs": [
    {
     "name": "stdout",
     "output_type": "stream",
     "text": [
      "보리\n",
      "보리\n",
      "보리\n",
      "쌀\n",
      "잡았다!\n"
     ]
    }
   ],
   "source": [
    "rice = ['보리', '보리', '보리', '쌀', '보리']\n",
    "# 보리, 보리, 보리, 쌀, 잡았다! => X\n",
    "\n",
    "for i in rice:\n",
    "    print(i)\n",
    "    if i == '쌀':\n",
    "        print('잡았다!')\n",
    "        break"
   ]
  },
  {
   "cell_type": "markdown",
   "id": "1e09d0bf-95f1-459d-9784-93b72671e68d",
   "metadata": {},
   "source": [
    "### continue\n",
    "continue 이후의 코드를 실행하지 않고 다음 반복을 진행"
   ]
  },
  {
   "cell_type": "code",
   "execution_count": 50,
   "id": "97a9d737-e5e7-49f0-ae7e-264753aca810",
   "metadata": {},
   "outputs": [
    {
     "name": "stdout",
     "output_type": "stream",
     "text": [
      "0\n",
      "2\n",
      "4\n",
      "6\n",
      "8\n"
     ]
    }
   ],
   "source": [
    "for i in range(10):\n",
    "    if i % 2:\n",
    "        continue\n",
    "    print(i)  # 홀수를 배제하고 짝수만 출력하는 코드"
   ]
  },
  {
   "cell_type": "code",
   "execution_count": 53,
   "id": "42b22cc3-f1eb-4487-9a2d-cdfd7ef926c6",
   "metadata": {},
   "outputs": [
    {
     "name": "stdout",
     "output_type": "stream",
     "text": [
      "35\n",
      "20\n",
      "40\n"
     ]
    }
   ],
   "source": [
    "age = [10, 35, 20, 18, 9, 40]\n",
    "\n",
    "for a in age:\n",
    "    if a < 20:\n",
    "        continue\n",
    "    print(a)   # 성인만 출력"
   ]
  },
  {
   "cell_type": "markdown",
   "id": "3ee8ac87-78a3-4bfd-a90f-20d6457ef5ad",
   "metadata": {},
   "source": [
    "### else\n",
    "else문은 끝까지 반복이 진행된 후 실행됩니다."
   ]
  },
  {
   "cell_type": "code",
   "execution_count": 54,
   "id": "cd91928f-456b-4998-9280-07d7f1ecbe19",
   "metadata": {},
   "outputs": [
    {
     "name": "stdout",
     "output_type": "stream",
     "text": [
      "0\n",
      "1\n",
      "2\n",
      "3\n",
      "4\n",
      "5\n",
      "6\n",
      "7\n",
      "8\n",
      "9\n",
      "break 못만남\n"
     ]
    }
   ],
   "source": [
    "for i in range(10):\n",
    "    if i > 100:\n",
    "        break\n",
    "    print(i)\n",
    "else:\n",
    "    print('break 못만남')"
   ]
  },
  {
   "cell_type": "code",
   "execution_count": 55,
   "id": "ddca8f28-a59b-46a8-a0fb-c113021b6eaa",
   "metadata": {},
   "outputs": [
    {
     "name": "stdout",
     "output_type": "stream",
     "text": [
      "0\n",
      "1\n",
      "2\n",
      "3\n",
      "4\n",
      "5\n"
     ]
    }
   ],
   "source": [
    "for i in range(10):\n",
    "    if i > 5:\n",
    "        break\n",
    "    print(i)\n",
    "else:\n",
    "    print('break 못만남')"
   ]
  },
  {
   "cell_type": "code",
   "execution_count": 56,
   "id": "8b6b8df2-f911-416d-872e-93314db7c79c",
   "metadata": {},
   "outputs": [
    {
     "name": "stdout",
     "output_type": "stream",
     "text": [
      "True\n",
      "False\n"
     ]
    }
   ],
   "source": [
    "numbers = [1, 3, 5, 7, 9]\n",
    "print(3 in numbers)\n",
    "print(2 in numbers)"
   ]
  },
  {
   "cell_type": "code",
   "execution_count": 57,
   "id": "1b1de819-6fa9-4457-bdc0-660025790873",
   "metadata": {},
   "outputs": [
    {
     "name": "stdout",
     "output_type": "stream",
     "text": [
      "False\n",
      "False\n",
      "True\n"
     ]
    }
   ],
   "source": [
    "numbers = [1, 3, 5, 7, 9]\n",
    "target = 5\n",
    "\n",
    "for number in numbers:\n",
    "    # if문을 통해 내가 원하는 숫자가 있으면 True\n",
    "    if number == target:\n",
    "        print('True')\n",
    "        break\n",
    "    else:\n",
    "        print('False')"
   ]
  },
  {
   "cell_type": "markdown",
   "id": "2937e59b-d444-4d0f-bc81-8326d7b8dcd9",
   "metadata": {},
   "source": [
    "### passs"
   ]
  },
  {
   "cell_type": "code",
   "execution_count": 58,
   "id": "89ea6761-9bf9-4ee2-aaf3-fa22dadf856f",
   "metadata": {},
   "outputs": [],
   "source": [
    "if True:\n",
    "    pass"
   ]
  },
  {
   "cell_type": "markdown",
   "id": "be96ccd4-beaf-4a21-8ca8-1d40dcc5b5c2",
   "metadata": {},
   "source": [
    "### match\n",
    "\n",
    "```\n",
    "match value:\n",
    "    case 조건:\n",
    "        code\n",
    "    case 조건:\n",
    "        code\n",
    "    case _:\n",
    "        code\n",
    "```"
   ]
  },
  {
   "cell_type": "code",
   "execution_count": 61,
   "id": "e4a81bf7-7932-4db2-9b33-dd4c27c02b1d",
   "metadata": {},
   "outputs": [
    {
     "name": "stdout",
     "output_type": "stream",
     "text": [
      "Not found\n"
     ]
    }
   ],
   "source": [
    "status = 404\n",
    "\n",
    "match status:\n",
    "    case 400:\n",
    "        print('Bad request')\n",
    "    case 404:\n",
    "        print('Not found')\n",
    "    case _:\n",
    "        print('something is wrong')"
   ]
  },
  {
   "cell_type": "code",
   "execution_count": null,
   "id": "19ec553a-50db-46a5-8cb5-6ce41f7bc11e",
   "metadata": {},
   "outputs": [],
   "source": []
  }
 ],
 "metadata": {
  "kernelspec": {
   "display_name": "Python 3 (ipykernel)",
   "language": "python",
   "name": "python3"
  },
  "language_info": {
   "codemirror_mode": {
    "name": "ipython",
    "version": 3
   },
   "file_extension": ".py",
   "mimetype": "text/x-python",
   "name": "python",
   "nbconvert_exporter": "python",
   "pygments_lexer": "ipython3",
   "version": "3.11.4"
  }
 },
 "nbformat": 4,
 "nbformat_minor": 5
}
